{
  "nbformat": 4,
  "nbformat_minor": 0,
  "metadata": {
    "colab": {
      "provenance": [],
      "include_colab_link": true
    },
    "kernelspec": {
      "name": "python3",
      "display_name": "Python 3"
    },
    "language_info": {
      "name": "python"
    },
    "accelerator": "GPU",
    "gpuClass": "standard"
  },
  "cells": [
    {
      "cell_type": "markdown",
      "metadata": {
        "id": "view-in-github",
        "colab_type": "text"
      },
      "source": [
        "<a href=\"https://colab.research.google.com/github/BANZOM/MachingLearningStuffs/blob/main/RES_NET.ipynb\" target=\"_parent\"><img src=\"https://colab.research.google.com/assets/colab-badge.svg\" alt=\"Open In Colab\"/></a>"
      ]
    },
    {
      "cell_type": "markdown",
      "source": [
        "**Importing the dataset so to give input to model**"
      ],
      "metadata": {
        "id": "fgK5V-Ow23Q7"
      }
    },
    {
      "cell_type": "code",
      "source": [
        "from google.colab import drive\n",
        "drive.mount('/content/drive')"
      ],
      "metadata": {
        "colab": {
          "base_uri": "https://localhost:8080/"
        },
        "id": "tdUcxfjtGuO0",
        "outputId": "6d283491-be27-4cd9-926e-4a0acb3c2a3a"
      },
      "execution_count": 3,
      "outputs": [
        {
          "output_type": "stream",
          "name": "stdout",
          "text": [
            "Drive already mounted at /content/drive; to attempt to forcibly remount, call drive.mount(\"/content/drive\", force_remount=True).\n"
          ]
        }
      ]
    },
    {
      "cell_type": "code",
      "source": [
        "import numpy as np \n",
        "import pandas as pd \n",
        "import matplotlib.pyplot as plt\n",
        "import os\n",
        "\n",
        "# Adi Ref: /content/drive/MyDrive/ColabNotebooks/BTdsYesNo/\n",
        "\n",
        "\n",
        "\n",
        "img_dir = '/content/drive/MyDrive/ColabNotebooks/BTdsYesNo/'\n",
        "\n",
        "dataset_path = os.listdir(img_dir)\n",
        "\n",
        "dataset_category = os.listdir(img_dir)\n",
        "print (dataset_category)  #what kinds of data are in this dataset\n",
        "\n",
        "print(\"Types of data found: \", len(dataset_path))\n",
        "\n"
      ],
      "metadata": {
        "colab": {
          "base_uri": "https://localhost:8080/"
        },
        "id": "hPRvLNVc16qH",
        "outputId": "adc970b4-acd7-4755-e44a-1c114e588a8d"
      },
      "execution_count": 22,
      "outputs": [
        {
          "output_type": "stream",
          "name": "stdout",
          "text": [
            "['no', 'yes']\n",
            "Types of data found:  2\n"
          ]
        }
      ]
    },
    {
      "cell_type": "markdown",
      "source": [
        "**Building the dataframe**"
      ],
      "metadata": {
        "id": "q1Q6Iua33nOg"
      }
    },
    {
      "cell_type": "code",
      "source": [
        "# !jupyter notebook --NotebookApp.iopub_data_rate_limit=1.0e10"
      ],
      "metadata": {
        "id": "752dvESs692e"
      },
      "execution_count": 23,
      "outputs": []
    },
    {
      "cell_type": "code",
      "source": [
        "dataset = []\n",
        "\n",
        "for item in dataset_category:\n",
        "    # Get all the file names\n",
        "    all_data = os.listdir(img_dir + '/' +item)\n",
        "\n",
        "    print(all_data)\n",
        "\n",
        " # Add them to the list\n",
        "    for images in all_data:\n",
        "        dataset.append((item, str(img_dir+ '/' +item) + '/' + images))\n",
        "        # print(dataset)"
      ],
      "metadata": {
        "id": "gsfjTxd_3rXG",
        "colab": {
          "base_uri": "https://localhost:8080/"
        },
        "outputId": "8dd1a9ee-c924-477c-dc34-31cf1e39e605"
      },
      "execution_count": 24,
      "outputs": [
        {
          "output_type": "stream",
          "name": "stdout",
          "text": [
            "['no266.jpg', 'no1410.jpg', 'no175.jpg', 'no150.jpg', 'no183.jpg', 'no234.jpg', 'no1164.jpg', 'no1135.jpg', 'no1286.jpg', 'no1194.jpg', 'no1482.jpg', 'no1281.jpg', 'no163.jpg', 'no1070.jpg', 'no254.jpg', 'no200.jpg', 'no1146.jpg', 'no1476.jpg', 'no258.jpg', 'no279.jpg', 'no1169.jpg', 'no1371.jpg', 'no290.jpg', 'no1076.jpg', 'no1098.jpg', 'no1435.jpg', 'no185.jpg', 'no1148.jpg', 'no1347.jpg', 'no1094.jpg', 'no1448.jpg', 'no1343.jpg', 'no1302.jpg', 'no1060.jpg', 'no239.jpg', 'no1145.jpg', 'no1425.jpg', 'no1244.jpg', 'no261.jpg', 'no176.jpg', 'no262.jpg', 'no1295.jpg', 'no214.jpg', 'no1312.jpg', 'no1325.jpg', 'no235.jpg', 'no1428.jpg', 'no1427.jpg', 'no1134.jpg', 'no124.jpg', 'no270.jpg', 'no1252.jpg', 'no1354.jpg', 'no1061.jpg', 'no1493.jpg', 'no252.jpg', 'no1219.jpg', 'no1215.jpg', 'no1268.jpg', 'no1332.jpg', 'no1497.jpg', 'no296.jpg', 'no260.jpg', 'no1082.jpg', 'no1112.jpg', 'no133.jpg', 'no1123.jpg', 'no1170.jpg', 'no1230.jpg', 'no1132.jpg', 'no146.jpg', 'no1227.jpg', 'no1452.jpg', 'no179.jpg', 'no1172.jpg', 'no1283.jpg', 'no1319.jpg', 'no1142.jpg', 'no1171.jpg', 'no1203.jpg', 'no1486.jpg', 'no106.jpg', 'no1471.jpg', 'no1157.jpg', 'no1101.jpg', 'no159.jpg', 'no1249.jpg', 'no1183.jpg', 'no26.jpg', 'no297.jpg', 'no1151.jpg', 'no1153.jpg', 'no168.jpg', 'no130.jpg', 'no233.jpg', 'no108.jpg', 'no1349.jpg', 'no24.jpg', 'no280.jpg', 'no1393.jpg', 'no1358.jpg', 'no1479.jpg', 'no1147.jpg', 'no1255.jpg', 'no1224.jpg', 'no1339.jpg', 'no1186.jpg', 'no1495.jpg', 'no1222.jpg', 'no1483.jpg', 'no1375.jpg', 'no1256.jpg', 'no1066.jpg', 'no1071.jpg', 'no1447.jpg', 'no249.jpg', 'no1053.jpg', 'no223.jpg', 'no181.jpg', 'no22.jpg', 'no1496.jpg', 'no1389.jpg', 'no158.jpg', 'no283.jpg', 'no227.jpg', 'no1245.jpg', 'no134.jpg', 'no211.jpg', 'no256.jpg', 'no295.jpg', 'no123.jpg', 'no1406.jpg', 'no1099.jpg', 'no1308.jpg', 'no1330.jpg', 'no1469.jpg', 'no274.jpg', 'no1195.jpg', 'no1311.jpg', 'no1378.jpg', 'no1345.jpg', 'no1113.jpg', 'no1409.jpg', 'no1355.jpg', 'no1461.jpg', 'no1168.jpg', 'no157.jpg', 'no1472.jpg', 'no1068.jpg', 'no1334.jpg', 'no1382.jpg', 'no1189.jpg', 'no1228.jpg', 'no229.jpg', 'no286.jpg', 'no288.jpg', 'no255.jpg', 'no1306.jpg', 'no1478.jpg', 'no1338.jpg', 'no1279.jpg', 'no155.jpg', 'no1235.jpg', 'no1086.jpg', 'no1372.jpg', 'no277.jpg', 'no1423.jpg', 'no1259.jpg', 'no140.jpg', 'no1052.jpg', 'no1116.jpg', 'no246.jpg', 'no1424.jpg', 'no1284.jpg', 'no190.jpg', 'no213.jpg', 'no1340.jpg', 'no1304.jpg', 'no1273.jpg', 'no138.jpg', 'no1210.jpg', 'no1160.jpg', 'no1246.jpg', 'no1166.jpg', 'no1464.jpg', 'no1353.jpg', 'no110.jpg', 'no125.jpg', 'no1276.jpg', 'no1361.jpg', 'no1298.jpg', 'no245.jpg', 'no1414.jpg', 'no1337.jpg', 'no119.jpg', 'no253.jpg', 'no1176.jpg', 'no1364.jpg', 'no1324.jpg', 'no1236.jpg', 'no171.jpg', 'no1178.jpg', 'no221.jpg', 'no1073.jpg', 'no1108.jpg', 'no25.jpg', 'no1300.jpg', 'no180.jpg', 'no23.jpg', 'no1314.jpg', 'no1491.jpg', 'no1401.jpg', 'no1326.jpg', 'no1179.jpg', 'no1192.jpg', 'no162.jpg', 'no153.jpg', 'no1150.jpg', 'no1088.jpg', 'no1124.jpg', 'no20.jpg', 'no687.jpg', 'no801.jpg', 'no562.jpg', 'no557.jpg', 'no432.jpg', 'no370.jpg', 'no568.jpg', 'no582.jpg', 'no364.jpg', 'no788.jpg', 'no749.jpg', 'no760.jpg', 'no515.jpg', 'no657.jpg', 'no367.jpg', 'no610.jpg', 'no369.jpg', 'no669.jpg', 'no42.jpg', 'no627.jpg', 'no360.jpg', 'no765.jpg', 'no775.jpg', 'no803.jpg', 'no730.jpg', 'no640.jpg', 'no748.jpg', 'no451.jpg', 'no381.jpg', 'no390.jpg', 'no400.jpg', 'no541.jpg', 'no468.jpg', 'no410.jpg', 'no345.jpg', 'no5.jpg', 'no536.jpg', 'no711.jpg', 'no619.jpg', 'no636.jpg', 'no770.jpg', 'no662.jpg', 'no666.jpg', 'no519.jpg', 'no474.jpg', 'no350.jpg', 'no70.jpg', 'no308.jpg', 'no44.jpg', 'no7.jpg', 'no347.jpg', 'no459.jpg', 'no719.jpg', 'no439.jpg', 'no372.jpg', 'no467.jpg', 'no734.jpg', 'no403.jpg', 'no385.jpg', 'no352.jpg', 'no341.jpg', 'no431.jpg', 'no553.jpg', 'no615.jpg', 'no388.jpg', 'no735.jpg', 'no3.jpg', 'no787.jpg', 'no412.jpg', 'no80.jpg', 'no737.jpg', 'no679.jpg', 'no559.jpg', 'no47.jpg', 'no302.jpg', 'no535.jpg', 'no450.jpg', 'no688.jpg', 'no507.jpg', 'no743.jpg', 'no722.jpg', 'no438.jpg', 'no585.jpg', 'no774.jpg', 'no695.jpg', 'no799.jpg', 'no490.jpg', 'no637.jpg', 'no35.jpg', 'no441.jpg', 'no538.jpg', 'no475.jpg', 'no689.jpg', 'no591.jpg', 'no394.jpg', 'no708.jpg', 'no332.jpg', 'no452.jpg', 'no620.jpg', 'no709.jpg', 'no424.jpg', 'no756.jpg', 'no411.jpg', 'no586.jpg', 'no594.jpg', 'no472.jpg', 'no481.jpg', 'no51.jpg', 'no641.jpg', 'no638.jpg', 'no484.jpg', 'no455.jpg', 'no321.jpg', 'no626.jpg', 'no375.jpg', 'no307.jpg', 'no526.jpg', 'no758.jpg', 'no59.jpg', 'no357.jpg', 'no732.jpg', 'no761.jpg', 'no520.jpg', 'no569.jpg', 'no532.jpg', 'no523.jpg', 'no566.jpg', 'no757.jpg', 'no684.jpg', 'no298.jpg', 'no726.jpg', 'no700.jpg', 'no589.jpg', 'no41.jpg', 'no522.jpg', 'no435.jpg', 'no368.jpg', 'no323.jpg', 'no399.jpg', 'no595.jpg', 'no353.jpg', 'no31.jpg', 'no389.jpg', 'no469.jpg', 'no647.jpg', 'no692.jpg', 'no543.jpg', 'no674.jpg', 'no564.jpg', 'no629.jpg', 'no322.jpg', 'no634.jpg', 'no584.jpg', 'no338.jpg', 'no606.jpg', 'no607.jpg', 'no614.jpg', 'no633.jpg', 'no673.jpg', 'no706.jpg', 'no509.jpg', 'no342.jpg', 'no4.jpg', 'no672.jpg', 'no63.jpg', 'no38.jpg', 'no317.jpg', 'no486.jpg', 'no772.jpg', 'no698.jpg', 'no576.jpg', 'no548.jpg', 'no600.jpg', 'no521.jpg', 'no751.jpg', 'no561.jpg', 'no356.jpg', 'no762.jpg', 'no602.jpg', 'no675.jpg', 'no463.jpg', 'no331.jpg', 'no556.jpg', 'no324.jpg', 'no690.jpg', 'no661.jpg', 'no466.jpg', 'no530.jpg', 'no658.jpg', 'no485.jpg', 'no40.jpg', 'no745.jpg', 'no68.jpg', 'no664.jpg', 'no733.jpg', 'no763.jpg', 'no383.jpg', 'no802.jpg', 'no667.jpg', 'no414.jpg', 'no651.jpg', 'no427.jpg', 'no604.jpg', 'no473.jpg', 'no419.jpg', 'no796.jpg', 'no728.jpg', 'no319.jpg', 'no660.jpg', 'no461.jpg', 'no555.jpg', 'no445.jpg', 'no747.jpg', 'no482.jpg', 'no668.jpg', 'no391.jpg', 'no581.jpg', 'no575.jpg', 'no593.jpg', 'no401.jpg', 'no693.jpg', 'no654.jpg', 'no544.jpg', 'no513.jpg', 'no373.jpg', 'no409.jpg', 'no355.jpg', 'no349.jpg', 'no72.jpg', 'no316.jpg', 'no54.jpg', 'no771.jpg', 'no611.jpg', 'no453.jpg', 'no393.jpg', 'no742.jpg', 'no691.jpg', 'no503.jpg', 'no408.jpg', 'no498.jpg', 'no504.jpg', 'no443.jpg', 'no753.jpg', 'no782.jpg', 'no494.jpg', 'no715.jpg', 'no560.jpg', 'no789.jpg', 'no528.jpg', 'no649.jpg', 'no779.jpg', 'no32.jpg', 'no392.jpg', 'no550.jpg', 'no784.jpg', 'no429.jpg', 'no497.jpg', 'no786.jpg', 'no77.jpg', 'no795.jpg', 'no50.jpg', 'no511.jpg', 'no303.jpg', 'no718.jpg', 'no806.jpg', 'no430.jpg', 'no458.jpg', 'no785.jpg', 'no359.jpg', 'no336.jpg', 'no590.jpg', 'no746.jpg', 'no686.jpg', 'no447.jpg', 'no605.jpg', 'no456.jpg', 'no776.jpg', 'no791.jpg', 'no405.jpg', 'no579.jpg', 'no6.jpg', 'no601.jpg', 'no609.jpg', 'no380.jpg', 'no75.jpg', 'no736.jpg', 'no652.jpg', 'no55.jpg', 'no642.jpg', 'no501.jpg', 'no48.jpg', 'no339.jpg', 'no506.jpg', 'no617.jpg', 'no646.jpg', 'no52.jpg', 'no465.jpg', 'no311.jpg', 'no361.jpg', 'no479.jpg', 'no304.jpg', 'no502.jpg', 'no73.jpg', 'no74.jpg', 'no676.jpg', 'no558.jpg', 'no396.jpg', 'no663.jpg', 'no583.jpg', 'no573.jpg', 'no326.jpg', 'no537.jpg', 'no67.jpg', 'no655.jpg', 'no524.jpg', 'no66.jpg', 'no644.jpg', 'no625.jpg', 'no529.jpg', 'no781.jpg', 'no804.jpg', 'no744.jpg', 'no551.jpg', 'no635.jpg', 'no510.jpg', 'no489.jpg', 'no694.jpg', 'no613.jpg', 'no327.jpg', 'no448.jpg', 'no46.jpg', 'no402.jpg', 'no421.jpg', 'no678.jpg', 'no632.jpg', 'no631.jpg', 'no505.jpg', 'no665.jpg', 'no36.jpg', 'no793.jpg', 'no488.jpg', 'no702.jpg', 'no314.jpg', 'no705.jpg', 'no731.jpg', 'no587.jpg', 'no653.jpg', 'no670.jpg', 'no426.jpg', 'no703.jpg', 'no395.jpg', 'no378.jpg', 'no729.jpg', 'no442.jpg', 'no683.jpg', 'no39.jpg', 'no305.jpg', 'no738.jpg', 'no61.jpg', 'no621.jpg', 'no43.jpg', 'no773.jpg', 'no315.jpg', 'no437.jpg', 'no685.jpg', 'no549.jpg', 'no648.jpg', 'no725.jpg', 'no547.jpg', 'no337.jpg', 'no527.jpg', 'no554.jpg', 'no540.jpg', 'no777.jpg', 'no598.jpg', 'no599.jpg', 'no643.jpg', 'no471.jpg', 'no500.jpg', 'no34.jpg', 'no478.jpg', 'no570.jpg', 'no8.jpg', 'no37.jpg', 'no680.jpg', 'no406.jpg', 'no577.jpg', 'no397.jpg', 'no457.jpg', 'no622.jpg', 'no49.jpg', 'no780.jpg', 'no659.jpg', 'no71.jpg', 'no312.jpg', 'no454.jpg', 'no351.jpg', 'no800.jpg', 'no707.jpg', 'no377.jpg', 'no416.jpg', 'no318.jpg', 'no727.jpg', 'no571.jpg', 'no476.jpg', 'no797.jpg', 'no534.jpg', 'no764.jpg', 'no572.jpg', 'no470.jpg', 'no366.jpg', 'no512.jpg', 'no493.jpg', 'no592.jpg', 'no480.jpg', 'no574.jpg', 'no376.jpg', 'no330.jpg', 'no334.jpg', 'no721.jpg', 'no778.jpg', 'no623.jpg', 'no343.jpg', 'no720.jpg', 'no425.jpg', 'no496.jpg', 'no58.jpg', 'no612.jpg', 'no712.jpg', 'no578.jpg', 'no491.jpg', 'no340.jpg', 'no387.jpg', 'no701.jpg', 'no299.jpg', 'no767.jpg', 'no714.jpg', 'no56.jpg', 'no320.jpg', 'no404.jpg', 'no306.jpg', 'no783.jpg', 'no565.jpg', 'no739.jpg', 'no487.jpg', 'no630.jpg', 'no492.jpg', 'no755.jpg', 'no422.jpg', 'no740.jpg', 'no552.jpg', 'no53.jpg', 'no717.jpg', 'no333.jpg', 'no313.jpg', 'no750.jpg', 'no335.jpg', 'no464.jpg', 'no348.jpg', 'no423.jpg', 'no580.jpg', 'no440.jpg', 'no69.jpg', 'no407.jpg', 'no682.jpg', 'no716.jpg', 'no790.jpg', 'no741.jpg', 'no697.jpg', 'no363.jpg', 'no616.jpg', 'no618.jpg', 'no346.jpg', 'no382.jpg', 'no546.jpg', 'no508.jpg', 'no542.jpg', 'no64.jpg', 'no597.jpg', 'no462.jpg', 'no418.jpg', 'no531.jpg', 'no603.jpg', 'no65.jpg', 'no78.jpg', 'no398.jpg', 'no358.jpg', 'no62.jpg', 'no309.jpg', 'no516.jpg', 'no517.jpg', 'no45.jpg', 'no433.jpg', 'no499.jpg', 'no628.jpg', 'no671.jpg', 'no30.jpg', 'no723.jpg', 'no436.jpg', 'no384.jpg', 'no420.jpg', 'no759.jpg', 'no79.jpg', 'no677.jpg', 'no539.jpg', 'no645.jpg', 'no624.jpg', 'no417.jpg', 'no563.jpg', 'no596.jpg', 'no724.jpg', 'no76.jpg', 'no710.jpg', 'no518.jpg', 'no477.jpg', 'no33.jpg', 'no713.jpg', 'no428.jpg', 'no386.jpg', 'no681.jpg', 'no792.jpg', 'no798.jpg', 'no588.jpg', 'no60.jpg', 'no379.jpg', 'no325.jpg', 'no449.jpg', 'no329.jpg', 'no766.jpg', 'no57.jpg', 'no413.jpg', 'no434.jpg', 'no794.jpg', 'no639.jpg', 'no650.jpg', 'no365.jpg', 'no460.jpg', 'no533.jpg', 'no328.jpg', 'no752.jpg', 'no371.jpg', 'no545.jpg', 'no300.jpg', 'no374.jpg', 'no608.jpg', 'no362.jpg', 'no754.jpg', 'no656.jpg', 'no301.jpg', 'no354.jpg', 'no483.jpg', 'no805.jpg', 'no514.jpg', 'no768.jpg', 'no704.jpg', 'no415.jpg', 'no769.jpg', 'no444.jpg', 'no567.jpg', 'no696.jpg', 'no495.jpg', 'no525.jpg', 'no310.jpg', 'no446.jpg', 'no344.jpg', 'no699.jpg', 'no907.jpg', 'no82.jpg', 'no832.jpg', 'no852.jpg', 'no902.jpg', 'no99.jpg', 'no873.jpg', 'no990.jpg', 'no92.jpg', 'no96.jpg', 'no840.jpg', 'no921.jpg', 'no897.jpg', 'no838.jpg', 'no863.jpg', 'no858.jpg', 'no865.jpg', 'no85.jpg', 'no834.jpg', 'no953.jpg', 'no881.jpg', 'no807.jpg', 'no836.jpg', 'no867.jpg', 'no854.jpg', 'no936.jpg', 'no888.jpg', 'no886.jpg', 'no952.jpg', 'no949.jpg', 'no97.jpg', 'no879.jpg', 'no922.jpg', 'no910.jpg', 'no992.jpg', 'no994.jpg', 'no861.jpg', 'no866.jpg', 'no941.jpg', 'no948.jpg', 'no810.jpg', 'no912.jpg', 'no872.jpg', 'no825.jpg', 'no885.jpg', 'no942.jpg', 'no860.jpg', 'no977.jpg', 'no893.jpg', 'no905.jpg', 'no919.jpg', 'no816.jpg', 'no883.jpg', 'no93.jpg', 'no932.jpg', 'no937.jpg', 'no982.jpg', 'no820.jpg', 'no818.jpg', 'no985.jpg', 'no837.jpg', 'no973.jpg', 'no833.jpg', 'no999.jpg', 'no967.jpg', 'no928.jpg', 'no878.jpg', 'no947.jpg', 'no956.jpg', 'no851.jpg', 'no989.jpg', 'no892.jpg', 'no90.jpg', 'no945.jpg', 'no815.jpg', 'no890.jpg', 'no821.jpg', 'no94.jpg', 'no940.jpg', 'no98.jpg', 'no823.jpg', 'no991.jpg', 'no875.jpg', 'no955.jpg', 'no969.jpg', 'no841.jpg', 'no904.jpg', 'no935.jpg', 'no976.jpg', 'no913.jpg', 'no847.jpg', 'no931.jpg', 'no843.jpg', 'no84.jpg', 'no826.jpg', 'no842.jpg', 'no950.jpg', 'no877.jpg', 'no876.jpg', 'no981.jpg', 'no962.jpg', 'no809.jpg', 'no839.jpg', 'no934.jpg', 'no993.jpg', 'no998.jpg', 'no846.jpg', 'no824.jpg', 'no959.jpg', 'no864.jpg', 'no964.jpg', 'no946.jpg', 'no997.jpg', 'no83.jpg', 'no884.jpg', 'no855.jpg', 'no975.jpg', 'no930.jpg', 'no995.jpg', 'no811.jpg', 'no984.jpg', 'no81.jpg', 'no813.jpg', 'no914.jpg', 'no926.jpg', 'no848.jpg', 'no917.jpg', 'no911.jpg', 'no966.jpg', 'no915.jpg', 'no901.jpg', 'no924.jpg', 'no944.jpg', 'no983.jpg', 'no943.jpg', 'no980.jpg', 'no827.jpg', 'no874.jpg', 'no819.jpg', 'no939.jpg', 'no961.jpg', 'no923.jpg', 'no933.jpg', 'no889.jpg', 'no871.jpg', 'no971.jpg', 'no808.jpg', 'no925.jpg', 'no906.jpg', 'no896.jpg', 'no968.jpg', 'no988.jpg', 'no831.jpg', 'no965.jpg', 'no894.jpg', 'no9.jpg', 'no844.jpg', 'no835.jpg', 'no916.jpg', 'no895.jpg', 'no978.jpg', 'no91.jpg', 'no974.jpg', 'no920.jpg', 'no849.jpg', 'no814.jpg', 'no970.jpg', 'no957.jpg', 'no882.jpg', 'no958.jpg', 'no909.jpg', 'no972.jpg', 'no856.jpg', 'no89.jpg', 'no900.jpg', 'no899.jpg', 'no845.jpg', 'no812.jpg', 'no986.jpg', 'no954.jpg', 'no859.jpg', 'no929.jpg', 'no979.jpg', 'no987.jpg', 'no857.jpg', 'no951.jpg', 'no87.jpg', 'no927.jpg', 'no862.jpg', 'no822.jpg', 'no88.jpg', 'no891.jpg', 'no829.jpg', 'no908.jpg', 'no868.jpg', 'no830.jpg', 'no938.jpg', 'no996.jpg', 'no850.jpg', 'no869.jpg', 'no95.jpg', 'no903.jpg', 'no963.jpg', 'no960.jpg', 'no86.jpg', 'no918.jpg', 'no880.jpg', 'no853.jpg', 'no828.jpg', 'no817.jpg', 'no887.jpg', 'no898.jpg', 'no870.jpg', 'no1041.jpg', 'No13.jpg', 'no1032.jpg', 'no1014.jpg', 'no1028.jpg', 'no1021.jpg', 'no1019.jpg', 'no1000.jpg', 'no1046.jpg', 'No15.jpg', 'no1016.jpg', 'no1036.jpg', 'no100.jpg', 'no1044.jpg', 'no1011.jpg', 'no1043.jpg', 'no1049.jpg', 'no1029.jpg', 'no1003.jpg', 'no1020.jpg', 'no1025.jpg', 'no1030.jpg', 'no1004.jpg', 'no10.jpg', 'no1048.jpg', 'no0.jpg', 'No12.jpg', 'no1047.jpg', 'no1010.jpg', 'no1024.jpg', 'no1005.jpg', 'no1007.jpg', 'No17.jpg', 'no1022.jpg', 'no1023.jpg', 'no1033.jpg', 'no1018.jpg', 'No14.jpg', 'no1037.jpg', 'no101.jpg', 'No19.jpg', 'no1031.jpg', 'no1042.jpg', 'no104.jpg', 'no103.jpg', 'no1013.jpg', 'no105.jpg', 'no1012.jpg', 'no1026.jpg', 'no1001.jpg', 'no1038.jpg', 'no1017.jpg', 'no1009.jpg', 'no1040.jpg', 'no1045.jpg', 'no1006.jpg', 'no1039.jpg', 'no1.jpg', 'no1035.jpg', 'no1002.jpg', 'no1008.jpg', 'no1034.jpg', 'no1027.jpg', 'no1015.jpg', 'no102.jpg', 'No18.jpg', 'no1133.jpg', 'no1344.jpg', 'no1440.jpg', 'no1430.jpg', 'no1356.jpg', 'no1158.jpg', 'no149.jpg', 'no1282.jpg', 'no154.jpg', 'no16.jpg', 'no1277.jpg', 'no218.jpg', 'no1290.jpg', 'no1251.jpg', 'no1247.jpg', 'no122.jpg', 'no1327.jpg', 'no1081.jpg', 'no1305.jpg', 'no142.jpg', 'no1489.jpg', 'no1193.jpg', 'no1138.jpg', 'no2.jpg', 'no1466.jpg', 'no1387.jpg', 'no1119.jpg', 'no1400.jpg', 'no267.jpg', 'no1392.jpg', 'no276.jpg', 'no1191.jpg', 'no1242.jpg', 'no1165.jpg', 'no1405.jpg', 'no1450.jpg', 'no111.jpg', 'no1152.jpg', 'no1092.jpg', 'no29.jpg', 'no216.jpg', 'no268.jpg', 'no1404.jpg', 'no1225.jpg', 'no1415.jpg', 'no1188.jpg', 'no265.jpg', 'no271.jpg', 'no1291.jpg', 'no1335.jpg', 'no284.jpg', 'no248.jpg', 'no188.jpg', 'no1258.jpg', 'no141.jpg', 'no1274.jpg', 'no1140.jpg', 'no1271.jpg', 'no167.jpg', 'no1087.jpg', 'no1209.jpg', 'no1093.jpg', 'no1294.jpg', 'no126.jpg', 'no1350.jpg', 'no1417.jpg', 'no278.jpg', 'no151.jpg', 'no1456.jpg', 'no1363.jpg', 'no1499.jpg', 'no263.jpg', 'no1212.jpg', 'no1103.jpg', 'no1315.jpg', 'no1118.jpg', 'no1254.jpg', 'no1398.jpg', 'no1058.jpg', 'no1367.jpg', 'no1477.jpg', 'no1388.jpg', 'no1211.jpg', 'no1301.jpg', 'no1050.jpg', 'no206.jpg', 'no208.jpg', 'no209.jpg', 'no1481.jpg', 'no164.jpg', 'no1342.jpg', 'no1115.jpg', 'no1463.jpg', 'no1408.jpg', 'no121.jpg', 'no1232.jpg', 'no109.jpg', 'no139.jpg', 'no1085.jpg', 'no169.jpg', 'no1397.jpg', 'no1084.jpg', 'no117.jpg', 'no11.jpg', 'no1454.jpg', 'no1336.jpg', 'no1214.jpg', 'no1494.jpg', 'no1377.jpg', 'no1198.jpg', 'no232.jpg', 'no1200.jpg', 'no1449.jpg', 'no207.jpg', 'no1474.jpg', 'no1412.jpg', 'no1287.jpg', 'no1303.jpg', 'no1431.jpg', 'no1054.jpg', 'no1144.jpg', 'no1075.jpg', 'no1278.jpg', 'no166.jpg', 'no1437.jpg', 'no1120.jpg', 'no1362.jpg', 'no1130.jpg', 'no1407.jpg', 'no1487.jpg', 'no1374.jpg', 'no1420.jpg', 'no1318.jpg', 'no1257.jpg', 'no1097.jpg', 'no1143.jpg', 'no182.jpg', 'no1468.jpg', 'no1369.jpg', 'no173.jpg', 'no1436.jpg', 'no1237.jpg', 'no1065.jpg', 'no1185.jpg', 'no187.jpg', 'no1136.jpg', 'no1221.jpg', 'no184.jpg', 'no1323.jpg', 'no1162.jpg', 'no1208.jpg', 'no1285.jpg', 'no1104.jpg', 'no1091.jpg', 'no196.jpg', 'no292.jpg', 'no1490.jpg', 'no197.jpg', 'no1205.jpg', 'no1253.jpg', 'no1368.jpg', 'no1177.jpg', 'no1316.jpg', 'no1083.jpg', 'no1174.jpg', 'no250.jpg', 'no1234.jpg', 'no1307.jpg', 'no192.jpg', 'no1127.jpg', 'no1296.jpg', 'no1161.jpg', 'no132.jpg', 'no1106.jpg', 'no1265.jpg', 'no1399.jpg', 'no194.jpg', 'no1351.jpg', 'no1206.jpg', 'no135.jpg', 'no225.jpg', 'no1201.jpg', 'no1465.jpg', 'no1341.jpg', 'no1272.jpg', 'no1445.jpg', 'no1080.jpg', 'no1416.jpg', 'no1213.jpg', 'no1180.jpg', 'no170.jpg', 'no272.jpg', 'no1280.jpg', 'no144.jpg', 'no1480.jpg', 'no220.jpg', 'no1069.jpg', 'no1223.jpg', 'no1243.jpg', 'no1196.jpg', 'no1288.jpg', 'no1207.jpg', 'no177.jpg', 'no129.jpg', 'no1149.jpg', 'no282.jpg', 'no1488.jpg', 'no1055.jpg', 'no1111.jpg', 'no215.jpg', 'no273.jpg', 'no136.jpg', 'no1107.jpg', 'no1370.jpg', 'no114.jpg', 'no1239.jpg', 'no1429.jpg', 'no1226.jpg', 'no191.jpg', 'no161.jpg', 'no217.jpg', 'no1217.jpg', 'no1402.jpg', 'no231.jpg', 'no199.jpg', 'no1329.jpg', 'no1498.jpg', 'no1109.jpg', 'no1057.jpg', 'no1175.jpg', 'no21.jpg', 'no186.jpg', 'no1264.jpg', 'no1250.jpg', 'no1357.jpg', 'no1352.jpg', 'no1467.jpg', 'no226.jpg', 'no1137.jpg', 'no1313.jpg', 'no1460.jpg', 'no1117.jpg', 'no1114.jpg', 'no1218.jpg', 'no203.jpg', 'no1202.jpg', 'no1346.jpg', 'no259.jpg', 'no1426.jpg', 'no236.jpg', 'no1184.jpg', 'no1328.jpg', 'no195.jpg', 'no160.jpg', 'no210.jpg', 'no285.jpg', 'no1216.jpg', 'no1441.jpg', 'no1051.jpg', 'no1159.jpg', 'no1182.jpg', 'no189.jpg', 'no118.jpg', 'no1121.jpg', 'no1292.jpg', 'no1442.jpg', 'no238.jpg', 'no1155.jpg', 'no1102.jpg', 'no1331.jpg', 'no148.jpg', 'no1204.jpg', 'no293.jpg', 'no174.jpg', 'no131.jpg', 'no251.jpg', 'no1063.jpg', 'no1459.jpg', 'no1317.jpg', 'no1141.jpg', 'no291.jpg', 'no1233.jpg', 'no1156.jpg', 'no1067.jpg', 'no1100.jpg', 'no1181.jpg', 'no1320.jpg', 'no1078.jpg', 'no1434.jpg', 'no241.jpg', 'no112.jpg', 'no1220.jpg', 'no147.jpg', 'no247.jpg', 'no1451.jpg', 'no244.jpg', 'no275.jpg', 'no127.jpg', 'no1229.jpg', 'no1199.jpg', 'no1470.jpg', 'no222.jpg', 'no243.jpg', 'no1122.jpg', 'no1383.jpg', 'no1270.jpg', 'no1321.jpg', 'no281.jpg', 'no1322.jpg', 'no1056.jpg', 'no1173.jpg', 'no193.jpg', 'no1385.jpg', 'no219.jpg', 'no1110.jpg', 'no1421.jpg', 'no1163.jpg', 'no224.jpg', 'no1492.jpg', 'no1458.jpg', 'no1485.jpg', 'no1062.jpg', 'no1095.jpg', 'no1462.jpg', 'no1390.jpg', 'no1167.jpg', 'no1438.jpg', 'no205.jpg', 'no1432.jpg', 'no1455.jpg', 'no1348.jpg', 'no178.jpg', 'no1231.jpg', 'no1267.jpg', 'no1187.jpg', 'no156.jpg', 'no1059.jpg', 'no1384.jpg', 'no1260.jpg', 'no1381.jpg', 'no1360.jpg', 'no1090.jpg', 'no1359.jpg', 'no1197.jpg', 'no1386.jpg', 'no113.jpg', 'no1475.jpg', 'no145.jpg', 'no1446.jpg', 'no1261.jpg', 'no1411.jpg', 'no1444.jpg', 'no1240.jpg', 'no1453.jpg', 'no1128.jpg', 'no1403.jpg', 'no1419.jpg', 'no202.jpg', 'no1422.jpg', 'no1391.jpg', 'no120.jpg', 'no212.jpg', 'no1241.jpg', 'no1396.jpg', 'no1379.jpg', 'no287.jpg', 'no1275.jpg', 'no107.jpg', 'no1266.jpg', 'no1131.jpg', 'no1380.jpg', 'no1089.jpg', 'no1484.jpg', 'no1413.jpg', 'no1433.jpg', 'no1366.jpg', 'no242.jpg', 'no1309.jpg', 'no1072.jpg', 'no230.jpg', 'no1190.jpg', 'no1376.jpg', 'no1310.jpg', 'no204.jpg', 'no1154.jpg', 'no294.jpg', 'no1105.jpg', 'no165.jpg', 'no1079.jpg', 'no115.jpg', 'no1457.jpg', 'no1394.jpg', 'no289.jpg', 'no257.jpg', 'no1126.jpg', 'no1269.jpg', 'no264.jpg', 'no1333.jpg', 'no1125.jpg', 'no1238.jpg', 'no201.jpg', 'no1365.jpg', 'no1439.jpg', 'no1293.jpg', 'no1373.jpg', 'no237.jpg', 'no1139.jpg', 'no1096.jpg', 'no137.jpg', 'no269.jpg', 'no1395.jpg', 'no143.jpg', 'no1473.jpg', 'no1129.jpg', 'no27.jpg', 'no1077.jpg', 'no1418.jpg', 'no1443.jpg', 'no1289.jpg', 'no1064.jpg', 'no28.jpg', 'no1262.jpg', 'no1263.jpg', 'no1074.jpg', 'no240.jpg', 'no1297.jpg', 'no228.jpg', 'no1248.jpg', 'no116.jpg', 'no1299.jpg', 'no198.jpg', 'no152.jpg', 'no172.jpg', 'no128.jpg']\n",
            "['y1472.jpg', 'y1188.jpg', 'y1236.jpg', 'y173.jpg', 'y18.jpg', 'y1456.jpg', 'y1332.jpg', 'y1414.jpg', 'y1244.jpg', 'y1028.jpg', 'y1197.jpg', 'y1145.jpg', 'y1047.jpg', 'y1069.jpg', 'y1237.jpg', 'y1076.jpg', 'y1013.jpg', 'y1111.jpg', 'y1376.jpg', 'y1450.jpg', 'y1226.jpg', 'y1150.jpg', 'y152.jpg', 'y1357.jpg', 'y103.jpg', 'y1267.jpg', 'y1317.jpg', 'y1246.jpg', 'y1431.jpg', 'y1119.jpg', 'y203.jpg', 'y1270.jpg', 'y1427.jpg', 'y1155.jpg', 'y1124.jpg', 'y1091.jpg', 'y1417.jpg', 'y136.jpg', 'y1352.jpg', 'y1408.jpg', 'y1301.jpg', 'y1153.jpg', 'y1054.jpg', 'y100.jpg', 'y1128.jpg', 'y144.jpg', 'y1096.jpg', 'y184.jpg', 'y1109.jpg', 'y1080.jpg', 'y1493.jpg', 'y1184.jpg', 'y1174.jpg', 'y1062.jpg', 'y1094.jpg', 'y1399.jpg', 'y200.jpg', 'y1051.jpg', 'y1242.jpg', 'y1286.jpg', 'y1367.jpg', 'y1333.jpg', 'y1349.jpg', 'y101.jpg', 'y1255.jpg', 'y1415.jpg', 'y1040.jpg', 'y0.jpg', 'y1353.jpg', 'y1454.jpg', 'y1045.jpg', 'y1401.jpg', 'y1101.jpg', 'y1222.jpg', 'y1126.jpg', 'y111.jpg', 'y1081.jpg', 'y1108.jpg', 'y1055.jpg', 'y1327.jpg', 'y1115.jpg', 'y204.jpg', 'y1406.jpg', 'y1281.jpg', 'y1325.jpg', 'y1029.jpg', 'y1066.jpg', 'y167.jpg', 'y1067.jpg', 'y1491.jpg', 'y1207.jpg', 'y1313.jpg', 'y110.jpg', 'y125.jpg', 'y1052.jpg', 'y1499.jpg', 'y1384.jpg', 'y1386.jpg', 'y1421.jpg', 'y1429.jpg', 'y1280.jpg', 'y169.jpg', 'y1023.jpg', 'y1373.jpg', 'y1170.jpg', 'y1202.jpg', 'y1482.jpg', 'y171.jpg', 'y1309.jpg', 'y1340.jpg', 'y15.jpg', 'y1035.jpg', 'y170.jpg', 'y1455.jpg', 'y132.jpg', 'y1261.jpg', 'y1157.jpg', 'y1295.jpg', 'y1264.jpg', 'y1451.jpg', 'y1156.jpg', 'y1290.jpg', 'y542.jpg', 'y266.jpg', 'y504.jpg', 'y977.jpg', 'y73.jpg', 'y719.jpg', 'y466.jpg', 'y659.jpg', 'y456.jpg', 'y893.jpg', 'y519.jpg', 'y210.jpg', 'y534.jpg', 'y837.jpg', 'y733.jpg', 'y854.jpg', 'y609.jpg', 'y773.jpg', 'y558.jpg', 'y932.jpg', 'y819.jpg', 'y814.jpg', 'y748.jpg', 'y521.jpg', 'y493.jpg', 'y275.jpg', 'y8.jpg', 'y680.jpg', 'y478.jpg', 'y531.jpg', 'y971.jpg', 'y498.jpg', 'y647.jpg', 'y469.jpg', 'y480.jpg', 'y950.jpg', 'y952.jpg', 'y780.jpg', 'y326.jpg', 'y724.jpg', 'y298.jpg', 'y284.jpg', 'y740.jpg', 'y613.jpg', 'y903.jpg', 'y297.jpg', 'y46.jpg', 'y94.jpg', 'y566.jpg', 'y646.jpg', 'y371.jpg', 'y261.jpg', 'y665.jpg', 'y351.jpg', 'y31.jpg', 'y406.jpg', 'y720.jpg', 'y990.jpg', 'y697.jpg', 'y387.jpg', 'y846.jpg', 'y645.jpg', 'y956.jpg', 'y509.jpg', 'y864.jpg', 'y36.jpg', 'y7.jpg', 'y842.jpg', 'y617.jpg', 'y327.jpg', 'y211.jpg', 'y934.jpg', 'y511.jpg', 'y762.jpg', 'y229.jpg', 'y84.jpg', 'y559.jpg', 'y688.jpg', 'y270.jpg', 'y964.jpg', 'y57.jpg', 'y575.jpg', 'y640.jpg', 'y222.jpg', 'y35.jpg', 'y926.jpg', 'y981.jpg', 'y931.jpg', 'y232.jpg', 'y218.jpg', 'y704.jpg', 'y905.jpg', 'y668.jpg', 'y805.jpg', 'y475.jpg', 'y775.jpg', 'y482.jpg', 'y922.jpg', 'y428.jpg', 'y405.jpg', 'y671.jpg', 'y264.jpg', 'y783.jpg', 'y539.jpg', 'y796.jpg', 'y872.jpg', 'y67.jpg', 'y564.jpg', 'y569.jpg', 'y565.jpg', 'y499.jpg', 'y263.jpg', 'y888.jpg', 'y373.jpg', 'y703.jpg', 'y527.jpg', 'y438.jpg', 'y885.jpg', 'y488.jpg', 'y923.jpg', 'y537.jpg', 'y208.jpg', 'y790.jpg', 'y692.jpg', 'y30.jpg', 'y418.jpg', 'y436.jpg', 'y354.jpg', 'y393.jpg', 'y71.jpg', 'y892.jpg', 'y72.jpg', 'y471.jpg', 'y670.jpg', 'y677.jpg', 'y398.jpg', 'y267.jpg', 'y840.jpg', 'y258.jpg', 'y55.jpg', 'y353.jpg', 'y586.jpg', 'y461.jpg', 'y440.jpg', 'y336.jpg', 'y841.jpg', 'y567.jpg', 'y462.jpg', 'y714.jpg', 'y699.jpg', 'y61.jpg', 'y340.jpg', 'y994.jpg', 'y583.jpg', 'y254.jpg', 'y268.jpg', 'y374.jpg', 'y89.jpg', 'y487.jpg', 'y825.jpg', 'y587.jpg', 'y760.jpg', 'y6.jpg', 'y452.jpg', 'y915.jpg', 'y445.jpg', 'y315.jpg', 'y236.jpg', 'y839.jpg', 'y830.jpg', 'y401.jpg', 'y708.jpg', 'y500.jpg', 'y404.jpg', 'y603.jpg', 'y811.jpg', 'y726.jpg', 'y328.jpg', 'y698.jpg', 'y702.jpg', 'y768.jpg', 'y24.jpg', 'y551.jpg', 'y652.jpg', 'y997.jpg', 'y330.jpg', 'y572.jpg', 'y866.jpg', 'y481.jpg', 'y64.jpg', 'y238.jpg', 'y283.jpg', 'y831.jpg', 'y541.jpg', 'y503.jpg', 'y78.jpg', 'y514.jpg', 'y568.jpg', 'y260.jpg', 'y316.jpg', 'y832.jpg', 'y619.jpg', 'y425.jpg', 'y276.jpg', 'y642.jpg', 'y380.jpg', 'y301.jpg', 'y348.jpg', 'y635.jpg', 'y389.jpg', 'y686.jpg', 'y227.jpg', 'y808.jpg', 'y687.jpg', 'y290.jpg', 'y88.jpg', 'y638.jpg', 'y800.jpg', 'y880.jpg', 'y87.jpg', 'y618.jpg', 'y32.jpg', 'y577.jpg', 'y21.jpg', 'y601.jpg', 'y361.jpg', 'y317.jpg', 'y360.jpg', 'y92.jpg', 'y770.jpg', 'y82.jpg', 'y781.jpg', 'y753.jpg', 'y25.jpg', 'y723.jpg', 'y319.jpg', 'y858.jpg', 'y736.jpg', 'y848.jpg', 'y392.jpg', 'y732.jpg', 'y529.jpg', 'y341.jpg', 'y318.jpg', 'y447.jpg', 'y53.jpg', 'y237.jpg', 'y233.jpg', 'y477.jpg', 'y546.jpg', 'y230.jpg', 'y413.jpg', 'y307.jpg', 'y306.jpg', 'y976.jpg', 'y718.jpg', 'y793.jpg', 'y544.jpg', 'y873.jpg', 'y372.jpg', 'y459.jpg', 'y943.jpg', 'y945.jpg', 'y942.jpg', 'y933.jpg', 'y904.jpg', 'y396.jpg', 'y4.jpg', 'y634.jpg', 'y294.jpg', 'y595.jpg', 'y453.jpg', 'y741.jpg', 'y420.jpg', 'y226.jpg', 'y966.jpg', 'y433.jpg', 'y281.jpg', 'y543.jpg', 'y989.jpg', 'y245.jpg', 'y344.jpg', 'y563.jpg', 'y683.jpg', 'y271.jpg', 'y627.jpg', 'y515.jpg', 'y246.jpg', 'y243.jpg', 'y696.jpg', 'y357.jpg', 'y554.jpg', 'y843.jpg', 'y496.jpg', 'y772.jpg', 'y305.jpg', 'y777.jpg', 'y709.jpg', 'y655.jpg', 'y598.jpg', 'y342.jpg', 'y457.jpg', 'y856.jpg', 'y940.jpg', 'y213.jpg', 'y972.jpg', 'y547.jpg', 'y860.jpg', 'y403.jpg', 'y409.jpg', 'y47.jpg', 'y225.jpg', 'y522.jpg', 'y987.jpg', 'y629.jpg', 'y22.jpg', 'y463.jpg', 'y44.jpg', 'y285.jpg', 'y468.jpg', 'y273.jpg', 'y63.jpg', 'y705.jpg', 'y961.jpg', 'y759.jpg', 'y875.jpg', 'y49.jpg', 'y784.jpg', 'y602.jpg', 'y761.jpg', 'y874.jpg', 'y776.jpg', 'y673.jpg', 'y370.jpg', 'y580.jpg', 'y83.jpg', 'y721.jpg', 'y644.jpg', 'y862.jpg', 'y751.jpg', 'y38.jpg', 'y700.jpg', 'y920.jpg', 'y890.jpg', 'y435.jpg', 'y489.jpg', 'y921.jpg', 'y663.jpg', 'y256.jpg', 'y857.jpg', 'y935.jpg', 'y967.jpg', 'y850.jpg', 'y851.jpg', 'y259.jpg', 'y674.jpg', 'y310.jpg', 'y969.jpg', 'y859.jpg', 'y916.jpg', 'y791.jpg', 'y786.jpg', 'y681.jpg', 'y689.jpg', 'y333.jpg', 'y473.jpg', 'y214.jpg', 'y812.jpg', 'y251.jpg', 'y582.jpg', 'y695.jpg', 'y492.jpg', 'y809.jpg', 'y727.jpg', 'y331.jpg', 'y464.jpg', 'y743.jpg', 'y23.jpg', 'y432.jpg', 'y216.jpg', 'y553.jpg', 'y431.jpg', 'y715.jpg', 'y325.jpg', 'y295.jpg', 'y234.jpg', 'y394.jpg', 'y968.jpg', 'y960.jpg', 'y592.jpg', 'y911.jpg', 'y338.jpg', 'y99.jpg', 'y364.jpg', 'y309.jpg', 'y925.jpg', 'y252.jpg', 'y877.jpg', 'y600.jpg', 'y936.jpg', 'y384.jpg', 'y80.jpg', 'y807.jpg', 'y540.jpg', 'y352.jpg', 'y491.jpg', 'y388.jpg', 'y917.jpg', 'y442.jpg', 'y494.jpg', 'y653.jpg', 'y949.jpg', 'y637.jpg', 'y744.jpg', 'y304.jpg', 'y223.jpg', 'y666.jpg', 'y557.jpg', 'y650.jpg', 'y610.jpg', 'y455.jpg', 'y799.jpg', 'y914.jpg', 'y312.jpg', 'y448.jpg', 'y476.jpg', 'y74.jpg', 'y97.jpg', 'y620.jpg', 'y908.jpg', 'y427.jpg', 'y5.jpg', 'y414.jpg', 'y242.jpg', 'y712.jpg', 'y81.jpg', 'y867.jpg', 'y706.jpg', 'y66.jpg', 'y358.jpg', 'y69.jpg', 'y815.jpg', 'y817.jpg', 'y485.jpg', 'y350.jpg', 'y584.jpg', 'y41.jpg', 'y910.jpg', 'y77.jpg', 'y611.jpg', 'y731.jpg', 'y91.jpg', 'y365.jpg', 'y574.jpg', 'y957.jpg', 'y272.jpg', 'y390.jpg', 'y824.jpg', 'y614.jpg', 'y730.jpg', 'y980.jpg', 'y45.jpg', 'y321.jpg', 'y876.jpg', 'y913.jpg', 'y329.jpg', 'y581.jpg', 'y520.jpg', 'y579.jpg', 'y725.jpg', 'y397.jpg', 'y550.jpg', 'y510.jpg', 'y746.jpg', 'y717.jpg', 'y785.jpg', 'y902.jpg', 'y834.jpg', 'y863.jpg', 'y70.jpg', 'y589.jpg', 'y983.jpg', 'y982.jpg', 'y429.jpg', 'y56.jpg', 'y366.jpg', 'y483.jpg', 'y79.jpg', 'y349.jpg', 'y337.jpg', 'y955.jpg', 'y970.jpg', 'y220.jpg', 'y918.jpg', 'y939.jpg', 'y861.jpg', 'y571.jpg', 'y311.jpg', 'y798.jpg', 'y299.jpg', 'y347.jpg', 'y881.jpg', 'y836.jpg', 'y597.jpg', 'y588.jpg', 'y502.jpg', 'y505.jpg', 'y953.jpg', 'y40.jpg', 'y710.jpg', 'y604.jpg', 'y707.jpg', 'y607.jpg', 'y806.jpg', 'y43.jpg', 'y803.jpg', 'y250.jpg', 'y871.jpg', 'y963.jpg', 'y722.jpg', 'y754.jpg', 'y506.jpg', 'y518.jpg', 'y878.jpg', 'y257.jpg', 'y946.jpg', 'y26.jpg', 'y643.jpg', 'y662.jpg', 'y853.jpg', 'y343.jpg', 'y947.jpg', 'y367.jpg', 'y962.jpg', 'y623.jpg', 'y651.jpg', 'y3.jpg', 'y896.jpg', 'y279.jpg', 'y381.jpg', 'y441.jpg', 'y591.jpg', 'y68.jpg', 'y716.jpg', 'y29.jpg', 'y52.jpg', 'y849.jpg', 'y422.jpg', 'y375.jpg', 'y379.jpg', 'y986.jpg', 'y27.jpg', 'y897.jpg', 'y423.jpg', 'y735.jpg', 'y391.jpg', 'y75.jpg', 'y628.jpg', 'y65.jpg', 'y395.jpg', 'y906.jpg', 'y828.jpg', 'y954.jpg', 'y34.jpg', 'y255.jpg', 'y889.jpg', 'y346.jpg', 'y417.jpg', 'y467.jpg', 'y765.jpg', 'y274.jpg', 'y756.jpg', 'y215.jpg', 'y424.jpg', 'y984.jpg', 'y594.jpg', 'y359.jpg', 'y632.jpg', 'y524.jpg', 'y999.jpg', 'y844.jpg', 'y912.jpg', 'y958.jpg', 'y838.jpg', 'y444.jpg', 'y369.jpg', 'y630.jpg', 'y293.jpg', 'y749.jpg', 'y633.jpg', 'y804.jpg', 'y895.jpg', 'y58.jpg', 'y792.jpg', 'y679.jpg', 'y513.jpg', 'y599.jpg', 'y526.jpg', 'y868.jpg', 'y658.jpg', 'y948.jpg', 'y672.jpg', 'y818.jpg', 'y523.jpg', 'y685.jpg', 'y821.jpg', 'y789.jpg', 'y410.jpg', 'y816.jpg', 'y95.jpg', 'y386.jpg', 'y536.jpg', 'y419.jpg', 'y835.jpg', 'y747.jpg', 'y377.jpg', 'y612.jpg', 'y879.jpg', 'y244.jpg', 'y694.jpg', 'y605.jpg', 'y209.jpg', 'y356.jpg', 'y308.jpg', 'y399.jpg', 'y810.jpg', 'y221.jpg', 'y996.jpg', 'y738.jpg', 'y54.jpg', 'y927.jpg', 'y944.jpg', 'y778.jpg', 'y606.jpg', 'y711.jpg', 'y512.jpg', 'y745.jpg', 'y450.jpg', 'y576.jpg', 'y400.jpg', 'y929.jpg', 'y593.jpg', 'y525.jpg', 'y891.jpg', 'y654.jpg', 'y919.jpg', 'y787.jpg', 'y845.jpg', 'y335.jpg', 'y402.jpg', 'y774.jpg', 'y48.jpg', 'y549.jpg', 'y224.jpg', 'y649.jpg', 'y797.jpg', 'y769.jpg', 'y573.jpg', 'y973.jpg', 'y247.jpg', 'y507.jpg', 'y616.jpg', 'y884.jpg', 'y676.jpg', 'y300.jpg', 'y661.jpg', 'y938.jpg', 'y93.jpg', 'y37.jpg', 'y937.jpg', 'y262.jpg', 'y822.jpg', 'y701.jpg', 'y930.jpg', 'y988.jpg', 'y894.jpg', 'y497.jpg', 'y771.jpg', 'y85.jpg', 'y451.jpg', 'y528.jpg', 'y802.jpg', 'y517.jpg', 'y993.jpg', 'y742.jpg', 'y296.jpg', 'y965.jpg', 'y648.jpg', 'y495.jpg', 'y320.jpg', 'y538.jpg', 'y909.jpg', 'y898.jpg', 'y682.jpg', 'y608.jpg', 'y376.jpg', 'y530.jpg', 'y454.jpg', 'y669.jpg', 'y678.jpg', 'y313.jpg', 'y570.jpg', 'y691.jpg', 'y292.jpg', 'y474.jpg', 'y852.jpg', 'y339.jpg', 'y887.jpg', 'y552.jpg', 'y636.jpg', 'y827.jpg', 'y368.jpg', 'y277.jpg', 'y314.jpg', 'y729.jpg', 'y434.jpg', 'y239.jpg', 'y823.jpg', 'y323.jpg', 'y303.jpg', 'y578.jpg', 'y615.jpg', 'y974.jpg', 'y355.jpg', 'y235.jpg', 'y265.jpg', 'y555.jpg', 'y548.jpg', 'y833.jpg', 'y624.jpg', 'y855.jpg', 'y248.jpg', 'y437.jpg', 'y847.jpg', 'y596.jpg', 'y820.jpg', 'y992.jpg', 'y657.jpg', 'y795.jpg', 'y287.jpg', 'y883.jpg', 'y899.jpg', 'y656.jpg', 'y788.jpg', 'y641.jpg', 'y562.jpg', 'y288.jpg', 'y995.jpg', 'y219.jpg', 'y801.jpg', 'y590.jpg', 'y291.jpg', 'y322.jpg', 'y324.jpg', 'y516.jpg', 'y484.jpg', 'y362.jpg', 'y978.jpg', 'y9.jpg', 'y407.jpg', 'y535.jpg', 'y625.jpg', 'y533.jpg', 'y332.jpg', 'y998.jpg', 'y416.jpg', 'y253.jpg', 'y382.jpg', 'y869.jpg', 'y907.jpg', 'y286.jpg', 'y951.jpg', 'y752.jpg', 'y240.jpg', 'y757.jpg', 'y241.jpg', 'y985.jpg', 'y42.jpg', 'y684.jpg', 'y59.jpg', 'y532.jpg', 'y758.jpg', 'y470.jpg', 'y446.jpg', 'y212.jpg', 'y282.jpg', 'y882.jpg', 'y458.jpg', 'y560.jpg', 'y50.jpg', 'y231.jpg', 'y378.jpg', 'y249.jpg', 'y90.jpg', 'y415.jpg', 'y302.jpg', 'y639.jpg', 'y460.jpg', 'y289.jpg', 'y430.jpg', 'y779.jpg', 'y764.jpg', 'y426.jpg', 'y508.jpg', 'y734.jpg', 'y411.jpg', 'y941.jpg', 'y959.jpg', 'y621.jpg', 'y767.jpg', 'y421.jpg', 'y737.jpg', 'y763.jpg', 'y991.jpg', 'y269.jpg', 'y924.jpg', 'y479.jpg', 'y443.jpg', 'y813.jpg', 'y675.jpg', 'y345.jpg', 'y385.jpg', 'y766.jpg', 'y408.jpg', 'y755.jpg', 'y829.jpg', 'y739.jpg', 'y660.jpg', 'y486.jpg', 'y979.jpg', 'y280.jpg', 'y561.jpg', 'y278.jpg', 'y585.jpg', 'y667.jpg', 'y363.jpg', 'y886.jpg', 'y690.jpg', 'y217.jpg', 'y975.jpg', 'y794.jpg', 'y900.jpg', 'y490.jpg', 'y901.jpg', 'y782.jpg', 'y693.jpg', 'y51.jpg', 'y33.jpg', 'y449.jpg', 'y622.jpg', 'y556.jpg', 'y412.jpg', 'y870.jpg', 'y928.jpg', 'y439.jpg', 'y228.jpg', 'y545.jpg', 'y664.jpg', 'y96.jpg', 'y750.jpg', 'y501.jpg', 'y626.jpg', 'y62.jpg', 'y98.jpg', 'y383.jpg', 'y39.jpg', 'y86.jpg', 'y713.jpg', 'y28.jpg', 'y865.jpg', 'y76.jpg', 'y631.jpg', 'y465.jpg', 'y60.jpg', 'y472.jpg', 'y728.jpg', 'y334.jpg', 'y826.jpg', 'y1410.jpg', 'y1394.jpg', 'y1298.jpg', 'y1248.jpg', 'y1490.jpg', 'y190.jpg', 'y187.jpg', 'y1135.jpg', 'y1083.jpg', 'y1220.jpg', 'y19.jpg', 'y1025.jpg', 'y1214.jpg', 'y1056.jpg', 'y1389.jpg', 'y1398.jpg', 'y199.jpg', 'y1329.jpg', 'y1159.jpg', 'y1095.jpg', 'y201.jpg', 'y1457.jpg', 'y1337.jpg', 'y1433.jpg', 'y1217.jpg', 'y1285.jpg', 'y1139.jpg', 'y1231.jpg', 'y1402.jpg', 'y193.jpg', 'y145.jpg', 'y1245.jpg', 'y135.jpg', 'y1077.jpg', 'y1343.jpg', 'y1467.jpg', 'y1463.jpg', 'y1345.jpg', 'y1125.jpg', 'y1016.jpg', 'y1138.jpg', 'y122.jpg', 'y1061.jpg', 'y1275.jpg', 'y1351.jpg', 'y1074.jpg', 'y1403.jpg', 'y1204.jpg', 'y1206.jpg', 'y1291.jpg', 'y2.jpg', 'y1073.jpg', 'y1452.jpg', 'y147.jpg', 'y142.jpg', 'y1065.jpg', 'y1112.jpg', 'y1449.jpg', 'y1407.jpg', 'y1294.jpg', 'y1212.jpg', 'y1369.jpg', 'y17.jpg', 'y1400.jpg', 'y1097.jpg', 'y164.jpg', 'y128.jpg', 'y1085.jpg', 'y1032.jpg', 'y1187.jpg', 'y1232.jpg', 'y158.jpg', 'y1008.jpg', 'y1162.jpg', 'y1478.jpg', 'y1424.jpg', 'y1263.jpg', 'y1165.jpg', 'y1324.jpg', 'y1249.jpg', 'y1284.jpg', 'y1002.jpg', 'y1194.jpg', 'y1148.jpg', 'y1120.jpg', 'y179.jpg', 'y1161.jpg', 'y129.jpg', 'y172.jpg', 'y1193.jpg', 'y1489.jpg', 'y130.jpg', 'y1191.jpg', 'y1322.jpg', 'y1479.jpg', 'y1277.jpg', 'y1071.jpg', 'y1247.jpg', 'y165.jpg', 'y126.jpg', 'y1103.jpg', 'y1288.jpg', 'y1039.jpg', 'y1213.jpg', 'y1015.jpg', 'y1030.jpg', 'y10.jpg', 'y1426.jpg', 'y1020.jpg', 'y1253.jpg', 'y1310.jpg', 'y1201.jpg', 'y1458.jpg', 'y181.jpg', 'y1142.jpg', 'y1195.jpg', 'y1070.jpg', 'y1430.jpg', 'y1179.jpg', 'y185.jpg', 'y1048.jpg', 'y1223.jpg', 'y1168.jpg', 'y1171.jpg', 'y119.jpg', 'y1385.jpg', 'y1448.jpg', 'y1137.jpg', 'y1443.jpg', 'y1140.jpg', 'y202.jpg', 'y1368.jpg', 'y1175.jpg', 'y1219.jpg', 'y1388.jpg', 'y149.jpg', 'y1059.jpg', 'y1007.jpg', 'y1321.jpg', 'y1144.jpg', 'y1268.jpg', 'y1233.jpg', 'y1311.jpg', 'y1347.jpg', 'y1336.jpg', 'y198.jpg', 'y1147.jpg', 'y1241.jpg', 'y1107.jpg', 'y1318.jpg', 'y1488.jpg', 'y1411.jpg', 'y1442.jpg', 'y1092.jpg', 'y1486.jpg', 'y1063.jpg', 'y1046.jpg', 'y1331.jpg', 'y1461.jpg', 'y20.jpg', 'y1189.jpg', 'y117.jpg', 'y1289.jpg', 'y1176.jpg', 'y1335.jpg', 'y1243.jpg', 'y1425.jpg', 'y1363.jpg', 'y1169.jpg', 'y1218.jpg', 'y1017.jpg', 'y178.jpg', 'y1121.jpg', 'y1211.jpg', 'y1319.jpg', 'y166.jpg', 'y205.jpg', 'y161.jpg', 'y131.jpg', 'y1036.jpg', 'y1090.jpg', 'y1315.jpg', 'y127.jpg', 'y1037.jpg', 'y1404.jpg', 'y113.jpg', 'y1001.jpg', 'y1021.jpg', 'y197.jpg', 'y1348.jpg', 'y1113.jpg', 'y1299.jpg', 'y143.jpg', 'y1355.jpg', 'y1422.jpg', 'y1440.jpg', 'y150.jpg', 'y1132.jpg', 'y1492.jpg', 'y1084.jpg', 'y1010.jpg', 'y1371.jpg', 'y118.jpg', 'y1181.jpg', 'y1134.jpg', 'y1049.jpg', 'y1377.jpg', 'y1011.jpg', 'y1198.jpg', 'y1428.jpg', 'y183.jpg', 'y1338.jpg', 'y1019.jpg', 'y1257.jpg', 'y1296.jpg', 'y1183.jpg', 'y1273.jpg', 'y1178.jpg', 'y1382.jpg', 'y1308.jpg', 'y1205.jpg', 'y1027.jpg', 'y1361.jpg', 'y1383.jpg', 'y1044.jpg', 'y1024.jpg', 'y1494.jpg', 'y1423.jpg', 'y1098.jpg', 'y1292.jpg', 'y1497.jpg', 'y1483.jpg', 'y1154.jpg', 'y1215.jpg', 'y1208.jpg', 'y1203.jpg', 'y1418.jpg', 'y1123.jpg', 'y1180.jpg', 'y1466.jpg', 'y1068.jpg', 'y1079.jpg', 'y134.jpg', 'y1256.jpg', 'y1088.jpg', 'y186.jpg', 'y105.jpg', 'y1464.jpg', 'y1100.jpg', 'y1200.jpg', 'y1225.jpg', 'y12.jpg', 'y138.jpg', 'y1072.jpg', 'y1341.jpg', 'y175.jpg', 'y1038.jpg', 'y1130.jpg', 'y1102.jpg', 'y1266.jpg', 'y1014.jpg', 'y1358.jpg', 'y137.jpg', 'y1042.jpg', 'y1330.jpg', 'y1117.jpg', 'y155.jpg', 'y1473.jpg', 'y140.jpg', 'y14.jpg', 'y1460.jpg', 'y1190.jpg', 'y1484.jpg', 'y1251.jpg', 'y1392.jpg', 'y1009.jpg', 'y1003.jpg', 'y1182.jpg', 'y160.jpg', 'y1106.jpg', 'y1495.jpg', 'y1221.jpg', 'y123.jpg', 'y1446.jpg', 'y106.jpg', 'y1265.jpg', 'y182.jpg', 'y120.jpg', 'y163.jpg', 'y1432.jpg', 'y1058.jpg', 'y1344.jpg', 'y1224.jpg', 'y1293.jpg', 'y1470.jpg', 'y1259.jpg', 'y174.jpg', 'y1239.jpg', 'y1093.jpg', 'y1186.jpg', 'y1262.jpg', 'y1459.jpg', 'y1350.jpg', 'y1439.jpg', 'y1131.jpg', 'y1420.jpg', 'y1209.jpg', 'y1279.jpg', 'y115.jpg', 'y194.jpg', 'y1316.jpg', 'y192.jpg', 'y1166.jpg', 'y1437.jpg', 'y1146.jpg', 'y1177.jpg', 'y116.jpg', 'y1133.jpg', 'y124.jpg', 'y1110.jpg', 'y1260.jpg', 'y1342.jpg', 'y1300.jpg', 'y1086.jpg', 'y1379.jpg', 'y1274.jpg', 'y1356.jpg', 'y1258.jpg', 'y1405.jpg', 'y1006.jpg', 'y1359.jpg', 'y1252.jpg', 'y133.jpg', 'y1141.jpg', 'y1462.jpg', 'y107.jpg', 'y1445.jpg', 'y1365.jpg', 'y1087.jpg', 'y1.jpg', 'y1498.jpg', 'y1005.jpg', 'y112.jpg', 'y16.jpg', 'y1167.jpg', 'y1471.jpg', 'y1409.jpg', 'y1216.jpg', 'y1387.jpg', 'y1196.jpg', 'y1339.jpg', 'y1307.jpg', 'y157.jpg', 'y1366.jpg', 'y1390.jpg', 'y1360.jpg', 'y1060.jpg', 'y1053.jpg', 'y1235.jpg', 'y121.jpg', 'y153.jpg', 'y1064.jpg', 'y176.jpg', 'y180.jpg', 'y104.jpg', 'y1116.jpg', 'y1152.jpg', 'y1480.jpg', 'y1370.jpg', 'y1034.jpg', 'y1465.jpg', 'y148.jpg', 'y177.jpg', 'y1306.jpg', 'y1444.jpg', 'y1397.jpg', 'y1082.jpg', 'y1287.jpg', 'y1378.jpg', 'y1075.jpg', 'y1320.jpg', 'y1210.jpg', 'y1041.jpg', 'y11.jpg', 'y1354.jpg', 'y159.jpg', 'y1272.jpg', 'y1089.jpg', 'y1474.jpg', 'y1238.jpg', 'y1334.jpg', 'y1099.jpg', 'y146.jpg', 'y154.jpg', 'y1297.jpg', 'y1043.jpg', 'y1104.jpg', 'y1078.jpg', 'y1143.jpg', 'y1496.jpg', 'y1173.jpg', 'y206.jpg', 'y1033.jpg', 'y188.jpg', 'y1012.jpg', 'y1228.jpg', 'y1250.jpg', 'y1234.jpg', 'y1303.jpg', 'y1118.jpg', 'y1185.jpg', 'y156.jpg', 'y1283.jpg', 'y1026.jpg', 'y1413.jpg', 'y1323.jpg', 'y1158.jpg', 'y1129.jpg', 'y1227.jpg', 'y13.jpg', 'y1031.jpg', 'y1476.jpg', 'y1127.jpg', 'y109.jpg', 'y1477.jpg', 'y1057.jpg', 'y1122.jpg', 'y1276.jpg', 'y1453.jpg', 'y189.jpg', 'y1192.jpg', 'y207.jpg', 'y1412.jpg', 'y1105.jpg', 'y1362.jpg', 'y1380.jpg', 'y1282.jpg', 'y1391.jpg', 'y108.jpg', 'y1395.jpg', 'y1004.jpg', 'y1018.jpg', 'y1199.jpg', 'y1487.jpg', 'y162.jpg', 'y1475.jpg', 'y196.jpg', 'y1269.jpg', 'y1436.jpg', 'y1416.jpg', 'y1326.jpg', 'y1136.jpg', 'y1151.jpg', 'y1304.jpg', 'y1164.jpg', 'y1481.jpg', 'y1419.jpg', 'y1163.jpg', 'y102.jpg', 'y1302.jpg', 'y191.jpg', 'y1254.jpg', 'y1393.jpg', 'y1271.jpg', 'y1447.jpg', 'y1114.jpg', 'y1438.jpg', 'y1396.jpg', 'y1278.jpg', 'y1314.jpg', 'y141.jpg', 'y1469.jpg', 'y1312.jpg', 'y114.jpg', 'y1240.jpg', 'y1435.jpg', 'y1364.jpg', 'y1172.jpg', 'y1022.jpg', 'y1372.jpg', 'y1050.jpg', 'y1434.jpg', 'y1375.jpg', 'y1305.jpg', 'y1149.jpg', 'y1485.jpg', 'y1374.jpg', 'y139.jpg', 'y195.jpg', 'y1000.jpg', 'y1160.jpg', 'y1230.jpg', 'y1328.jpg', 'y1346.jpg', 'y1381.jpg', 'y168.jpg', 'y151.jpg', 'y1468.jpg', 'y1229.jpg', 'y1441.jpg']\n"
          ]
        }
      ]
    },
    {
      "cell_type": "code",
      "source": [
        "# Build a dataframe        \n",
        "\n",
        "tumor_df = pd.DataFrame(data=dataset, columns=['Tumor', 'image'])\n",
        "print(tumor_df.head())\n",
        "print(tumor_df.tail())"
      ],
      "metadata": {
        "id": "8x6dLspb3r8C",
        "colab": {
          "base_uri": "https://localhost:8080/"
        },
        "outputId": "1490f8e9-3a86-4ee1-8eb4-4008be1e83a1"
      },
      "execution_count": 25,
      "outputs": [
        {
          "output_type": "stream",
          "name": "stdout",
          "text": [
            "  Tumor                                              image\n",
            "0    no  /content/drive/MyDrive/ColabNotebooks/BTdsYesN...\n",
            "1    no  /content/drive/MyDrive/ColabNotebooks/BTdsYesN...\n",
            "2    no  /content/drive/MyDrive/ColabNotebooks/BTdsYesN...\n",
            "3    no  /content/drive/MyDrive/ColabNotebooks/BTdsYesN...\n",
            "4    no  /content/drive/MyDrive/ColabNotebooks/BTdsYesN...\n",
            "     Tumor                                              image\n",
            "2995   yes  /content/drive/MyDrive/ColabNotebooks/BTdsYesN...\n",
            "2996   yes  /content/drive/MyDrive/ColabNotebooks/BTdsYesN...\n",
            "2997   yes  /content/drive/MyDrive/ColabNotebooks/BTdsYesN...\n",
            "2998   yes  /content/drive/MyDrive/ColabNotebooks/BTdsYesN...\n",
            "2999   yes  /content/drive/MyDrive/ColabNotebooks/BTdsYesN...\n"
          ]
        }
      ]
    },
    {
      "cell_type": "code",
      "source": [
        "# Let's check how many samples for each category are present\n",
        "print(\"Total number of images are there in the dataset: \", len(tumor_df))\n",
        "\n",
        "images_count = tumor_df['Tumor'].value_counts()\n",
        "\n",
        "print(\"Images in each category: \")\n",
        "print(images_count)"
      ],
      "metadata": {
        "id": "iaYoLQSG3r5O",
        "colab": {
          "base_uri": "https://localhost:8080/"
        },
        "outputId": "35002a78-9091-4b3b-d7df-5e6f3a4c45c5"
      },
      "execution_count": 26,
      "outputs": [
        {
          "output_type": "stream",
          "name": "stdout",
          "text": [
            "Total number of images are there in the dataset:  3000\n",
            "Images in each category: \n",
            "no     1500\n",
            "yes    1500\n",
            "Name: Tumor, dtype: int64\n"
          ]
        }
      ]
    },
    {
      "cell_type": "markdown",
      "source": [
        "**Data Processing**"
      ],
      "metadata": {
        "id": "PkXwnjhm3tBB"
      }
    },
    {
      "cell_type": "code",
      "source": [
        "import cv2\n",
        "from PIL import Image\n",
        "\n"
      ],
      "metadata": {
        "id": "WTrlpzPc22JF"
      },
      "execution_count": 27,
      "outputs": []
    },
    {
      "cell_type": "code",
      "source": [
        "no_tumor = os.listdir(img_dir + '/no')\n",
        "\n",
        "#check if it did it perfectly\n",
        "print(no_tumor)"
      ],
      "metadata": {
        "id": "TK87erLl_clR",
        "colab": {
          "base_uri": "https://localhost:8080/"
        },
        "outputId": "05b8a06b-3c91-48f8-9a52-babc1460fc34"
      },
      "execution_count": 28,
      "outputs": [
        {
          "output_type": "stream",
          "name": "stdout",
          "text": [
            "['no266.jpg', 'no1410.jpg', 'no175.jpg', 'no150.jpg', 'no183.jpg', 'no234.jpg', 'no1164.jpg', 'no1135.jpg', 'no1286.jpg', 'no1194.jpg', 'no1482.jpg', 'no1281.jpg', 'no163.jpg', 'no1070.jpg', 'no254.jpg', 'no200.jpg', 'no1146.jpg', 'no1476.jpg', 'no258.jpg', 'no279.jpg', 'no1169.jpg', 'no1371.jpg', 'no290.jpg', 'no1076.jpg', 'no1098.jpg', 'no1435.jpg', 'no185.jpg', 'no1148.jpg', 'no1347.jpg', 'no1094.jpg', 'no1448.jpg', 'no1343.jpg', 'no1302.jpg', 'no1060.jpg', 'no239.jpg', 'no1145.jpg', 'no1425.jpg', 'no1244.jpg', 'no261.jpg', 'no176.jpg', 'no262.jpg', 'no1295.jpg', 'no214.jpg', 'no1312.jpg', 'no1325.jpg', 'no235.jpg', 'no1428.jpg', 'no1427.jpg', 'no1134.jpg', 'no124.jpg', 'no270.jpg', 'no1252.jpg', 'no1354.jpg', 'no1061.jpg', 'no1493.jpg', 'no252.jpg', 'no1219.jpg', 'no1215.jpg', 'no1268.jpg', 'no1332.jpg', 'no1497.jpg', 'no296.jpg', 'no260.jpg', 'no1082.jpg', 'no1112.jpg', 'no133.jpg', 'no1123.jpg', 'no1170.jpg', 'no1230.jpg', 'no1132.jpg', 'no146.jpg', 'no1227.jpg', 'no1452.jpg', 'no179.jpg', 'no1172.jpg', 'no1283.jpg', 'no1319.jpg', 'no1142.jpg', 'no1171.jpg', 'no1203.jpg', 'no1486.jpg', 'no106.jpg', 'no1471.jpg', 'no1157.jpg', 'no1101.jpg', 'no159.jpg', 'no1249.jpg', 'no1183.jpg', 'no26.jpg', 'no297.jpg', 'no1151.jpg', 'no1153.jpg', 'no168.jpg', 'no130.jpg', 'no233.jpg', 'no108.jpg', 'no1349.jpg', 'no24.jpg', 'no280.jpg', 'no1393.jpg', 'no1358.jpg', 'no1479.jpg', 'no1147.jpg', 'no1255.jpg', 'no1224.jpg', 'no1339.jpg', 'no1186.jpg', 'no1495.jpg', 'no1222.jpg', 'no1483.jpg', 'no1375.jpg', 'no1256.jpg', 'no1066.jpg', 'no1071.jpg', 'no1447.jpg', 'no249.jpg', 'no1053.jpg', 'no223.jpg', 'no181.jpg', 'no22.jpg', 'no1496.jpg', 'no1389.jpg', 'no158.jpg', 'no283.jpg', 'no227.jpg', 'no1245.jpg', 'no134.jpg', 'no211.jpg', 'no256.jpg', 'no295.jpg', 'no123.jpg', 'no1406.jpg', 'no1099.jpg', 'no1308.jpg', 'no1330.jpg', 'no1469.jpg', 'no274.jpg', 'no1195.jpg', 'no1311.jpg', 'no1378.jpg', 'no1345.jpg', 'no1113.jpg', 'no1409.jpg', 'no1355.jpg', 'no1461.jpg', 'no1168.jpg', 'no157.jpg', 'no1472.jpg', 'no1068.jpg', 'no1334.jpg', 'no1382.jpg', 'no1189.jpg', 'no1228.jpg', 'no229.jpg', 'no286.jpg', 'no288.jpg', 'no255.jpg', 'no1306.jpg', 'no1478.jpg', 'no1338.jpg', 'no1279.jpg', 'no155.jpg', 'no1235.jpg', 'no1086.jpg', 'no1372.jpg', 'no277.jpg', 'no1423.jpg', 'no1259.jpg', 'no140.jpg', 'no1052.jpg', 'no1116.jpg', 'no246.jpg', 'no1424.jpg', 'no1284.jpg', 'no190.jpg', 'no213.jpg', 'no1340.jpg', 'no1304.jpg', 'no1273.jpg', 'no138.jpg', 'no1210.jpg', 'no1160.jpg', 'no1246.jpg', 'no1166.jpg', 'no1464.jpg', 'no1353.jpg', 'no110.jpg', 'no125.jpg', 'no1276.jpg', 'no1361.jpg', 'no1298.jpg', 'no245.jpg', 'no1414.jpg', 'no1337.jpg', 'no119.jpg', 'no253.jpg', 'no1176.jpg', 'no1364.jpg', 'no1324.jpg', 'no1236.jpg', 'no171.jpg', 'no1178.jpg', 'no221.jpg', 'no1073.jpg', 'no1108.jpg', 'no25.jpg', 'no1300.jpg', 'no180.jpg', 'no23.jpg', 'no1314.jpg', 'no1491.jpg', 'no1401.jpg', 'no1326.jpg', 'no1179.jpg', 'no1192.jpg', 'no162.jpg', 'no153.jpg', 'no1150.jpg', 'no1088.jpg', 'no1124.jpg', 'no20.jpg', 'no687.jpg', 'no801.jpg', 'no562.jpg', 'no557.jpg', 'no432.jpg', 'no370.jpg', 'no568.jpg', 'no582.jpg', 'no364.jpg', 'no788.jpg', 'no749.jpg', 'no760.jpg', 'no515.jpg', 'no657.jpg', 'no367.jpg', 'no610.jpg', 'no369.jpg', 'no669.jpg', 'no42.jpg', 'no627.jpg', 'no360.jpg', 'no765.jpg', 'no775.jpg', 'no803.jpg', 'no730.jpg', 'no640.jpg', 'no748.jpg', 'no451.jpg', 'no381.jpg', 'no390.jpg', 'no400.jpg', 'no541.jpg', 'no468.jpg', 'no410.jpg', 'no345.jpg', 'no5.jpg', 'no536.jpg', 'no711.jpg', 'no619.jpg', 'no636.jpg', 'no770.jpg', 'no662.jpg', 'no666.jpg', 'no519.jpg', 'no474.jpg', 'no350.jpg', 'no70.jpg', 'no308.jpg', 'no44.jpg', 'no7.jpg', 'no347.jpg', 'no459.jpg', 'no719.jpg', 'no439.jpg', 'no372.jpg', 'no467.jpg', 'no734.jpg', 'no403.jpg', 'no385.jpg', 'no352.jpg', 'no341.jpg', 'no431.jpg', 'no553.jpg', 'no615.jpg', 'no388.jpg', 'no735.jpg', 'no3.jpg', 'no787.jpg', 'no412.jpg', 'no80.jpg', 'no737.jpg', 'no679.jpg', 'no559.jpg', 'no47.jpg', 'no302.jpg', 'no535.jpg', 'no450.jpg', 'no688.jpg', 'no507.jpg', 'no743.jpg', 'no722.jpg', 'no438.jpg', 'no585.jpg', 'no774.jpg', 'no695.jpg', 'no799.jpg', 'no490.jpg', 'no637.jpg', 'no35.jpg', 'no441.jpg', 'no538.jpg', 'no475.jpg', 'no689.jpg', 'no591.jpg', 'no394.jpg', 'no708.jpg', 'no332.jpg', 'no452.jpg', 'no620.jpg', 'no709.jpg', 'no424.jpg', 'no756.jpg', 'no411.jpg', 'no586.jpg', 'no594.jpg', 'no472.jpg', 'no481.jpg', 'no51.jpg', 'no641.jpg', 'no638.jpg', 'no484.jpg', 'no455.jpg', 'no321.jpg', 'no626.jpg', 'no375.jpg', 'no307.jpg', 'no526.jpg', 'no758.jpg', 'no59.jpg', 'no357.jpg', 'no732.jpg', 'no761.jpg', 'no520.jpg', 'no569.jpg', 'no532.jpg', 'no523.jpg', 'no566.jpg', 'no757.jpg', 'no684.jpg', 'no298.jpg', 'no726.jpg', 'no700.jpg', 'no589.jpg', 'no41.jpg', 'no522.jpg', 'no435.jpg', 'no368.jpg', 'no323.jpg', 'no399.jpg', 'no595.jpg', 'no353.jpg', 'no31.jpg', 'no389.jpg', 'no469.jpg', 'no647.jpg', 'no692.jpg', 'no543.jpg', 'no674.jpg', 'no564.jpg', 'no629.jpg', 'no322.jpg', 'no634.jpg', 'no584.jpg', 'no338.jpg', 'no606.jpg', 'no607.jpg', 'no614.jpg', 'no633.jpg', 'no673.jpg', 'no706.jpg', 'no509.jpg', 'no342.jpg', 'no4.jpg', 'no672.jpg', 'no63.jpg', 'no38.jpg', 'no317.jpg', 'no486.jpg', 'no772.jpg', 'no698.jpg', 'no576.jpg', 'no548.jpg', 'no600.jpg', 'no521.jpg', 'no751.jpg', 'no561.jpg', 'no356.jpg', 'no762.jpg', 'no602.jpg', 'no675.jpg', 'no463.jpg', 'no331.jpg', 'no556.jpg', 'no324.jpg', 'no690.jpg', 'no661.jpg', 'no466.jpg', 'no530.jpg', 'no658.jpg', 'no485.jpg', 'no40.jpg', 'no745.jpg', 'no68.jpg', 'no664.jpg', 'no733.jpg', 'no763.jpg', 'no383.jpg', 'no802.jpg', 'no667.jpg', 'no414.jpg', 'no651.jpg', 'no427.jpg', 'no604.jpg', 'no473.jpg', 'no419.jpg', 'no796.jpg', 'no728.jpg', 'no319.jpg', 'no660.jpg', 'no461.jpg', 'no555.jpg', 'no445.jpg', 'no747.jpg', 'no482.jpg', 'no668.jpg', 'no391.jpg', 'no581.jpg', 'no575.jpg', 'no593.jpg', 'no401.jpg', 'no693.jpg', 'no654.jpg', 'no544.jpg', 'no513.jpg', 'no373.jpg', 'no409.jpg', 'no355.jpg', 'no349.jpg', 'no72.jpg', 'no316.jpg', 'no54.jpg', 'no771.jpg', 'no611.jpg', 'no453.jpg', 'no393.jpg', 'no742.jpg', 'no691.jpg', 'no503.jpg', 'no408.jpg', 'no498.jpg', 'no504.jpg', 'no443.jpg', 'no753.jpg', 'no782.jpg', 'no494.jpg', 'no715.jpg', 'no560.jpg', 'no789.jpg', 'no528.jpg', 'no649.jpg', 'no779.jpg', 'no32.jpg', 'no392.jpg', 'no550.jpg', 'no784.jpg', 'no429.jpg', 'no497.jpg', 'no786.jpg', 'no77.jpg', 'no795.jpg', 'no50.jpg', 'no511.jpg', 'no303.jpg', 'no718.jpg', 'no806.jpg', 'no430.jpg', 'no458.jpg', 'no785.jpg', 'no359.jpg', 'no336.jpg', 'no590.jpg', 'no746.jpg', 'no686.jpg', 'no447.jpg', 'no605.jpg', 'no456.jpg', 'no776.jpg', 'no791.jpg', 'no405.jpg', 'no579.jpg', 'no6.jpg', 'no601.jpg', 'no609.jpg', 'no380.jpg', 'no75.jpg', 'no736.jpg', 'no652.jpg', 'no55.jpg', 'no642.jpg', 'no501.jpg', 'no48.jpg', 'no339.jpg', 'no506.jpg', 'no617.jpg', 'no646.jpg', 'no52.jpg', 'no465.jpg', 'no311.jpg', 'no361.jpg', 'no479.jpg', 'no304.jpg', 'no502.jpg', 'no73.jpg', 'no74.jpg', 'no676.jpg', 'no558.jpg', 'no396.jpg', 'no663.jpg', 'no583.jpg', 'no573.jpg', 'no326.jpg', 'no537.jpg', 'no67.jpg', 'no655.jpg', 'no524.jpg', 'no66.jpg', 'no644.jpg', 'no625.jpg', 'no529.jpg', 'no781.jpg', 'no804.jpg', 'no744.jpg', 'no551.jpg', 'no635.jpg', 'no510.jpg', 'no489.jpg', 'no694.jpg', 'no613.jpg', 'no327.jpg', 'no448.jpg', 'no46.jpg', 'no402.jpg', 'no421.jpg', 'no678.jpg', 'no632.jpg', 'no631.jpg', 'no505.jpg', 'no665.jpg', 'no36.jpg', 'no793.jpg', 'no488.jpg', 'no702.jpg', 'no314.jpg', 'no705.jpg', 'no731.jpg', 'no587.jpg', 'no653.jpg', 'no670.jpg', 'no426.jpg', 'no703.jpg', 'no395.jpg', 'no378.jpg', 'no729.jpg', 'no442.jpg', 'no683.jpg', 'no39.jpg', 'no305.jpg', 'no738.jpg', 'no61.jpg', 'no621.jpg', 'no43.jpg', 'no773.jpg', 'no315.jpg', 'no437.jpg', 'no685.jpg', 'no549.jpg', 'no648.jpg', 'no725.jpg', 'no547.jpg', 'no337.jpg', 'no527.jpg', 'no554.jpg', 'no540.jpg', 'no777.jpg', 'no598.jpg', 'no599.jpg', 'no643.jpg', 'no471.jpg', 'no500.jpg', 'no34.jpg', 'no478.jpg', 'no570.jpg', 'no8.jpg', 'no37.jpg', 'no680.jpg', 'no406.jpg', 'no577.jpg', 'no397.jpg', 'no457.jpg', 'no622.jpg', 'no49.jpg', 'no780.jpg', 'no659.jpg', 'no71.jpg', 'no312.jpg', 'no454.jpg', 'no351.jpg', 'no800.jpg', 'no707.jpg', 'no377.jpg', 'no416.jpg', 'no318.jpg', 'no727.jpg', 'no571.jpg', 'no476.jpg', 'no797.jpg', 'no534.jpg', 'no764.jpg', 'no572.jpg', 'no470.jpg', 'no366.jpg', 'no512.jpg', 'no493.jpg', 'no592.jpg', 'no480.jpg', 'no574.jpg', 'no376.jpg', 'no330.jpg', 'no334.jpg', 'no721.jpg', 'no778.jpg', 'no623.jpg', 'no343.jpg', 'no720.jpg', 'no425.jpg', 'no496.jpg', 'no58.jpg', 'no612.jpg', 'no712.jpg', 'no578.jpg', 'no491.jpg', 'no340.jpg', 'no387.jpg', 'no701.jpg', 'no299.jpg', 'no767.jpg', 'no714.jpg', 'no56.jpg', 'no320.jpg', 'no404.jpg', 'no306.jpg', 'no783.jpg', 'no565.jpg', 'no739.jpg', 'no487.jpg', 'no630.jpg', 'no492.jpg', 'no755.jpg', 'no422.jpg', 'no740.jpg', 'no552.jpg', 'no53.jpg', 'no717.jpg', 'no333.jpg', 'no313.jpg', 'no750.jpg', 'no335.jpg', 'no464.jpg', 'no348.jpg', 'no423.jpg', 'no580.jpg', 'no440.jpg', 'no69.jpg', 'no407.jpg', 'no682.jpg', 'no716.jpg', 'no790.jpg', 'no741.jpg', 'no697.jpg', 'no363.jpg', 'no616.jpg', 'no618.jpg', 'no346.jpg', 'no382.jpg', 'no546.jpg', 'no508.jpg', 'no542.jpg', 'no64.jpg', 'no597.jpg', 'no462.jpg', 'no418.jpg', 'no531.jpg', 'no603.jpg', 'no65.jpg', 'no78.jpg', 'no398.jpg', 'no358.jpg', 'no62.jpg', 'no309.jpg', 'no516.jpg', 'no517.jpg', 'no45.jpg', 'no433.jpg', 'no499.jpg', 'no628.jpg', 'no671.jpg', 'no30.jpg', 'no723.jpg', 'no436.jpg', 'no384.jpg', 'no420.jpg', 'no759.jpg', 'no79.jpg', 'no677.jpg', 'no539.jpg', 'no645.jpg', 'no624.jpg', 'no417.jpg', 'no563.jpg', 'no596.jpg', 'no724.jpg', 'no76.jpg', 'no710.jpg', 'no518.jpg', 'no477.jpg', 'no33.jpg', 'no713.jpg', 'no428.jpg', 'no386.jpg', 'no681.jpg', 'no792.jpg', 'no798.jpg', 'no588.jpg', 'no60.jpg', 'no379.jpg', 'no325.jpg', 'no449.jpg', 'no329.jpg', 'no766.jpg', 'no57.jpg', 'no413.jpg', 'no434.jpg', 'no794.jpg', 'no639.jpg', 'no650.jpg', 'no365.jpg', 'no460.jpg', 'no533.jpg', 'no328.jpg', 'no752.jpg', 'no371.jpg', 'no545.jpg', 'no300.jpg', 'no374.jpg', 'no608.jpg', 'no362.jpg', 'no754.jpg', 'no656.jpg', 'no301.jpg', 'no354.jpg', 'no483.jpg', 'no805.jpg', 'no514.jpg', 'no768.jpg', 'no704.jpg', 'no415.jpg', 'no769.jpg', 'no444.jpg', 'no567.jpg', 'no696.jpg', 'no495.jpg', 'no525.jpg', 'no310.jpg', 'no446.jpg', 'no344.jpg', 'no699.jpg', 'no907.jpg', 'no82.jpg', 'no832.jpg', 'no852.jpg', 'no902.jpg', 'no99.jpg', 'no873.jpg', 'no990.jpg', 'no92.jpg', 'no96.jpg', 'no840.jpg', 'no921.jpg', 'no897.jpg', 'no838.jpg', 'no863.jpg', 'no858.jpg', 'no865.jpg', 'no85.jpg', 'no834.jpg', 'no953.jpg', 'no881.jpg', 'no807.jpg', 'no836.jpg', 'no867.jpg', 'no854.jpg', 'no936.jpg', 'no888.jpg', 'no886.jpg', 'no952.jpg', 'no949.jpg', 'no97.jpg', 'no879.jpg', 'no922.jpg', 'no910.jpg', 'no992.jpg', 'no994.jpg', 'no861.jpg', 'no866.jpg', 'no941.jpg', 'no948.jpg', 'no810.jpg', 'no912.jpg', 'no872.jpg', 'no825.jpg', 'no885.jpg', 'no942.jpg', 'no860.jpg', 'no977.jpg', 'no893.jpg', 'no905.jpg', 'no919.jpg', 'no816.jpg', 'no883.jpg', 'no93.jpg', 'no932.jpg', 'no937.jpg', 'no982.jpg', 'no820.jpg', 'no818.jpg', 'no985.jpg', 'no837.jpg', 'no973.jpg', 'no833.jpg', 'no999.jpg', 'no967.jpg', 'no928.jpg', 'no878.jpg', 'no947.jpg', 'no956.jpg', 'no851.jpg', 'no989.jpg', 'no892.jpg', 'no90.jpg', 'no945.jpg', 'no815.jpg', 'no890.jpg', 'no821.jpg', 'no94.jpg', 'no940.jpg', 'no98.jpg', 'no823.jpg', 'no991.jpg', 'no875.jpg', 'no955.jpg', 'no969.jpg', 'no841.jpg', 'no904.jpg', 'no935.jpg', 'no976.jpg', 'no913.jpg', 'no847.jpg', 'no931.jpg', 'no843.jpg', 'no84.jpg', 'no826.jpg', 'no842.jpg', 'no950.jpg', 'no877.jpg', 'no876.jpg', 'no981.jpg', 'no962.jpg', 'no809.jpg', 'no839.jpg', 'no934.jpg', 'no993.jpg', 'no998.jpg', 'no846.jpg', 'no824.jpg', 'no959.jpg', 'no864.jpg', 'no964.jpg', 'no946.jpg', 'no997.jpg', 'no83.jpg', 'no884.jpg', 'no855.jpg', 'no975.jpg', 'no930.jpg', 'no995.jpg', 'no811.jpg', 'no984.jpg', 'no81.jpg', 'no813.jpg', 'no914.jpg', 'no926.jpg', 'no848.jpg', 'no917.jpg', 'no911.jpg', 'no966.jpg', 'no915.jpg', 'no901.jpg', 'no924.jpg', 'no944.jpg', 'no983.jpg', 'no943.jpg', 'no980.jpg', 'no827.jpg', 'no874.jpg', 'no819.jpg', 'no939.jpg', 'no961.jpg', 'no923.jpg', 'no933.jpg', 'no889.jpg', 'no871.jpg', 'no971.jpg', 'no808.jpg', 'no925.jpg', 'no906.jpg', 'no896.jpg', 'no968.jpg', 'no988.jpg', 'no831.jpg', 'no965.jpg', 'no894.jpg', 'no9.jpg', 'no844.jpg', 'no835.jpg', 'no916.jpg', 'no895.jpg', 'no978.jpg', 'no91.jpg', 'no974.jpg', 'no920.jpg', 'no849.jpg', 'no814.jpg', 'no970.jpg', 'no957.jpg', 'no882.jpg', 'no958.jpg', 'no909.jpg', 'no972.jpg', 'no856.jpg', 'no89.jpg', 'no900.jpg', 'no899.jpg', 'no845.jpg', 'no812.jpg', 'no986.jpg', 'no954.jpg', 'no859.jpg', 'no929.jpg', 'no979.jpg', 'no987.jpg', 'no857.jpg', 'no951.jpg', 'no87.jpg', 'no927.jpg', 'no862.jpg', 'no822.jpg', 'no88.jpg', 'no891.jpg', 'no829.jpg', 'no908.jpg', 'no868.jpg', 'no830.jpg', 'no938.jpg', 'no996.jpg', 'no850.jpg', 'no869.jpg', 'no95.jpg', 'no903.jpg', 'no963.jpg', 'no960.jpg', 'no86.jpg', 'no918.jpg', 'no880.jpg', 'no853.jpg', 'no828.jpg', 'no817.jpg', 'no887.jpg', 'no898.jpg', 'no870.jpg', 'no1041.jpg', 'No13.jpg', 'no1032.jpg', 'no1014.jpg', 'no1028.jpg', 'no1021.jpg', 'no1019.jpg', 'no1000.jpg', 'no1046.jpg', 'No15.jpg', 'no1016.jpg', 'no1036.jpg', 'no100.jpg', 'no1044.jpg', 'no1011.jpg', 'no1043.jpg', 'no1049.jpg', 'no1029.jpg', 'no1003.jpg', 'no1020.jpg', 'no1025.jpg', 'no1030.jpg', 'no1004.jpg', 'no10.jpg', 'no1048.jpg', 'no0.jpg', 'No12.jpg', 'no1047.jpg', 'no1010.jpg', 'no1024.jpg', 'no1005.jpg', 'no1007.jpg', 'No17.jpg', 'no1022.jpg', 'no1023.jpg', 'no1033.jpg', 'no1018.jpg', 'No14.jpg', 'no1037.jpg', 'no101.jpg', 'No19.jpg', 'no1031.jpg', 'no1042.jpg', 'no104.jpg', 'no103.jpg', 'no1013.jpg', 'no105.jpg', 'no1012.jpg', 'no1026.jpg', 'no1001.jpg', 'no1038.jpg', 'no1017.jpg', 'no1009.jpg', 'no1040.jpg', 'no1045.jpg', 'no1006.jpg', 'no1039.jpg', 'no1.jpg', 'no1035.jpg', 'no1002.jpg', 'no1008.jpg', 'no1034.jpg', 'no1027.jpg', 'no1015.jpg', 'no102.jpg', 'No18.jpg', 'no1133.jpg', 'no1344.jpg', 'no1440.jpg', 'no1430.jpg', 'no1356.jpg', 'no1158.jpg', 'no149.jpg', 'no1282.jpg', 'no154.jpg', 'no16.jpg', 'no1277.jpg', 'no218.jpg', 'no1290.jpg', 'no1251.jpg', 'no1247.jpg', 'no122.jpg', 'no1327.jpg', 'no1081.jpg', 'no1305.jpg', 'no142.jpg', 'no1489.jpg', 'no1193.jpg', 'no1138.jpg', 'no2.jpg', 'no1466.jpg', 'no1387.jpg', 'no1119.jpg', 'no1400.jpg', 'no267.jpg', 'no1392.jpg', 'no276.jpg', 'no1191.jpg', 'no1242.jpg', 'no1165.jpg', 'no1405.jpg', 'no1450.jpg', 'no111.jpg', 'no1152.jpg', 'no1092.jpg', 'no29.jpg', 'no216.jpg', 'no268.jpg', 'no1404.jpg', 'no1225.jpg', 'no1415.jpg', 'no1188.jpg', 'no265.jpg', 'no271.jpg', 'no1291.jpg', 'no1335.jpg', 'no284.jpg', 'no248.jpg', 'no188.jpg', 'no1258.jpg', 'no141.jpg', 'no1274.jpg', 'no1140.jpg', 'no1271.jpg', 'no167.jpg', 'no1087.jpg', 'no1209.jpg', 'no1093.jpg', 'no1294.jpg', 'no126.jpg', 'no1350.jpg', 'no1417.jpg', 'no278.jpg', 'no151.jpg', 'no1456.jpg', 'no1363.jpg', 'no1499.jpg', 'no263.jpg', 'no1212.jpg', 'no1103.jpg', 'no1315.jpg', 'no1118.jpg', 'no1254.jpg', 'no1398.jpg', 'no1058.jpg', 'no1367.jpg', 'no1477.jpg', 'no1388.jpg', 'no1211.jpg', 'no1301.jpg', 'no1050.jpg', 'no206.jpg', 'no208.jpg', 'no209.jpg', 'no1481.jpg', 'no164.jpg', 'no1342.jpg', 'no1115.jpg', 'no1463.jpg', 'no1408.jpg', 'no121.jpg', 'no1232.jpg', 'no109.jpg', 'no139.jpg', 'no1085.jpg', 'no169.jpg', 'no1397.jpg', 'no1084.jpg', 'no117.jpg', 'no11.jpg', 'no1454.jpg', 'no1336.jpg', 'no1214.jpg', 'no1494.jpg', 'no1377.jpg', 'no1198.jpg', 'no232.jpg', 'no1200.jpg', 'no1449.jpg', 'no207.jpg', 'no1474.jpg', 'no1412.jpg', 'no1287.jpg', 'no1303.jpg', 'no1431.jpg', 'no1054.jpg', 'no1144.jpg', 'no1075.jpg', 'no1278.jpg', 'no166.jpg', 'no1437.jpg', 'no1120.jpg', 'no1362.jpg', 'no1130.jpg', 'no1407.jpg', 'no1487.jpg', 'no1374.jpg', 'no1420.jpg', 'no1318.jpg', 'no1257.jpg', 'no1097.jpg', 'no1143.jpg', 'no182.jpg', 'no1468.jpg', 'no1369.jpg', 'no173.jpg', 'no1436.jpg', 'no1237.jpg', 'no1065.jpg', 'no1185.jpg', 'no187.jpg', 'no1136.jpg', 'no1221.jpg', 'no184.jpg', 'no1323.jpg', 'no1162.jpg', 'no1208.jpg', 'no1285.jpg', 'no1104.jpg', 'no1091.jpg', 'no196.jpg', 'no292.jpg', 'no1490.jpg', 'no197.jpg', 'no1205.jpg', 'no1253.jpg', 'no1368.jpg', 'no1177.jpg', 'no1316.jpg', 'no1083.jpg', 'no1174.jpg', 'no250.jpg', 'no1234.jpg', 'no1307.jpg', 'no192.jpg', 'no1127.jpg', 'no1296.jpg', 'no1161.jpg', 'no132.jpg', 'no1106.jpg', 'no1265.jpg', 'no1399.jpg', 'no194.jpg', 'no1351.jpg', 'no1206.jpg', 'no135.jpg', 'no225.jpg', 'no1201.jpg', 'no1465.jpg', 'no1341.jpg', 'no1272.jpg', 'no1445.jpg', 'no1080.jpg', 'no1416.jpg', 'no1213.jpg', 'no1180.jpg', 'no170.jpg', 'no272.jpg', 'no1280.jpg', 'no144.jpg', 'no1480.jpg', 'no220.jpg', 'no1069.jpg', 'no1223.jpg', 'no1243.jpg', 'no1196.jpg', 'no1288.jpg', 'no1207.jpg', 'no177.jpg', 'no129.jpg', 'no1149.jpg', 'no282.jpg', 'no1488.jpg', 'no1055.jpg', 'no1111.jpg', 'no215.jpg', 'no273.jpg', 'no136.jpg', 'no1107.jpg', 'no1370.jpg', 'no114.jpg', 'no1239.jpg', 'no1429.jpg', 'no1226.jpg', 'no191.jpg', 'no161.jpg', 'no217.jpg', 'no1217.jpg', 'no1402.jpg', 'no231.jpg', 'no199.jpg', 'no1329.jpg', 'no1498.jpg', 'no1109.jpg', 'no1057.jpg', 'no1175.jpg', 'no21.jpg', 'no186.jpg', 'no1264.jpg', 'no1250.jpg', 'no1357.jpg', 'no1352.jpg', 'no1467.jpg', 'no226.jpg', 'no1137.jpg', 'no1313.jpg', 'no1460.jpg', 'no1117.jpg', 'no1114.jpg', 'no1218.jpg', 'no203.jpg', 'no1202.jpg', 'no1346.jpg', 'no259.jpg', 'no1426.jpg', 'no236.jpg', 'no1184.jpg', 'no1328.jpg', 'no195.jpg', 'no160.jpg', 'no210.jpg', 'no285.jpg', 'no1216.jpg', 'no1441.jpg', 'no1051.jpg', 'no1159.jpg', 'no1182.jpg', 'no189.jpg', 'no118.jpg', 'no1121.jpg', 'no1292.jpg', 'no1442.jpg', 'no238.jpg', 'no1155.jpg', 'no1102.jpg', 'no1331.jpg', 'no148.jpg', 'no1204.jpg', 'no293.jpg', 'no174.jpg', 'no131.jpg', 'no251.jpg', 'no1063.jpg', 'no1459.jpg', 'no1317.jpg', 'no1141.jpg', 'no291.jpg', 'no1233.jpg', 'no1156.jpg', 'no1067.jpg', 'no1100.jpg', 'no1181.jpg', 'no1320.jpg', 'no1078.jpg', 'no1434.jpg', 'no241.jpg', 'no112.jpg', 'no1220.jpg', 'no147.jpg', 'no247.jpg', 'no1451.jpg', 'no244.jpg', 'no275.jpg', 'no127.jpg', 'no1229.jpg', 'no1199.jpg', 'no1470.jpg', 'no222.jpg', 'no243.jpg', 'no1122.jpg', 'no1383.jpg', 'no1270.jpg', 'no1321.jpg', 'no281.jpg', 'no1322.jpg', 'no1056.jpg', 'no1173.jpg', 'no193.jpg', 'no1385.jpg', 'no219.jpg', 'no1110.jpg', 'no1421.jpg', 'no1163.jpg', 'no224.jpg', 'no1492.jpg', 'no1458.jpg', 'no1485.jpg', 'no1062.jpg', 'no1095.jpg', 'no1462.jpg', 'no1390.jpg', 'no1167.jpg', 'no1438.jpg', 'no205.jpg', 'no1432.jpg', 'no1455.jpg', 'no1348.jpg', 'no178.jpg', 'no1231.jpg', 'no1267.jpg', 'no1187.jpg', 'no156.jpg', 'no1059.jpg', 'no1384.jpg', 'no1260.jpg', 'no1381.jpg', 'no1360.jpg', 'no1090.jpg', 'no1359.jpg', 'no1197.jpg', 'no1386.jpg', 'no113.jpg', 'no1475.jpg', 'no145.jpg', 'no1446.jpg', 'no1261.jpg', 'no1411.jpg', 'no1444.jpg', 'no1240.jpg', 'no1453.jpg', 'no1128.jpg', 'no1403.jpg', 'no1419.jpg', 'no202.jpg', 'no1422.jpg', 'no1391.jpg', 'no120.jpg', 'no212.jpg', 'no1241.jpg', 'no1396.jpg', 'no1379.jpg', 'no287.jpg', 'no1275.jpg', 'no107.jpg', 'no1266.jpg', 'no1131.jpg', 'no1380.jpg', 'no1089.jpg', 'no1484.jpg', 'no1413.jpg', 'no1433.jpg', 'no1366.jpg', 'no242.jpg', 'no1309.jpg', 'no1072.jpg', 'no230.jpg', 'no1190.jpg', 'no1376.jpg', 'no1310.jpg', 'no204.jpg', 'no1154.jpg', 'no294.jpg', 'no1105.jpg', 'no165.jpg', 'no1079.jpg', 'no115.jpg', 'no1457.jpg', 'no1394.jpg', 'no289.jpg', 'no257.jpg', 'no1126.jpg', 'no1269.jpg', 'no264.jpg', 'no1333.jpg', 'no1125.jpg', 'no1238.jpg', 'no201.jpg', 'no1365.jpg', 'no1439.jpg', 'no1293.jpg', 'no1373.jpg', 'no237.jpg', 'no1139.jpg', 'no1096.jpg', 'no137.jpg', 'no269.jpg', 'no1395.jpg', 'no143.jpg', 'no1473.jpg', 'no1129.jpg', 'no27.jpg', 'no1077.jpg', 'no1418.jpg', 'no1443.jpg', 'no1289.jpg', 'no1064.jpg', 'no28.jpg', 'no1262.jpg', 'no1263.jpg', 'no1074.jpg', 'no240.jpg', 'no1297.jpg', 'no228.jpg', 'no1248.jpg', 'no116.jpg', 'no1299.jpg', 'no198.jpg', 'no152.jpg', 'no172.jpg', 'no128.jpg']\n"
          ]
        }
      ]
    },
    {
      "cell_type": "code",
      "source": [
        "im_size = 64\n",
        "\n",
        "dataset = []\n",
        "label = []\n",
        "\n",
        "# for i in tumor_df:\n",
        "#     data_path = img_dir + str(i)  \n",
        "#     filenames = [i for i in os.listdir(data_path) ]\n",
        "   \n",
        "#     for f in filenames:\n",
        "#         img = cv2.imread(data_path + '/' + f)\n",
        "#         img = cv2.resize(img, (im_size, im_size))\n",
        "#         dataset.append(img)\n",
        "#         label.append(i)\n"
      ],
      "metadata": {
        "id": "bV8loD9a3Jds"
      },
      "execution_count": 29,
      "outputs": []
    },
    {
      "cell_type": "code",
      "source": [
        "# check it its a jpg bcz we only needed jpg img only\n",
        "\n",
        "for i , img_all in enumerate(no_tumor):\n",
        "    if( img_all.split('.')[1] == 'jpg' ):\n",
        "        image = cv2.imread( img_dir + 'no/' + img_all)  # selection of only .jpg format\n",
        "        image = Image.fromarray( image, 'RGB')\n",
        "        image = image.resize( (im_size,im_size) ) # resizing image \n",
        "        dataset.append( np.array(image))\n",
        "        label.append(0)"
      ],
      "metadata": {
        "id": "xDpQciat_kmV"
      },
      "execution_count": null,
      "outputs": []
    },
    {
      "cell_type": "code",
      "source": [
        "# doing the same for tumor = yes images\n",
        "yes_tumor = os.listdir(img_dir + 'yes')\n",
        "for i , img_all in enumerate(yes_tumor):\n",
        "    if( img_all.split('.')[1] == 'jpg' ):\n",
        "        image = cv2.imread( img_dir + 'yes/' + img_all)  # selection of only .jpg format\n",
        "        image = Image.fromarray( image, 'RGB')\n",
        "        image = image.resize( (im_size,im_size) ) # resizing image \n",
        "        dataset.append( np.array(image))\n",
        "        label.append(1)"
      ],
      "metadata": {
        "id": "kpVXtdbC_5ei"
      },
      "execution_count": null,
      "outputs": []
    },
    {
      "cell_type": "code",
      "source": [
        "print(len(label))\n",
        "len(dataset)"
      ],
      "metadata": {
        "id": "rPIQeycMARkN"
      },
      "execution_count": null,
      "outputs": []
    },
    {
      "cell_type": "code",
      "source": [
        "dataset = np.array(dataset)\n",
        "\n",
        "dataset = dataset.astype('float32') / 255.0\n",
        "dataset.shape "
      ],
      "metadata": {
        "id": "GtLHnESXAraN",
        "colab": {
          "base_uri": "https://localhost:8080/"
        },
        "outputId": "e97127f4-7cbb-436e-9c3f-53bb7d015914"
      },
      "execution_count": 33,
      "outputs": [
        {
          "output_type": "execute_result",
          "data": {
            "text/plain": [
              "(3000, 64, 64, 3)"
            ]
          },
          "metadata": {},
          "execution_count": 33
        }
      ]
    },
    {
      "cell_type": "code",
      "source": [
        "from sklearn.preprocessing import LabelEncoder , OneHotEncoder\n",
        "from sklearn.compose import ColumnTransformer\n",
        "\n",
        "\n",
        "y=tumor_df['Tumor'].values\n",
        "#print(y[:5])\n",
        "\n",
        "y_labelencoder = LabelEncoder ()\n",
        "y = y_labelencoder.fit_transform (y)\n",
        "y"
      ],
      "metadata": {
        "id": "uUxDWs82BSDB",
        "colab": {
          "base_uri": "https://localhost:8080/"
        },
        "outputId": "8ffd11bf-5675-475e-9632-f4392f18667e"
      },
      "execution_count": 34,
      "outputs": [
        {
          "output_type": "execute_result",
          "data": {
            "text/plain": [
              "array([0, 0, 0, ..., 1, 1, 1])"
            ]
          },
          "metadata": {},
          "execution_count": 34
        }
      ]
    },
    {
      "cell_type": "code",
      "source": [
        "y = y.reshape(-1,1)\n",
        "columnTransformer = ColumnTransformer([('encoder', OneHotEncoder(), [0])],remainder='passthrough')\n",
        "Y=np.array(columnTransformer.fit_transform(y)) #dtype=np.str\n",
        "Y.shape"
      ],
      "metadata": {
        "id": "WUZnXi_HChs6",
        "colab": {
          "base_uri": "https://localhost:8080/"
        },
        "outputId": "8d9027d4-6378-46fb-c02e-98608e60ea90"
      },
      "execution_count": 35,
      "outputs": [
        {
          "output_type": "execute_result",
          "data": {
            "text/plain": [
              "(3000, 2)"
            ]
          },
          "metadata": {},
          "execution_count": 35
        }
      ]
    },
    {
      "cell_type": "code",
      "source": [
        "# y=y.reshape(-1,1)\n",
        "# onehotencoder = OneHotEncoder(categorical_features=[0])  #Converted  scalar output into vector output where the correct class will be 1 and other will be 0\n",
        "# Y= onehotencoder.fit_transform(y)\n",
        "# Y.shape  #(40, 2)"
      ],
      "metadata": {
        "id": "CClTPBtfBoHp"
      },
      "execution_count": 36,
      "outputs": []
    },
    {
      "cell_type": "code",
      "source": [
        "from sklearn.model_selection import train_test_split\n",
        "from sklearn.utils import shuffle\n",
        "\n",
        "\n",
        "images, Y = shuffle(dataset, Y, random_state=1)\n",
        "\n",
        "train_x, test_x, train_y, test_y = train_test_split(images, Y, test_size=0.2, random_state=0)"
      ],
      "metadata": {
        "id": "dDRmVMN4Dohu"
      },
      "execution_count": 37,
      "outputs": []
    },
    {
      "cell_type": "code",
      "source": [
        "# from sklearn.model_selection import train_test_split\n",
        "# label = np.array(label)\n",
        "\n",
        "# x_train , x_test , y_train , y_test = train_test_split( dataset , label, test_size=0.2 , random_state=0)"
      ],
      "metadata": {
        "id": "QA7NvkiJAelW"
      },
      "execution_count": 38,
      "outputs": []
    },
    {
      "cell_type": "code",
      "source": [
        "print(train_x.shape)\n",
        "print(train_y.shape)\n",
        "print(test_x.shape)\n",
        "print(test_y.shape)"
      ],
      "metadata": {
        "id": "9tBA7R3yENLn",
        "colab": {
          "base_uri": "https://localhost:8080/"
        },
        "outputId": "e0d9195d-91a6-4d3c-98c2-110dce4e2de6"
      },
      "execution_count": 39,
      "outputs": [
        {
          "output_type": "stream",
          "name": "stdout",
          "text": [
            "(2400, 64, 64, 3)\n",
            "(2400, 2)\n",
            "(600, 64, 64, 3)\n",
            "(600, 2)\n"
          ]
        }
      ]
    },
    {
      "cell_type": "markdown",
      "source": [
        "# RES NET\n"
      ],
      "metadata": {
        "id": "DBSe_5ttw4An"
      }
    },
    {
      "cell_type": "code",
      "source": [
        "import numpy as np\n",
        "from keras import layers\n",
        "from keras.layers import Input, Add, Dense, Activation, ZeroPadding2D, BatchNormalization, Flatten, Conv2D, AveragePooling2D, MaxPooling2D, GlobalMaxPooling2D\n",
        "from keras.models import Model, load_model\n",
        "from keras.preprocessing import image\n",
        "from keras.utils import layer_utils\n",
        "from keras.utils.data_utils import get_file\n",
        "from keras.applications.imagenet_utils import preprocess_input\n",
        "import pydot\n",
        "from IPython.display import SVG\n",
        "from keras.utils.vis_utils import model_to_dot\n",
        "from keras.utils import plot_model\n",
        "\n",
        "from keras.initializers import glorot_uniform\n",
        "import scipy.misc\n",
        "from matplotlib.pyplot import imshow\n",
        "\n",
        "from keras.initializers import glorot_uniform\n",
        "from keras.layers import Input, Add, Dense, Activation, ZeroPadding2D, BatchNormalization, Flatten, Conv2D, AveragePooling2D, MaxPooling2D, GlobalMaxPooling2D"
      ],
      "metadata": {
        "id": "VSzugM8Jw3io"
      },
      "execution_count": 40,
      "outputs": []
    },
    {
      "cell_type": "code",
      "source": [
        "\n",
        "def identity_block(X, f, filters, stage, block):\n",
        "    \"\"\"\n",
        "   \n",
        "    Arguments:\n",
        "    X -- input of shape (m, height, width, channel)\n",
        "    f -- shape of the middle CONV's window for the main path\n",
        "    filters -- python list of integers, defining the number of filters in the CONV layers of the main path\n",
        "    stage -- integer, used to name the layers, depending on their position in the network\n",
        "    block -- string/character, used to name the layers, depending on their position in the network\n",
        "    \n",
        "    Returns:\n",
        "    X -- output of the identity block, tensor of shape (n_H, n_W, n_C)\n",
        "    \"\"\"\n",
        "    \n",
        "    # defining name basis\n",
        "    conv_name_base = 'res' + str(stage) + block + '_branch'\n",
        "    bn_name_base = 'bn' + str(stage) + block + '_branch'\n",
        "    \n",
        "    # Retrieve Filters\n",
        "    F1, F2, F3 = filters\n",
        "    \n",
        "    # Saving the input value.we need this later to add to the output. \n",
        "    X_shortcut = X\n",
        "    \n",
        "    # First component of main path\n",
        "    X = Conv2D(filters = F1, kernel_size = (1, 1), strides = (1,1), padding = 'valid', name = conv_name_base + '2a')(X)\n",
        "    X = BatchNormalization(axis = 3, name = bn_name_base + '2a')(X)\n",
        "    X = Activation('relu')(X)\n",
        "\n",
        "    \n",
        "    # Second component of main path (≈3 lines)\n",
        "    X = Conv2D(filters = F2, kernel_size = (f, f), strides = (1,1), padding = 'same', name = conv_name_base + '2b')(X)\n",
        "    X = BatchNormalization(axis = 3, name = bn_name_base + '2b')(X)\n",
        "    X = Activation('relu')(X)\n",
        "\n",
        "    # Third component of main path (≈2 lines)\n",
        "    X = Conv2D(filters = F3, kernel_size = (1, 1), strides = (1,1), padding = 'valid', name = conv_name_base + '2c')(X)\n",
        "    X = BatchNormalization(axis = 3, name = bn_name_base + '2c')(X)\n",
        "\n",
        "    # Final step: Add shortcut value to main path, and pass it through a RELU activation \n",
        "    X = Add()([X, X_shortcut])\n",
        "    X = Activation('relu')(X)\n",
        "    \n",
        "    \n",
        "    return X"
      ],
      "metadata": {
        "id": "VZyOZGqZxAXz"
      },
      "execution_count": 41,
      "outputs": []
    },
    {
      "cell_type": "code",
      "source": [
        "def convolutional_block(X, f, filters, stage, block, s = 2):\n",
        "    \n",
        "    # defining name basis\n",
        "    conv_name_base = 'res' + str(stage) + block + '_branch'\n",
        "    bn_name_base = 'bn' + str(stage) + block + '_branch'\n",
        "    \n",
        "    # Retrieve Filters\n",
        "    F1, F2, F3 = filters\n",
        "    \n",
        "    # Save the input value\n",
        "    X_shortcut = X\n",
        "\n",
        "\n",
        "    # First layer \n",
        "    X = Conv2D(F1, (1, 1), strides = (s,s), name = conv_name_base + '2a')(X) # 1,1 is filter size\n",
        "    X = BatchNormalization(axis = 3, name = bn_name_base + '2a')(X)  # normalization on channels\n",
        "    X = Activation('relu')(X)\n",
        "\n",
        "      \n",
        "    # Second layer  (f,f)=3*3 filter by default\n",
        "    X = Conv2D(filters = F2, kernel_size = (f, f), strides = (1,1), padding = 'same', name = conv_name_base + '2b')(X)\n",
        "    X = BatchNormalization(axis = 3, name = bn_name_base + '2b')(X)\n",
        "    X = Activation('relu')(X)\n",
        "\n",
        "\n",
        "    # Third layer\n",
        "    X = Conv2D(filters = F3, kernel_size = (1, 1), strides = (1,1), padding = 'valid', name = conv_name_base + '2c')(X)\n",
        "    X = BatchNormalization(axis = 3, name = bn_name_base + '2c')(X)\n",
        "    ##### SHORTCUT PATH #### \n",
        "    X_shortcut = Conv2D(filters = F3, kernel_size = (1, 1), strides = (s,s), padding = 'valid', name = conv_name_base + '1')(X_shortcut)\n",
        "    X_shortcut = BatchNormalization(axis = 3, name = bn_name_base + '1')(X_shortcut)\n",
        "\n",
        "    # Final step: Add shortcut value here, and pass it through a RELU activation \n",
        "    X = Add()([X, X_shortcut])\n",
        "    X = Activation('relu')(X)\n",
        "    \n",
        "    \n",
        "    return X"
      ],
      "metadata": {
        "id": "Oh5-SSYWxC8M"
      },
      "execution_count": 42,
      "outputs": []
    },
    {
      "cell_type": "code",
      "source": [
        "#Each ResNet block is either 2 layer deep\n",
        "def ResNet50(input_shape=(64, 64, 3), classes=2):\n",
        "    \"\"\"\n",
        "    Implementation of the ResNet50 architecture:\n",
        "    CONV2D -> BATCHNORM -> RELU -> MAXPOOL -> CONVBLOCK -> IDBLOCK*2 -> CONVBLOCK -> IDBLOCK*3\n",
        "    -> CONVBLOCK -> IDBLOCK*5 -> CONVBLOCK -> IDBLOCK*2 -> AVGPOOL -> TOPLAYER\n",
        "\n",
        "    \"\"\"\n",
        "\n",
        "    # Define the input as a tensor with shape input_shape\n",
        "    X_input = Input(input_shape)\n",
        "\n",
        "    # Zero-Padding\n",
        "    X = ZeroPadding2D((3, 3))(X_input) #3,3 padding\n",
        "\n",
        "    # Stage 1\n",
        "    X = Conv2D(64, (7, 7), strides=(2, 2), name='conv1')(X) #64 filters of 7*7 \n",
        "    X = BatchNormalization(axis=3, name='bn_conv1')(X) #batchnorm applied on channels\n",
        "    X = Activation('relu')(X)\n",
        "    X = MaxPooling2D((3, 3), strides=(2, 2))(X) #window size is 3*3\n",
        "\n",
        "    # Stage 2\n",
        "    X = convolutional_block(X, f=3, filters=[64, 64, 256], stage=2, block='a', s=1)\n",
        "    # convolutional_block is a function defined above. Convolutional_block have 3 layers.\n",
        "    #filters=[64, 64, 256] first 64 is for 1st layer and 2nd 64 is for 2nd layer and 256 is for 3rd layer of convultional block   \n",
        "    # below are the conv layers from convolutional_block function\n",
        "    #X = Conv2D(F1, (1, 1), strides = (s,s), name = conv_name_base + '2a')(X)\n",
        "    #X = Conv2D(F2, kernel_size = (f, f), strides = (1,1), padding = 'same', name = conv_name_base + '2b')(X)\n",
        "    #X = Conv2D(F3, (1, 1), strides = (s,s), name = conv_name_base + '2a')(X)\n",
        "   \n",
        "    X = identity_block(X, 3, [64, 64, 256], stage=2, block='b') \n",
        "    #X = Conv2D(filters = F1, kernel_size = (1, 1), strides = (1,1), padding = 'valid', name = conv_name_base + '2a')(X)\n",
        "    #X = Conv2D(filters = F2, kernel_size = (f, f), strides = (1,1), padding = 'same', name = conv_name_base + '2b')(X)\n",
        "    #X = Conv2D(filters = F3, kernel_size = (1, 1), strides = (1,1), padding = 'valid', name = conv_name_base + '2c')(X)\n",
        "    X = identity_block(X, 3, [64, 64, 256], stage=2, block='c')\n",
        "    #X = Conv2D(filters = F1, kernel_size = (1, 1), strides = (1,1), padding = 'valid', name = conv_name_base + '2a')(X)\n",
        "    #X = Conv2D(filters = F2, kernel_size = (f, f), strides = (1,1), padding = 'same', name = conv_name_base + '2b')(X)\n",
        "    #X = Conv2D(filters = F3, kernel_size = (1, 1), strides = (1,1), padding = 'valid', name = conv_name_base + '2c')(X)\n",
        "\n",
        "\n",
        "    ### START CODE HERE ###\n",
        "\n",
        "    # Stage 3 \n",
        "    X = convolutional_block(X, f = 3, filters = [128, 128, 512], stage = 3, block='a', s = 2)\n",
        "    X = identity_block(X, 3, [128, 128, 512], stage=3, block='b')\n",
        "    X = identity_block(X, 3, [128, 128, 512], stage=3, block='c')\n",
        "    X = identity_block(X, 3, [128, 128, 512], stage=3, block='d')\n",
        "\n",
        "    # Stage 4 \n",
        "    X = convolutional_block(X, f = 3, filters = [256, 256, 1024], stage = 4, block='a', s = 2)\n",
        "    X = identity_block(X, 3, [256, 256, 1024], stage=4, block='b')\n",
        "    X = identity_block(X, 3, [256, 256, 1024], stage=4, block='c')\n",
        "    X = identity_block(X, 3, [256, 256, 1024], stage=4, block='d')\n",
        "    X = identity_block(X, 3, [256, 256, 1024], stage=4, block='e')\n",
        "    X = identity_block(X, 3, [256, 256, 1024], stage=4, block='f')\n",
        "\n",
        "    # Stage 5 \n",
        "    X = convolutional_block(X, f = 3, filters = [512, 512, 2048], stage = 5, block='a', s = 2)\n",
        "    X = identity_block(X, 3, [512, 512, 2048], stage=5, block='b')\n",
        "    X = identity_block(X, 3, [512, 512, 2048], stage=5, block='c')\n",
        "\n",
        "    # AVGPOOL \n",
        "    X = AveragePooling2D((2,2), name=\"avg_pool\")(X)\n",
        "     ### END CODE HERE ###\n",
        "\n",
        "    # output layer\n",
        "    X = Flatten()(X)\n",
        "    X = Dense(classes, activation='softmax', name='fc' + str(classes), kernel_initializer = glorot_uniform(seed=0))(X)\n",
        "    \n",
        "    \n",
        "    # Create model\n",
        "    model = Model(inputs = X_input, outputs = X, name='ResNet50')\n",
        "\n",
        "    return model"
      ],
      "metadata": {
        "id": "cQhLT2lRxFPY"
      },
      "execution_count": 43,
      "outputs": []
    },
    {
      "cell_type": "code",
      "source": [
        "model = ResNet50(input_shape = (64,64,3), classes = 2)"
      ],
      "metadata": {
        "id": "-YNqoB39xIEY"
      },
      "execution_count": 44,
      "outputs": []
    },
    {
      "cell_type": "code",
      "source": [
        "model.compile(optimizer='adam', loss='categorical_crossentropy', metrics=['accuracy'])"
      ],
      "metadata": {
        "id": "BtHDemPuxea6"
      },
      "execution_count": 45,
      "outputs": []
    },
    {
      "cell_type": "code",
      "source": [
        "model.summary()"
      ],
      "metadata": {
        "id": "yX2y1UBexfRf",
        "colab": {
          "base_uri": "https://localhost:8080/"
        },
        "outputId": "45ab687e-66c1-48ee-eacd-6141050bf4c8"
      },
      "execution_count": 46,
      "outputs": [
        {
          "output_type": "stream",
          "name": "stdout",
          "text": [
            "Model: \"ResNet50\"\n",
            "__________________________________________________________________________________________________\n",
            " Layer (type)                   Output Shape         Param #     Connected to                     \n",
            "==================================================================================================\n",
            " input_1 (InputLayer)           [(None, 64, 64, 3)]  0           []                               \n",
            "                                                                                                  \n",
            " zero_padding2d (ZeroPadding2D)  (None, 70, 70, 3)   0           ['input_1[0][0]']                \n",
            "                                                                                                  \n",
            " conv1 (Conv2D)                 (None, 32, 32, 64)   9472        ['zero_padding2d[0][0]']         \n",
            "                                                                                                  \n",
            " bn_conv1 (BatchNormalization)  (None, 32, 32, 64)   256         ['conv1[0][0]']                  \n",
            "                                                                                                  \n",
            " activation (Activation)        (None, 32, 32, 64)   0           ['bn_conv1[0][0]']               \n",
            "                                                                                                  \n",
            " max_pooling2d (MaxPooling2D)   (None, 15, 15, 64)   0           ['activation[0][0]']             \n",
            "                                                                                                  \n",
            " res2a_branch2a (Conv2D)        (None, 15, 15, 64)   4160        ['max_pooling2d[0][0]']          \n",
            "                                                                                                  \n",
            " bn2a_branch2a (BatchNormalizat  (None, 15, 15, 64)  256         ['res2a_branch2a[0][0]']         \n",
            " ion)                                                                                             \n",
            "                                                                                                  \n",
            " activation_1 (Activation)      (None, 15, 15, 64)   0           ['bn2a_branch2a[0][0]']          \n",
            "                                                                                                  \n",
            " res2a_branch2b (Conv2D)        (None, 15, 15, 64)   36928       ['activation_1[0][0]']           \n",
            "                                                                                                  \n",
            " bn2a_branch2b (BatchNormalizat  (None, 15, 15, 64)  256         ['res2a_branch2b[0][0]']         \n",
            " ion)                                                                                             \n",
            "                                                                                                  \n",
            " activation_2 (Activation)      (None, 15, 15, 64)   0           ['bn2a_branch2b[0][0]']          \n",
            "                                                                                                  \n",
            " res2a_branch2c (Conv2D)        (None, 15, 15, 256)  16640       ['activation_2[0][0]']           \n",
            "                                                                                                  \n",
            " res2a_branch1 (Conv2D)         (None, 15, 15, 256)  16640       ['max_pooling2d[0][0]']          \n",
            "                                                                                                  \n",
            " bn2a_branch2c (BatchNormalizat  (None, 15, 15, 256)  1024       ['res2a_branch2c[0][0]']         \n",
            " ion)                                                                                             \n",
            "                                                                                                  \n",
            " bn2a_branch1 (BatchNormalizati  (None, 15, 15, 256)  1024       ['res2a_branch1[0][0]']          \n",
            " on)                                                                                              \n",
            "                                                                                                  \n",
            " add (Add)                      (None, 15, 15, 256)  0           ['bn2a_branch2c[0][0]',          \n",
            "                                                                  'bn2a_branch1[0][0]']           \n",
            "                                                                                                  \n",
            " activation_3 (Activation)      (None, 15, 15, 256)  0           ['add[0][0]']                    \n",
            "                                                                                                  \n",
            " res2b_branch2a (Conv2D)        (None, 15, 15, 64)   16448       ['activation_3[0][0]']           \n",
            "                                                                                                  \n",
            " bn2b_branch2a (BatchNormalizat  (None, 15, 15, 64)  256         ['res2b_branch2a[0][0]']         \n",
            " ion)                                                                                             \n",
            "                                                                                                  \n",
            " activation_4 (Activation)      (None, 15, 15, 64)   0           ['bn2b_branch2a[0][0]']          \n",
            "                                                                                                  \n",
            " res2b_branch2b (Conv2D)        (None, 15, 15, 64)   36928       ['activation_4[0][0]']           \n",
            "                                                                                                  \n",
            " bn2b_branch2b (BatchNormalizat  (None, 15, 15, 64)  256         ['res2b_branch2b[0][0]']         \n",
            " ion)                                                                                             \n",
            "                                                                                                  \n",
            " activation_5 (Activation)      (None, 15, 15, 64)   0           ['bn2b_branch2b[0][0]']          \n",
            "                                                                                                  \n",
            " res2b_branch2c (Conv2D)        (None, 15, 15, 256)  16640       ['activation_5[0][0]']           \n",
            "                                                                                                  \n",
            " bn2b_branch2c (BatchNormalizat  (None, 15, 15, 256)  1024       ['res2b_branch2c[0][0]']         \n",
            " ion)                                                                                             \n",
            "                                                                                                  \n",
            " add_1 (Add)                    (None, 15, 15, 256)  0           ['bn2b_branch2c[0][0]',          \n",
            "                                                                  'activation_3[0][0]']           \n",
            "                                                                                                  \n",
            " activation_6 (Activation)      (None, 15, 15, 256)  0           ['add_1[0][0]']                  \n",
            "                                                                                                  \n",
            " res2c_branch2a (Conv2D)        (None, 15, 15, 64)   16448       ['activation_6[0][0]']           \n",
            "                                                                                                  \n",
            " bn2c_branch2a (BatchNormalizat  (None, 15, 15, 64)  256         ['res2c_branch2a[0][0]']         \n",
            " ion)                                                                                             \n",
            "                                                                                                  \n",
            " activation_7 (Activation)      (None, 15, 15, 64)   0           ['bn2c_branch2a[0][0]']          \n",
            "                                                                                                  \n",
            " res2c_branch2b (Conv2D)        (None, 15, 15, 64)   36928       ['activation_7[0][0]']           \n",
            "                                                                                                  \n",
            " bn2c_branch2b (BatchNormalizat  (None, 15, 15, 64)  256         ['res2c_branch2b[0][0]']         \n",
            " ion)                                                                                             \n",
            "                                                                                                  \n",
            " activation_8 (Activation)      (None, 15, 15, 64)   0           ['bn2c_branch2b[0][0]']          \n",
            "                                                                                                  \n",
            " res2c_branch2c (Conv2D)        (None, 15, 15, 256)  16640       ['activation_8[0][0]']           \n",
            "                                                                                                  \n",
            " bn2c_branch2c (BatchNormalizat  (None, 15, 15, 256)  1024       ['res2c_branch2c[0][0]']         \n",
            " ion)                                                                                             \n",
            "                                                                                                  \n",
            " add_2 (Add)                    (None, 15, 15, 256)  0           ['bn2c_branch2c[0][0]',          \n",
            "                                                                  'activation_6[0][0]']           \n",
            "                                                                                                  \n",
            " activation_9 (Activation)      (None, 15, 15, 256)  0           ['add_2[0][0]']                  \n",
            "                                                                                                  \n",
            " res3a_branch2a (Conv2D)        (None, 8, 8, 128)    32896       ['activation_9[0][0]']           \n",
            "                                                                                                  \n",
            " bn3a_branch2a (BatchNormalizat  (None, 8, 8, 128)   512         ['res3a_branch2a[0][0]']         \n",
            " ion)                                                                                             \n",
            "                                                                                                  \n",
            " activation_10 (Activation)     (None, 8, 8, 128)    0           ['bn3a_branch2a[0][0]']          \n",
            "                                                                                                  \n",
            " res3a_branch2b (Conv2D)        (None, 8, 8, 128)    147584      ['activation_10[0][0]']          \n",
            "                                                                                                  \n",
            " bn3a_branch2b (BatchNormalizat  (None, 8, 8, 128)   512         ['res3a_branch2b[0][0]']         \n",
            " ion)                                                                                             \n",
            "                                                                                                  \n",
            " activation_11 (Activation)     (None, 8, 8, 128)    0           ['bn3a_branch2b[0][0]']          \n",
            "                                                                                                  \n",
            " res3a_branch2c (Conv2D)        (None, 8, 8, 512)    66048       ['activation_11[0][0]']          \n",
            "                                                                                                  \n",
            " res3a_branch1 (Conv2D)         (None, 8, 8, 512)    131584      ['activation_9[0][0]']           \n",
            "                                                                                                  \n",
            " bn3a_branch2c (BatchNormalizat  (None, 8, 8, 512)   2048        ['res3a_branch2c[0][0]']         \n",
            " ion)                                                                                             \n",
            "                                                                                                  \n",
            " bn3a_branch1 (BatchNormalizati  (None, 8, 8, 512)   2048        ['res3a_branch1[0][0]']          \n",
            " on)                                                                                              \n",
            "                                                                                                  \n",
            " add_3 (Add)                    (None, 8, 8, 512)    0           ['bn3a_branch2c[0][0]',          \n",
            "                                                                  'bn3a_branch1[0][0]']           \n",
            "                                                                                                  \n",
            " activation_12 (Activation)     (None, 8, 8, 512)    0           ['add_3[0][0]']                  \n",
            "                                                                                                  \n",
            " res3b_branch2a (Conv2D)        (None, 8, 8, 128)    65664       ['activation_12[0][0]']          \n",
            "                                                                                                  \n",
            " bn3b_branch2a (BatchNormalizat  (None, 8, 8, 128)   512         ['res3b_branch2a[0][0]']         \n",
            " ion)                                                                                             \n",
            "                                                                                                  \n",
            " activation_13 (Activation)     (None, 8, 8, 128)    0           ['bn3b_branch2a[0][0]']          \n",
            "                                                                                                  \n",
            " res3b_branch2b (Conv2D)        (None, 8, 8, 128)    147584      ['activation_13[0][0]']          \n",
            "                                                                                                  \n",
            " bn3b_branch2b (BatchNormalizat  (None, 8, 8, 128)   512         ['res3b_branch2b[0][0]']         \n",
            " ion)                                                                                             \n",
            "                                                                                                  \n",
            " activation_14 (Activation)     (None, 8, 8, 128)    0           ['bn3b_branch2b[0][0]']          \n",
            "                                                                                                  \n",
            " res3b_branch2c (Conv2D)        (None, 8, 8, 512)    66048       ['activation_14[0][0]']          \n",
            "                                                                                                  \n",
            " bn3b_branch2c (BatchNormalizat  (None, 8, 8, 512)   2048        ['res3b_branch2c[0][0]']         \n",
            " ion)                                                                                             \n",
            "                                                                                                  \n",
            " add_4 (Add)                    (None, 8, 8, 512)    0           ['bn3b_branch2c[0][0]',          \n",
            "                                                                  'activation_12[0][0]']          \n",
            "                                                                                                  \n",
            " activation_15 (Activation)     (None, 8, 8, 512)    0           ['add_4[0][0]']                  \n",
            "                                                                                                  \n",
            " res3c_branch2a (Conv2D)        (None, 8, 8, 128)    65664       ['activation_15[0][0]']          \n",
            "                                                                                                  \n",
            " bn3c_branch2a (BatchNormalizat  (None, 8, 8, 128)   512         ['res3c_branch2a[0][0]']         \n",
            " ion)                                                                                             \n",
            "                                                                                                  \n",
            " activation_16 (Activation)     (None, 8, 8, 128)    0           ['bn3c_branch2a[0][0]']          \n",
            "                                                                                                  \n",
            " res3c_branch2b (Conv2D)        (None, 8, 8, 128)    147584      ['activation_16[0][0]']          \n",
            "                                                                                                  \n",
            " bn3c_branch2b (BatchNormalizat  (None, 8, 8, 128)   512         ['res3c_branch2b[0][0]']         \n",
            " ion)                                                                                             \n",
            "                                                                                                  \n",
            " activation_17 (Activation)     (None, 8, 8, 128)    0           ['bn3c_branch2b[0][0]']          \n",
            "                                                                                                  \n",
            " res3c_branch2c (Conv2D)        (None, 8, 8, 512)    66048       ['activation_17[0][0]']          \n",
            "                                                                                                  \n",
            " bn3c_branch2c (BatchNormalizat  (None, 8, 8, 512)   2048        ['res3c_branch2c[0][0]']         \n",
            " ion)                                                                                             \n",
            "                                                                                                  \n",
            " add_5 (Add)                    (None, 8, 8, 512)    0           ['bn3c_branch2c[0][0]',          \n",
            "                                                                  'activation_15[0][0]']          \n",
            "                                                                                                  \n",
            " activation_18 (Activation)     (None, 8, 8, 512)    0           ['add_5[0][0]']                  \n",
            "                                                                                                  \n",
            " res3d_branch2a (Conv2D)        (None, 8, 8, 128)    65664       ['activation_18[0][0]']          \n",
            "                                                                                                  \n",
            " bn3d_branch2a (BatchNormalizat  (None, 8, 8, 128)   512         ['res3d_branch2a[0][0]']         \n",
            " ion)                                                                                             \n",
            "                                                                                                  \n",
            " activation_19 (Activation)     (None, 8, 8, 128)    0           ['bn3d_branch2a[0][0]']          \n",
            "                                                                                                  \n",
            " res3d_branch2b (Conv2D)        (None, 8, 8, 128)    147584      ['activation_19[0][0]']          \n",
            "                                                                                                  \n",
            " bn3d_branch2b (BatchNormalizat  (None, 8, 8, 128)   512         ['res3d_branch2b[0][0]']         \n",
            " ion)                                                                                             \n",
            "                                                                                                  \n",
            " activation_20 (Activation)     (None, 8, 8, 128)    0           ['bn3d_branch2b[0][0]']          \n",
            "                                                                                                  \n",
            " res3d_branch2c (Conv2D)        (None, 8, 8, 512)    66048       ['activation_20[0][0]']          \n",
            "                                                                                                  \n",
            " bn3d_branch2c (BatchNormalizat  (None, 8, 8, 512)   2048        ['res3d_branch2c[0][0]']         \n",
            " ion)                                                                                             \n",
            "                                                                                                  \n",
            " add_6 (Add)                    (None, 8, 8, 512)    0           ['bn3d_branch2c[0][0]',          \n",
            "                                                                  'activation_18[0][0]']          \n",
            "                                                                                                  \n",
            " activation_21 (Activation)     (None, 8, 8, 512)    0           ['add_6[0][0]']                  \n",
            "                                                                                                  \n",
            " res4a_branch2a (Conv2D)        (None, 4, 4, 256)    131328      ['activation_21[0][0]']          \n",
            "                                                                                                  \n",
            " bn4a_branch2a (BatchNormalizat  (None, 4, 4, 256)   1024        ['res4a_branch2a[0][0]']         \n",
            " ion)                                                                                             \n",
            "                                                                                                  \n",
            " activation_22 (Activation)     (None, 4, 4, 256)    0           ['bn4a_branch2a[0][0]']          \n",
            "                                                                                                  \n",
            " res4a_branch2b (Conv2D)        (None, 4, 4, 256)    590080      ['activation_22[0][0]']          \n",
            "                                                                                                  \n",
            " bn4a_branch2b (BatchNormalizat  (None, 4, 4, 256)   1024        ['res4a_branch2b[0][0]']         \n",
            " ion)                                                                                             \n",
            "                                                                                                  \n",
            " activation_23 (Activation)     (None, 4, 4, 256)    0           ['bn4a_branch2b[0][0]']          \n",
            "                                                                                                  \n",
            " res4a_branch2c (Conv2D)        (None, 4, 4, 1024)   263168      ['activation_23[0][0]']          \n",
            "                                                                                                  \n",
            " res4a_branch1 (Conv2D)         (None, 4, 4, 1024)   525312      ['activation_21[0][0]']          \n",
            "                                                                                                  \n",
            " bn4a_branch2c (BatchNormalizat  (None, 4, 4, 1024)  4096        ['res4a_branch2c[0][0]']         \n",
            " ion)                                                                                             \n",
            "                                                                                                  \n",
            " bn4a_branch1 (BatchNormalizati  (None, 4, 4, 1024)  4096        ['res4a_branch1[0][0]']          \n",
            " on)                                                                                              \n",
            "                                                                                                  \n",
            " add_7 (Add)                    (None, 4, 4, 1024)   0           ['bn4a_branch2c[0][0]',          \n",
            "                                                                  'bn4a_branch1[0][0]']           \n",
            "                                                                                                  \n",
            " activation_24 (Activation)     (None, 4, 4, 1024)   0           ['add_7[0][0]']                  \n",
            "                                                                                                  \n",
            " res4b_branch2a (Conv2D)        (None, 4, 4, 256)    262400      ['activation_24[0][0]']          \n",
            "                                                                                                  \n",
            " bn4b_branch2a (BatchNormalizat  (None, 4, 4, 256)   1024        ['res4b_branch2a[0][0]']         \n",
            " ion)                                                                                             \n",
            "                                                                                                  \n",
            " activation_25 (Activation)     (None, 4, 4, 256)    0           ['bn4b_branch2a[0][0]']          \n",
            "                                                                                                  \n",
            " res4b_branch2b (Conv2D)        (None, 4, 4, 256)    590080      ['activation_25[0][0]']          \n",
            "                                                                                                  \n",
            " bn4b_branch2b (BatchNormalizat  (None, 4, 4, 256)   1024        ['res4b_branch2b[0][0]']         \n",
            " ion)                                                                                             \n",
            "                                                                                                  \n",
            " activation_26 (Activation)     (None, 4, 4, 256)    0           ['bn4b_branch2b[0][0]']          \n",
            "                                                                                                  \n",
            " res4b_branch2c (Conv2D)        (None, 4, 4, 1024)   263168      ['activation_26[0][0]']          \n",
            "                                                                                                  \n",
            " bn4b_branch2c (BatchNormalizat  (None, 4, 4, 1024)  4096        ['res4b_branch2c[0][0]']         \n",
            " ion)                                                                                             \n",
            "                                                                                                  \n",
            " add_8 (Add)                    (None, 4, 4, 1024)   0           ['bn4b_branch2c[0][0]',          \n",
            "                                                                  'activation_24[0][0]']          \n",
            "                                                                                                  \n",
            " activation_27 (Activation)     (None, 4, 4, 1024)   0           ['add_8[0][0]']                  \n",
            "                                                                                                  \n",
            " res4c_branch2a (Conv2D)        (None, 4, 4, 256)    262400      ['activation_27[0][0]']          \n",
            "                                                                                                  \n",
            " bn4c_branch2a (BatchNormalizat  (None, 4, 4, 256)   1024        ['res4c_branch2a[0][0]']         \n",
            " ion)                                                                                             \n",
            "                                                                                                  \n",
            " activation_28 (Activation)     (None, 4, 4, 256)    0           ['bn4c_branch2a[0][0]']          \n",
            "                                                                                                  \n",
            " res4c_branch2b (Conv2D)        (None, 4, 4, 256)    590080      ['activation_28[0][0]']          \n",
            "                                                                                                  \n",
            " bn4c_branch2b (BatchNormalizat  (None, 4, 4, 256)   1024        ['res4c_branch2b[0][0]']         \n",
            " ion)                                                                                             \n",
            "                                                                                                  \n",
            " activation_29 (Activation)     (None, 4, 4, 256)    0           ['bn4c_branch2b[0][0]']          \n",
            "                                                                                                  \n",
            " res4c_branch2c (Conv2D)        (None, 4, 4, 1024)   263168      ['activation_29[0][0]']          \n",
            "                                                                                                  \n",
            " bn4c_branch2c (BatchNormalizat  (None, 4, 4, 1024)  4096        ['res4c_branch2c[0][0]']         \n",
            " ion)                                                                                             \n",
            "                                                                                                  \n",
            " add_9 (Add)                    (None, 4, 4, 1024)   0           ['bn4c_branch2c[0][0]',          \n",
            "                                                                  'activation_27[0][0]']          \n",
            "                                                                                                  \n",
            " activation_30 (Activation)     (None, 4, 4, 1024)   0           ['add_9[0][0]']                  \n",
            "                                                                                                  \n",
            " res4d_branch2a (Conv2D)        (None, 4, 4, 256)    262400      ['activation_30[0][0]']          \n",
            "                                                                                                  \n",
            " bn4d_branch2a (BatchNormalizat  (None, 4, 4, 256)   1024        ['res4d_branch2a[0][0]']         \n",
            " ion)                                                                                             \n",
            "                                                                                                  \n",
            " activation_31 (Activation)     (None, 4, 4, 256)    0           ['bn4d_branch2a[0][0]']          \n",
            "                                                                                                  \n",
            " res4d_branch2b (Conv2D)        (None, 4, 4, 256)    590080      ['activation_31[0][0]']          \n",
            "                                                                                                  \n",
            " bn4d_branch2b (BatchNormalizat  (None, 4, 4, 256)   1024        ['res4d_branch2b[0][0]']         \n",
            " ion)                                                                                             \n",
            "                                                                                                  \n",
            " activation_32 (Activation)     (None, 4, 4, 256)    0           ['bn4d_branch2b[0][0]']          \n",
            "                                                                                                  \n",
            " res4d_branch2c (Conv2D)        (None, 4, 4, 1024)   263168      ['activation_32[0][0]']          \n",
            "                                                                                                  \n",
            " bn4d_branch2c (BatchNormalizat  (None, 4, 4, 1024)  4096        ['res4d_branch2c[0][0]']         \n",
            " ion)                                                                                             \n",
            "                                                                                                  \n",
            " add_10 (Add)                   (None, 4, 4, 1024)   0           ['bn4d_branch2c[0][0]',          \n",
            "                                                                  'activation_30[0][0]']          \n",
            "                                                                                                  \n",
            " activation_33 (Activation)     (None, 4, 4, 1024)   0           ['add_10[0][0]']                 \n",
            "                                                                                                  \n",
            " res4e_branch2a (Conv2D)        (None, 4, 4, 256)    262400      ['activation_33[0][0]']          \n",
            "                                                                                                  \n",
            " bn4e_branch2a (BatchNormalizat  (None, 4, 4, 256)   1024        ['res4e_branch2a[0][0]']         \n",
            " ion)                                                                                             \n",
            "                                                                                                  \n",
            " activation_34 (Activation)     (None, 4, 4, 256)    0           ['bn4e_branch2a[0][0]']          \n",
            "                                                                                                  \n",
            " res4e_branch2b (Conv2D)        (None, 4, 4, 256)    590080      ['activation_34[0][0]']          \n",
            "                                                                                                  \n",
            " bn4e_branch2b (BatchNormalizat  (None, 4, 4, 256)   1024        ['res4e_branch2b[0][0]']         \n",
            " ion)                                                                                             \n",
            "                                                                                                  \n",
            " activation_35 (Activation)     (None, 4, 4, 256)    0           ['bn4e_branch2b[0][0]']          \n",
            "                                                                                                  \n",
            " res4e_branch2c (Conv2D)        (None, 4, 4, 1024)   263168      ['activation_35[0][0]']          \n",
            "                                                                                                  \n",
            " bn4e_branch2c (BatchNormalizat  (None, 4, 4, 1024)  4096        ['res4e_branch2c[0][0]']         \n",
            " ion)                                                                                             \n",
            "                                                                                                  \n",
            " add_11 (Add)                   (None, 4, 4, 1024)   0           ['bn4e_branch2c[0][0]',          \n",
            "                                                                  'activation_33[0][0]']          \n",
            "                                                                                                  \n",
            " activation_36 (Activation)     (None, 4, 4, 1024)   0           ['add_11[0][0]']                 \n",
            "                                                                                                  \n",
            " res4f_branch2a (Conv2D)        (None, 4, 4, 256)    262400      ['activation_36[0][0]']          \n",
            "                                                                                                  \n",
            " bn4f_branch2a (BatchNormalizat  (None, 4, 4, 256)   1024        ['res4f_branch2a[0][0]']         \n",
            " ion)                                                                                             \n",
            "                                                                                                  \n",
            " activation_37 (Activation)     (None, 4, 4, 256)    0           ['bn4f_branch2a[0][0]']          \n",
            "                                                                                                  \n",
            " res4f_branch2b (Conv2D)        (None, 4, 4, 256)    590080      ['activation_37[0][0]']          \n",
            "                                                                                                  \n",
            " bn4f_branch2b (BatchNormalizat  (None, 4, 4, 256)   1024        ['res4f_branch2b[0][0]']         \n",
            " ion)                                                                                             \n",
            "                                                                                                  \n",
            " activation_38 (Activation)     (None, 4, 4, 256)    0           ['bn4f_branch2b[0][0]']          \n",
            "                                                                                                  \n",
            " res4f_branch2c (Conv2D)        (None, 4, 4, 1024)   263168      ['activation_38[0][0]']          \n",
            "                                                                                                  \n",
            " bn4f_branch2c (BatchNormalizat  (None, 4, 4, 1024)  4096        ['res4f_branch2c[0][0]']         \n",
            " ion)                                                                                             \n",
            "                                                                                                  \n",
            " add_12 (Add)                   (None, 4, 4, 1024)   0           ['bn4f_branch2c[0][0]',          \n",
            "                                                                  'activation_36[0][0]']          \n",
            "                                                                                                  \n",
            " activation_39 (Activation)     (None, 4, 4, 1024)   0           ['add_12[0][0]']                 \n",
            "                                                                                                  \n",
            " res5a_branch2a (Conv2D)        (None, 2, 2, 512)    524800      ['activation_39[0][0]']          \n",
            "                                                                                                  \n",
            " bn5a_branch2a (BatchNormalizat  (None, 2, 2, 512)   2048        ['res5a_branch2a[0][0]']         \n",
            " ion)                                                                                             \n",
            "                                                                                                  \n",
            " activation_40 (Activation)     (None, 2, 2, 512)    0           ['bn5a_branch2a[0][0]']          \n",
            "                                                                                                  \n",
            " res5a_branch2b (Conv2D)        (None, 2, 2, 512)    2359808     ['activation_40[0][0]']          \n",
            "                                                                                                  \n",
            " bn5a_branch2b (BatchNormalizat  (None, 2, 2, 512)   2048        ['res5a_branch2b[0][0]']         \n",
            " ion)                                                                                             \n",
            "                                                                                                  \n",
            " activation_41 (Activation)     (None, 2, 2, 512)    0           ['bn5a_branch2b[0][0]']          \n",
            "                                                                                                  \n",
            " res5a_branch2c (Conv2D)        (None, 2, 2, 2048)   1050624     ['activation_41[0][0]']          \n",
            "                                                                                                  \n",
            " res5a_branch1 (Conv2D)         (None, 2, 2, 2048)   2099200     ['activation_39[0][0]']          \n",
            "                                                                                                  \n",
            " bn5a_branch2c (BatchNormalizat  (None, 2, 2, 2048)  8192        ['res5a_branch2c[0][0]']         \n",
            " ion)                                                                                             \n",
            "                                                                                                  \n",
            " bn5a_branch1 (BatchNormalizati  (None, 2, 2, 2048)  8192        ['res5a_branch1[0][0]']          \n",
            " on)                                                                                              \n",
            "                                                                                                  \n",
            " add_13 (Add)                   (None, 2, 2, 2048)   0           ['bn5a_branch2c[0][0]',          \n",
            "                                                                  'bn5a_branch1[0][0]']           \n",
            "                                                                                                  \n",
            " activation_42 (Activation)     (None, 2, 2, 2048)   0           ['add_13[0][0]']                 \n",
            "                                                                                                  \n",
            " res5b_branch2a (Conv2D)        (None, 2, 2, 512)    1049088     ['activation_42[0][0]']          \n",
            "                                                                                                  \n",
            " bn5b_branch2a (BatchNormalizat  (None, 2, 2, 512)   2048        ['res5b_branch2a[0][0]']         \n",
            " ion)                                                                                             \n",
            "                                                                                                  \n",
            " activation_43 (Activation)     (None, 2, 2, 512)    0           ['bn5b_branch2a[0][0]']          \n",
            "                                                                                                  \n",
            " res5b_branch2b (Conv2D)        (None, 2, 2, 512)    2359808     ['activation_43[0][0]']          \n",
            "                                                                                                  \n",
            " bn5b_branch2b (BatchNormalizat  (None, 2, 2, 512)   2048        ['res5b_branch2b[0][0]']         \n",
            " ion)                                                                                             \n",
            "                                                                                                  \n",
            " activation_44 (Activation)     (None, 2, 2, 512)    0           ['bn5b_branch2b[0][0]']          \n",
            "                                                                                                  \n",
            " res5b_branch2c (Conv2D)        (None, 2, 2, 2048)   1050624     ['activation_44[0][0]']          \n",
            "                                                                                                  \n",
            " bn5b_branch2c (BatchNormalizat  (None, 2, 2, 2048)  8192        ['res5b_branch2c[0][0]']         \n",
            " ion)                                                                                             \n",
            "                                                                                                  \n",
            " add_14 (Add)                   (None, 2, 2, 2048)   0           ['bn5b_branch2c[0][0]',          \n",
            "                                                                  'activation_42[0][0]']          \n",
            "                                                                                                  \n",
            " activation_45 (Activation)     (None, 2, 2, 2048)   0           ['add_14[0][0]']                 \n",
            "                                                                                                  \n",
            " res5c_branch2a (Conv2D)        (None, 2, 2, 512)    1049088     ['activation_45[0][0]']          \n",
            "                                                                                                  \n",
            " bn5c_branch2a (BatchNormalizat  (None, 2, 2, 512)   2048        ['res5c_branch2a[0][0]']         \n",
            " ion)                                                                                             \n",
            "                                                                                                  \n",
            " activation_46 (Activation)     (None, 2, 2, 512)    0           ['bn5c_branch2a[0][0]']          \n",
            "                                                                                                  \n",
            " res5c_branch2b (Conv2D)        (None, 2, 2, 512)    2359808     ['activation_46[0][0]']          \n",
            "                                                                                                  \n",
            " bn5c_branch2b (BatchNormalizat  (None, 2, 2, 512)   2048        ['res5c_branch2b[0][0]']         \n",
            " ion)                                                                                             \n",
            "                                                                                                  \n",
            " activation_47 (Activation)     (None, 2, 2, 512)    0           ['bn5c_branch2b[0][0]']          \n",
            "                                                                                                  \n",
            " res5c_branch2c (Conv2D)        (None, 2, 2, 2048)   1050624     ['activation_47[0][0]']          \n",
            "                                                                                                  \n",
            " bn5c_branch2c (BatchNormalizat  (None, 2, 2, 2048)  8192        ['res5c_branch2c[0][0]']         \n",
            " ion)                                                                                             \n",
            "                                                                                                  \n",
            " add_15 (Add)                   (None, 2, 2, 2048)   0           ['bn5c_branch2c[0][0]',          \n",
            "                                                                  'activation_45[0][0]']          \n",
            "                                                                                                  \n",
            " activation_48 (Activation)     (None, 2, 2, 2048)   0           ['add_15[0][0]']                 \n",
            "                                                                                                  \n",
            " avg_pool (AveragePooling2D)    (None, 1, 1, 2048)   0           ['activation_48[0][0]']          \n",
            "                                                                                                  \n",
            " flatten (Flatten)              (None, 2048)         0           ['avg_pool[0][0]']               \n",
            "                                                                                                  \n",
            " fc2 (Dense)                    (None, 2)            4098        ['flatten[0][0]']                \n",
            "                                                                                                  \n",
            "==================================================================================================\n",
            "Total params: 23,591,810\n",
            "Trainable params: 23,538,690\n",
            "Non-trainable params: 53,120\n",
            "__________________________________________________________________________________________________\n"
          ]
        }
      ]
    },
    {
      "cell_type": "code",
      "source": [
        "model.fit(train_x, train_y, epochs = 6, batch_size = 16)"
      ],
      "metadata": {
        "id": "AOtZtPK-xhO1",
        "colab": {
          "base_uri": "https://localhost:8080/"
        },
        "outputId": "1e635601-e2e8-4845-e1bc-17bd097cb5ce"
      },
      "execution_count": 47,
      "outputs": [
        {
          "output_type": "stream",
          "name": "stdout",
          "text": [
            "Epoch 1/6\n",
            "150/150 [==============================] - 19s 39ms/step - loss: 0.7993 - accuracy: 0.7729\n",
            "Epoch 2/6\n",
            "150/150 [==============================] - 6s 39ms/step - loss: 0.3723 - accuracy: 0.8758\n",
            "Epoch 3/6\n",
            "150/150 [==============================] - 6s 39ms/step - loss: 0.1732 - accuracy: 0.9429\n",
            "Epoch 4/6\n",
            "150/150 [==============================] - 6s 39ms/step - loss: 0.2198 - accuracy: 0.9237\n",
            "Epoch 5/6\n",
            "150/150 [==============================] - 6s 39ms/step - loss: 0.1053 - accuracy: 0.9613\n",
            "Epoch 6/6\n",
            "150/150 [==============================] - 6s 39ms/step - loss: 0.0638 - accuracy: 0.9779\n"
          ]
        },
        {
          "output_type": "execute_result",
          "data": {
            "text/plain": [
              "<keras.callbacks.History at 0x7f81aa5a74c0>"
            ]
          },
          "metadata": {},
          "execution_count": 47
        }
      ]
    },
    {
      "cell_type": "code",
      "source": [
        "preds = model.evaluate(test_x, test_y)\n",
        "print (\"Loss = \" + str(preds[0]))\n",
        "print (\"Test Accuracy = \" + str(preds[1]))"
      ],
      "metadata": {
        "colab": {
          "base_uri": "https://localhost:8080/"
        },
        "id": "AGmdzqZxJLgj",
        "outputId": "c4331443-db11-4ffe-d671-e16d75e61c7e"
      },
      "execution_count": 48,
      "outputs": [
        {
          "output_type": "stream",
          "name": "stdout",
          "text": [
            "19/19 [==============================] - 2s 36ms/step - loss: 0.1392 - accuracy: 0.9533\n",
            "Loss = 0.13924814760684967\n",
            "Test Accuracy = 0.95333331823349\n"
          ]
        }
      ]
    },
    {
      "cell_type": "code",
      "source": [
        "from matplotlib.pyplot import imread\n",
        "# from tensorflow.keras.utils import load_img, img_to_array\n",
        "from tensorflow.keras.preprocessing import image\n",
        "import tensorflow as tf\n",
        "\n",
        "# Aditya Ref: /content/drive/MyDrive/ColabNotebooks/PRED/0CRAQZGP.jpg\n",
        "\n",
        "img_path = '/content/drive/MyDrive/ColabNotebooks/BTdsYesNo/yes/y100.jpg'\n",
        "img = tf.keras.utils.load_img(img_path, target_size=(64, 64))\n",
        "x = image.img_to_array(img)\n",
        "x = np.expand_dims(x, axis=0)\n",
        "x = preprocess_input(x)\n",
        "print('Input image shape:', x.shape)\n",
        "my_image = imread(img_path)\n",
        "imshow(my_image)\n",
        "print(model.predict(x))"
      ],
      "metadata": {
        "colab": {
          "base_uri": "https://localhost:8080/",
          "height": 321
        },
        "id": "P2T-wn2VJP-y",
        "outputId": "be707036-1071-417e-ffd9-55269c11bc02"
      },
      "execution_count": 53,
      "outputs": [
        {
          "output_type": "stream",
          "name": "stdout",
          "text": [
            "Input image shape: (1, 64, 64, 3)\n",
            "1/1 [==============================] - 0s 32ms/step\n",
            "[[0. 1.]]\n"
          ]
        },
        {
          "output_type": "display_data",
          "data": {
            "text/plain": [
              "<Figure size 432x288 with 1 Axes>"
            ],
            "image/png": "[encoded data removed]"
          },
          "metadata": {
            "needs_background": "light"
          }
        }
      ]
    }
  ]
}