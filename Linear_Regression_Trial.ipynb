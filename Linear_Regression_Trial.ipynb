{
  "nbformat": 4,
  "nbformat_minor": 0,
  "metadata": {
    "colab": {
      "provenance": [],
      "authorship_tag": "ABX9TyMxjo+vEhJqs0byPFMfjGAf",
      "include_colab_link": true
    },
    "kernelspec": {
      "name": "python3",
      "display_name": "Python 3"
    },
    "language_info": {
      "name": "python"
    }
  },
  "cells": [
    {
      "cell_type": "markdown",
      "metadata": {
        "id": "view-in-github",
        "colab_type": "text"
      },
      "source": [
        "<a href=\"https://colab.research.google.com/github/BANZOM/MachingLearningStuffs/blob/main/Linear_Regression_Trial.ipynb\" target=\"_parent\"><img src=\"https://colab.research.google.com/assets/colab-badge.svg\" alt=\"Open In Colab\"/></a>"
      ]
    },
    {
      "cell_type": "markdown",
      "source": [
        "## Goals\n",
        "In this lab you will:\n",
        "- Learn to implement the model $f_{w,b}$ for linear regression with one variable"
      ],
      "metadata": {
        "id": "rvZCMVYBkcEM"
      }
    },
    {
      "cell_type": "markdown",
      "source": [
        "## Notation\n",
        "Here is a summary of some of the notation you will encounter.  \n",
        "\n",
        "|General <img width=70/> <br />  Notation  <img width=70/> | Description<img width=350/>| Python (if applicable) |\n",
        "|: ------------|: ------------------------------------------------------------||\n",
        "| $a$ | scalar, non bold                                                      ||\n",
        "| $\\mathbf{a}$ | vector, bold                                                      ||\n",
        "| **Regression** |         |    |     |\n",
        "|  $\\mathbf{x}$ | Training Example feature values (in this lab - Size (1000 sqft))  | `x_train` |   \n",
        "|  $\\mathbf{y}$  | Training Example  targets (in this lab Price (1000s of dollars))  | `y_train` \n",
        "|  $x^{(i)}$, $y^{(i)}$ | $i_{th}$Training Example | `x_i`, `y_i`|\n",
        "| m | Number of training examples | `m`|\n",
        "|  $w$  |  parameter: weight                                 | `w`    |\n",
        "|  $b$           |  parameter: bias                                           | `b`    |     \n",
        "| $f_{w,b}(x^{(i)})$ | The result of the model evaluation at $x^{(i)}$ parameterized by $w,b$: $f_{w,b}(x^{(i)}) = wx^{(i)}+b$  | `f_wb` | \n"
      ],
      "metadata": {
        "id": "YCO3WvDkkg8m"
      }
    },
    {
      "cell_type": "code",
      "execution_count": 1,
      "metadata": {
        "id": "HC-ngcLHkNas"
      },
      "outputs": [],
      "source": [
        "import numpy as np\n",
        "import matplotlib.pyplot as plt\n"
      ]
    },
    {
      "cell_type": "code",
      "source": [
        "# Selecting the style for plotting\n",
        "# plt.style.available\n",
        "plt.style.use('seaborn-darkgrid')"
      ],
      "metadata": {
        "id": "VmwW7jdglOOO"
      },
      "execution_count": 8,
      "outputs": []
    },
    {
      "cell_type": "markdown",
      "source": [
        "Please run the following code cell to create your `x_train` and `y_train` variables. The data is stored in one-dimensional NumPy arrays."
      ],
      "metadata": {
        "id": "_NQmt0VPmVTv"
      }
    },
    {
      "cell_type": "code",
      "source": [
        "# x_train is the input variable\n",
        "# y_train is the output/target variable\n",
        "x_train= np.array([10,20,30,40,50])\n",
        "y_train= np.array([12,18,22,25,31])"
      ],
      "metadata": {
        "id": "IMfok4mkmFGq"
      },
      "execution_count": 14,
      "outputs": []
    },
    {
      "cell_type": "code",
      "source": [
        "print(f\"x_train = {x_train}\")\n",
        "print(f\"y_train = {y_train}\")"
      ],
      "metadata": {
        "colab": {
          "base_uri": "https://localhost:8080/"
        },
        "id": "WUEG7vuEm7kq",
        "outputId": "1c6d08cd-a9dd-42d0-aa87-c40f460cef68"
      },
      "execution_count": 15,
      "outputs": [
        {
          "output_type": "stream",
          "name": "stdout",
          "text": [
            "x_train = [10 20 30 40 50]\n",
            "y_train = [12 18 22 25 31]\n"
          ]
        }
      ]
    },
    {
      "cell_type": "markdown",
      "source": [
        "### Number of training examples `m`\n",
        "You will use `m` to denote the number of training examples. Numpy arrays have a `.shape` parameter. `x_train.shape` returns a python tuple with an entry for each dimension. `x_train.shape[0]` is the length of the array and number of examples as shown below."
      ],
      "metadata": {
        "id": "_r_qLDrdpHKW"
      }
    },
    {
      "cell_type": "code",
      "source": [
        "m = x_train.shape[0]\n",
        "print(f\"x_train Shape/NO of training examples is {m}\")"
      ],
      "metadata": {
        "colab": {
          "base_uri": "https://localhost:8080/"
        },
        "id": "DAcVUjstpIHX",
        "outputId": "bf1393b0-3e22-49ca-c2df-3849d5fb9eab"
      },
      "execution_count": 18,
      "outputs": [
        {
          "output_type": "stream",
          "name": "stdout",
          "text": [
            "x_train Shape/NO of training examples is 5\n"
          ]
        }
      ]
    },
    {
      "cell_type": "markdown",
      "source": [
        "One can also use the Python `len()` function as shown below."
      ],
      "metadata": {
        "id": "7S0qqr87pqR7"
      }
    },
    {
      "cell_type": "code",
      "source": [
        "m = len(x_train)\n",
        "print(f\"x_train Shape/NO of training examples is {m}\")"
      ],
      "metadata": {
        "colab": {
          "base_uri": "https://localhost:8080/"
        },
        "id": "1ComTnXUpubo",
        "outputId": "8bba6f20-8d9e-4968-afdb-7bc088e0c9de"
      },
      "execution_count": 19,
      "outputs": [
        {
          "output_type": "stream",
          "name": "stdout",
          "text": [
            "x_train Shape/NO of training examples is 5\n"
          ]
        }
      ]
    },
    {
      "cell_type": "markdown",
      "source": [
        "### Training example `x_i, y_i`\n",
        "\n",
        "You will use (x$^{(i)}$, y$^{(i)}$) to denote the $i^{th}$ training example. Since Python is zero indexed, (x$^{(0)}$, y$^{(0)}$) is (10,12) and (x$^{(1)}$, y$^{(1)}$) is (20,18). \n",
        "\n",
        "To access a value in a Numpy array, one indexes the array with the desired offset. For example the syntax to access location zero of `x_train` is `x_train[0]`.\n",
        "Run the next code block below to get the $i^{th}$ training example."
      ],
      "metadata": {
        "id": "yYtlB27RqFc-"
      }
    },
    {
      "cell_type": "code",
      "source": [
        "i=2 # change the value of i to see ((x^i, y^i))\n",
        "\n",
        "x_i = x_train[i]\n",
        "y_i = y_train[i]\n",
        "\n",
        "print(f\"(x^({i}), y^({i})) = ({x_i}, {y_i})\")"
      ],
      "metadata": {
        "colab": {
          "base_uri": "https://localhost:8080/"
        },
        "id": "jD6kvFZFqCUS",
        "outputId": "57f8bd35-3a80-4395-a6bf-f85fa6a21086"
      },
      "execution_count": 21,
      "outputs": [
        {
          "output_type": "stream",
          "name": "stdout",
          "text": [
            "(x^(2), y^(2)) = (30, 22)\n"
          ]
        }
      ]
    },
    {
      "cell_type": "markdown",
      "source": [
        "we can plot these two points using the `scatter()` function in the `matplotlib` library, as shown in the cell below. \n",
        "- The function arguments `marker` and `c` show the points as red crosses (the default is blue dots).\n",
        "\n",
        "You can use other functions in the `matplotlib` library to set the title and labels to display"
      ],
      "metadata": {
        "id": "4kvNSKucratg"
      }
    },
    {
      "cell_type": "code",
      "source": [
        "# Plot the data points\n",
        "\n",
        "plt.scatter(x_train,y_train,marker='o',c='b')\n",
        "plt.title('Housing Prices');\n",
        "plt.xlabel(\"Size in Yards\")\n",
        "plt.ylabel(\"Prices in Lakhs\")\n",
        "plt.show()"
      ],
      "metadata": {
        "colab": {
          "base_uri": "https://localhost:8080/",
          "height": 291
        },
        "id": "4xC8MeVXrWJm",
        "outputId": "1bdc8a8d-997f-4e6d-c8d7-963748eeff31"
      },
      "execution_count": 23,
      "outputs": [
        {
          "output_type": "display_data",
          "data": {
            "text/plain": [
              "<Figure size 432x288 with 1 Axes>"
            ],
            "image/png": "[encoded data removed]"
          },
          "metadata": {}
        }
      ]
    }
  ]
}