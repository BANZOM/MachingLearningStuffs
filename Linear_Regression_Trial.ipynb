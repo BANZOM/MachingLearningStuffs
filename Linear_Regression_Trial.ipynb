{
  "nbformat": 4,
  "nbformat_minor": 0,
  "metadata": {
    "colab": {
      "provenance": [],
      "authorship_tag": "ABX9TyPcGVkahhNLSo0CZjMiwcHp",
      "include_colab_link": true
    },
    "kernelspec": {
      "name": "python3",
      "display_name": "Python 3"
    },
    "language_info": {
      "name": "python"
    }
  },
  "cells": [
    {
      "cell_type": "markdown",
      "metadata": {
        "id": "view-in-github",
        "colab_type": "text"
      },
      "source": [
        "<a href=\"https://colab.research.google.com/github/BANZOM/MachingLearningStuffs/blob/main/Linear_Regression_Trial.ipynb\" target=\"_parent\"><img src=\"https://colab.research.google.com/assets/colab-badge.svg\" alt=\"Open In Colab\"/></a>"
      ]
    },
    {
      "cell_type": "markdown",
      "source": [
        "## Goals\n",
        "In this lab we will:\n",
        "- Learn to implement the model $f_{w,b}$ for linear regression with one variable"
      ],
      "metadata": {
        "id": "rvZCMVYBkcEM"
      }
    },
    {
      "cell_type": "markdown",
      "source": [
        "## Notation\n",
        "Here is a summary of some of the notation we may encounter.  \n",
        "\n",
        "|General <img width=70/> <br />  Notation  <img width=70/> | Description<img width=350/>| Python (if applicable) |\n",
        "|: ------------|: ------------------------------------------------------------||\n",
        "| $a$ | scalar, non bold                                                      ||\n",
        "| $\\mathbf{a}$ | vector, bold                                                      ||\n",
        "| **Regression** |         |    |     |\n",
        "|  $\\mathbf{x}$ | Training Example feature values (in this lab - Size (1000 sqft))  | `x_train` |   \n",
        "|  $\\mathbf{y}$  | Training Example  targets (in this lab Price (1000s of dollars))  | `y_train` \n",
        "|  $x^{(i)}$, $y^{(i)}$ | $i_{th}$Training Example | `x_i`, `y_i`|\n",
        "| m | Number of training examples | `m`|\n",
        "|  $w$  |  parameter: weight                                 | `w`    |\n",
        "|  $b$           |  parameter: bias                                           | `b`    |     \n",
        "| $f_{w,b}(x^{(i)})$ | The result of the model evaluation at $x^{(i)}$ parameterized by $w,b$: $f_{w,b}(x^{(i)}) = wx^{(i)}+b$  | `f_wb` | \n"
      ],
      "metadata": {
        "id": "YCO3WvDkkg8m"
      }
    },
    {
      "cell_type": "code",
      "execution_count": 113,
      "metadata": {
        "id": "HC-ngcLHkNas"
      },
      "outputs": [],
      "source": [
        "import numpy as np\n",
        "import matplotlib.pyplot as plt\n"
      ]
    },
    {
      "cell_type": "code",
      "source": [
        "# Selecting the style for plotting\n",
        "# plt.style.available\n",
        "plt.style.use('seaborn-darkgrid')"
      ],
      "metadata": {
        "id": "VmwW7jdglOOO"
      },
      "execution_count": 114,
      "outputs": []
    },
    {
      "cell_type": "markdown",
      "source": [
        "Please run the following code cell to create your `x_train` and `y_train` variables. The data is stored in one-dimensional NumPy arrays."
      ],
      "metadata": {
        "id": "_NQmt0VPmVTv"
      }
    },
    {
      "cell_type": "code",
      "source": [
        "# x_train is the input variable\n",
        "# y_train is the output/target variable\n",
        "x_train= np.array([1., 2.])\n",
        "y_train= np.array([300., 500.])"
      ],
      "metadata": {
        "id": "IMfok4mkmFGq"
      },
      "execution_count": 115,
      "outputs": []
    },
    {
      "cell_type": "code",
      "source": [
        "print(f\"x_train = {x_train}\")\n",
        "print(f\"y_train = {y_train}\")"
      ],
      "metadata": {
        "colab": {
          "base_uri": "https://localhost:8080/"
        },
        "id": "WUEG7vuEm7kq",
        "outputId": "495d9ae2-fba0-4e81-d5be-409957d16b25"
      },
      "execution_count": 116,
      "outputs": [
        {
          "output_type": "stream",
          "name": "stdout",
          "text": [
            "x_train = [1. 2.]\n",
            "y_train = [300. 500.]\n"
          ]
        }
      ]
    },
    {
      "cell_type": "markdown",
      "source": [
        "### Number of training examples `m`\n",
        "You will use `m` to denote the number of training examples. Numpy arrays have a `.shape` parameter. `x_train.shape` returns a python tuple with an entry for each dimension. `x_train.shape[0]` is the length of the array and number of examples as shown below."
      ],
      "metadata": {
        "id": "_r_qLDrdpHKW"
      }
    },
    {
      "cell_type": "code",
      "source": [
        "m = x_train.shape[0]\n",
        "print(f\"x_train Shape/NO of training examples is {m}\")"
      ],
      "metadata": {
        "colab": {
          "base_uri": "https://localhost:8080/"
        },
        "id": "DAcVUjstpIHX",
        "outputId": "7a1a95e3-b940-4067-8023-78f860f28ed1"
      },
      "execution_count": 117,
      "outputs": [
        {
          "output_type": "stream",
          "name": "stdout",
          "text": [
            "x_train Shape/NO of training examples is 2\n"
          ]
        }
      ]
    },
    {
      "cell_type": "markdown",
      "source": [
        "One can also use the Python `len()` function as shown below."
      ],
      "metadata": {
        "id": "7S0qqr87pqR7"
      }
    },
    {
      "cell_type": "code",
      "source": [
        "m = len(x_train)\n",
        "print(f\"x_train Shape/NO of training examples is {m}\")"
      ],
      "metadata": {
        "colab": {
          "base_uri": "https://localhost:8080/"
        },
        "id": "1ComTnXUpubo",
        "outputId": "371831df-3a7b-4584-bbc1-dd9bc9072f91"
      },
      "execution_count": 118,
      "outputs": [
        {
          "output_type": "stream",
          "name": "stdout",
          "text": [
            "x_train Shape/NO of training examples is 2\n"
          ]
        }
      ]
    },
    {
      "cell_type": "markdown",
      "source": [
        "### Training example `x_i, y_i`\n",
        "\n",
        "You will use (x$^{(i)}$, y$^{(i)}$) to denote the $i^{th}$ training example. Since Python is zero indexed, (x$^{(0)}$, y$^{(0)}$) is (10,12) and (x$^{(1)}$, y$^{(1)}$) is (20,18). \n",
        "\n",
        "To access a value in a Numpy array, one indexes the array with the desired offset. For example the syntax to access location zero of `x_train` is `x_train[0]`.\n",
        "Run the next code block below to get the $i^{th}$ training example."
      ],
      "metadata": {
        "id": "yYtlB27RqFc-"
      }
    },
    {
      "cell_type": "code",
      "source": [
        "i=1 # change the value of i to see ((x^i, y^i))\n",
        "\n",
        "x_i = x_train[i]\n",
        "y_i = y_train[i]\n",
        "\n",
        "print(f\"(x^({i}), y^({i})) = ({x_i}, {y_i})\")"
      ],
      "metadata": {
        "colab": {
          "base_uri": "https://localhost:8080/"
        },
        "id": "jD6kvFZFqCUS",
        "outputId": "1baf833a-8bb5-4fd3-8d13-167dfc5f46ab"
      },
      "execution_count": 119,
      "outputs": [
        {
          "output_type": "stream",
          "name": "stdout",
          "text": [
            "(x^(1), y^(1)) = (2.0, 500.0)\n"
          ]
        }
      ]
    },
    {
      "cell_type": "markdown",
      "source": [
        "we can plot these two points using the `scatter()` function in the `matplotlib` library, as shown in the cell below. \n",
        "- The function arguments `marker` and `c` show the points as red crosses (the default is blue dots).\n",
        "\n",
        "You can use other functions in the `matplotlib` library to set the title and labels to display"
      ],
      "metadata": {
        "id": "4kvNSKucratg"
      }
    },
    {
      "cell_type": "code",
      "source": [
        "# Plot the data points\n",
        "\n",
        "plt.scatter(x_train,y_train,marker='o',c='b')\n",
        "plt.title('Housing Prices');\n",
        "plt.xlabel(\"Size in Yards\")\n",
        "plt.ylabel(\"Prices in Lakhs\")\n",
        "plt.show()"
      ],
      "metadata": {
        "colab": {
          "base_uri": "https://localhost:8080/",
          "height": 291
        },
        "id": "4xC8MeVXrWJm",
        "outputId": "9bdca38d-95b9-4fb2-e409-c17effc4285f"
      },
      "execution_count": 120,
      "outputs": [
        {
          "output_type": "display_data",
          "data": {
            "text/plain": [
              "<Figure size 432x288 with 1 Axes>"
            ],
            "image/png": "[encoded data removed]"
          },
          "metadata": {}
        }
      ]
    },
    {
      "cell_type": "markdown",
      "source": [
        "the model function for linear regression (which is a function that maps from `x` to `y`) is represented as \n",
        "\n",
        "$$ f_{w,b}(x^{(i)}) = wx^{(i)} + b \\tag{1}$$\n",
        "\n",
        "The formula above is how we can represent straight lines - different values of $w$ and $b$ give you different straight lines on the plot. <br/> <br/> \n",
        "Let's try to get a better intuition for this through the code blocks below. Let's start with $w = 100$ and $b = 100$. "
      ],
      "metadata": {
        "id": "vIUwfj-ixHR6"
      }
    },
    {
      "cell_type": "code",
      "source": [
        "w = 100\n",
        "b = 100\n",
        "\n",
        "print(f\"w = {w} \\nb = {b} \")"
      ],
      "metadata": {
        "colab": {
          "base_uri": "https://localhost:8080/"
        },
        "id": "OqD-74ilxOu_",
        "outputId": "44b39b23-f6f7-4225-8511-9a13e7175e12"
      },
      "execution_count": 121,
      "outputs": [
        {
          "output_type": "stream",
          "name": "stdout",
          "text": [
            "w = 100 \n",
            "b = 100 \n"
          ]
        }
      ]
    },
    {
      "cell_type": "markdown",
      "source": [
        "Now, let's compute the value of $f_{w,b}(x^{(i)})$ for your two data points. You can explicitly write this out for each data point as - \n",
        "\n",
        "for $x^{(0)}$, `f_wb = w * x[0] + b`\n",
        "\n",
        "for $x^{(1)}$, `f_wb = w * x[1] + b`\n",
        "\n",
        "For a large number of data points, this can get unwieldy and repetitive. So instead, you can calculate the function output in a `for` loop as shown in the `compute_model_output` function below."
      ],
      "metadata": {
        "id": "zX1h-vrQqlKR"
      }
    },
    {
      "cell_type": "code",
      "source": [
        "def compute_model_output(x,w,b):\n",
        "    _len = len(x)\n",
        "    f_wb = np.zeros(_len)\n",
        "    for i in range (_len):\n",
        "        f_wb[i] = w*x[i] + b\n",
        "    return f_wb"
      ],
      "metadata": {
        "id": "Zlry5HkrqZCI"
      },
      "execution_count": 122,
      "outputs": []
    },
    {
      "cell_type": "code",
      "source": [
        "# calling the fuction for output\n",
        "temp_f_wb= compute_model_output(x_train, w,b)"
      ],
      "metadata": {
        "id": "8NjEupzcsaLU"
      },
      "execution_count": 123,
      "outputs": []
    },
    {
      "cell_type": "code",
      "source": [
        "# plotting\n",
        "plt.plot(x_train, temp_f_wb , c='b', label=\"Our Prediction\" )\n",
        "plt.scatter(x_train, y_train, marker = 'x', c = 'r', label = \"Actual Values\")\n",
        "plt.title(\"Housing Prices\")\n",
        "plt.xlabel(\"Size in Yards\")\n",
        "plt.ylabel(\"Prices in Lakhs\")\n",
        "plt.legend()\n",
        "plt.show()\n",
        "\n"
      ],
      "metadata": {
        "colab": {
          "base_uri": "https://localhost:8080/",
          "height": 291
        },
        "id": "9NLvCcAbtAvW",
        "outputId": "b5c7ede5-81a0-4677-a7ca-b754147252f9"
      },
      "execution_count": 124,
      "outputs": [
        {
          "output_type": "display_data",
          "data": {
            "text/plain": [
              "<Figure size 432x288 with 1 Axes>"
            ],
            "image/png": "[encoded data removed]"
          },
          "metadata": {}
        }
      ]
    },
    {
      "cell_type": "markdown",
      "source": [
        "As you can see, setting  $w = 100$ and $b = 100$ does *not* result in a line that fits our data.\n",
        "\n",
        "We'll experimenting with different values of $w$ and $b$. What should the values be for a line that fits our data?\n"
      ],
      "metadata": {
        "id": "7JN57loTw9Jx"
      }
    },
    {
      "cell_type": "markdown",
      "source": [
        "'Testing to get the possible best fit line'"
      ],
      "metadata": {
        "id": "kLTpBhxqx8dI"
      }
    },
    {
      "cell_type": "code",
      "source": [
        "w = 200\n",
        "b = 100\n",
        "\n",
        "print(f\"w = {w} \\nb = {b} \")"
      ],
      "metadata": {
        "colab": {
          "base_uri": "https://localhost:8080/"
        },
        "outputId": "8607e6a5-8c6c-4f4d-d7a5-726556bde273",
        "id": "tsLm40AYySME"
      },
      "execution_count": 125,
      "outputs": [
        {
          "output_type": "stream",
          "name": "stdout",
          "text": [
            "w = 200 \n",
            "b = 100 \n"
          ]
        }
      ]
    },
    {
      "cell_type": "code",
      "source": [
        "# calling the fuction for output\n",
        "temp_f_wb= compute_model_output(x_train, w,b)"
      ],
      "metadata": {
        "id": "hhjLlw6Tyis7"
      },
      "execution_count": 126,
      "outputs": []
    },
    {
      "cell_type": "code",
      "source": [
        "# plotting\n",
        "plt.plot(x_train, temp_f_wb , c='b', label=\"Our Prediction\" )\n",
        "plt.scatter(x_train, y_train, marker = 'x', c = 'r', label = \"Actual Values\")\n",
        "plt.title(\"Housing Prices\")\n",
        "plt.xlabel(\"Size in Yards\")\n",
        "plt.ylabel(\"Prices in Lakhs\")\n",
        "plt.legend()\n",
        "plt.show()\n",
        "\n"
      ],
      "metadata": {
        "colab": {
          "base_uri": "https://localhost:8080/",
          "height": 291
        },
        "outputId": "c716b18c-ec98-452e-d42b-88b2da2e44e7",
        "id": "w08TOTqSydgv"
      },
      "execution_count": 127,
      "outputs": [
        {
          "output_type": "display_data",
          "data": {
            "text/plain": [
              "<Figure size 432x288 with 1 Axes>"
            ],
            "image/png": "[encoded data removed]"
          },
          "metadata": {}
        }
      ]
    },
    {
      "cell_type": "markdown",
      "source": [
        "*This is the best fit line of now*"
      ],
      "metadata": {
        "id": "NSCG_MKa1lJJ"
      }
    },
    {
      "cell_type": "markdown",
      "source": [
        "### Prediction\n",
        "Now that we have a model, we can use it to make our original prediction. Let's predict the price of a house with 1200 . Since the units of $x$ are in 1000's of sqft, $x$ is 1.5."
      ],
      "metadata": {
        "id": "9vv8MBAl18Wd"
      }
    },
    {
      "cell_type": "code",
      "source": [
        "A = 1.42\n",
        "cost = w * A + b"
      ],
      "metadata": {
        "id": "h9CHZiBz2Kr-"
      },
      "execution_count": 128,
      "outputs": []
    },
    {
      "cell_type": "code",
      "source": [
        "print(f\"Cost = {cost} Lakhs\")"
      ],
      "metadata": {
        "colab": {
          "base_uri": "https://localhost:8080/"
        },
        "id": "tRCgbd1C2w6Q",
        "outputId": "242b477a-cea8-4ef3-b3ef-5507f5dac501"
      },
      "execution_count": 129,
      "outputs": [
        {
          "output_type": "stream",
          "name": "stdout",
          "text": [
            "Cost = 384.0 Lakhs\n"
          ]
        }
      ]
    },
    {
      "cell_type": "code",
      "source": [
        "plt.plot(x_train, temp_f_wb , c='b', label=\"Our Prediction\" )\n",
        "plt.scatter(x_train, y_train, marker = 'x', c = 'r', label = \"Actual Values\")\n",
        "plt.scatter(A,cost, marker = \"+\" , label = \"Prediction\")\n",
        "plt.title(\"Housing Prices\")\n",
        "plt.xlabel(\"Size in Yards\")\n",
        "plt.ylabel(\"Prices in Lakhs\")\n",
        "plt.legend()\n",
        "plt.show()"
      ],
      "metadata": {
        "colab": {
          "base_uri": "https://localhost:8080/",
          "height": 291
        },
        "id": "KV952ZdX1qHe",
        "outputId": "e704d0ac-02ad-42cc-ef94-779dcd1d1183"
      },
      "execution_count": 130,
      "outputs": [
        {
          "output_type": "display_data",
          "data": {
            "text/plain": [
              "<Figure size 432x288 with 1 Axes>"
            ],
            "image/png": "[encoded data removed]"
          },
          "metadata": {}
        }
      ]
    }
  ]
}