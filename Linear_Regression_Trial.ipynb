{
  "nbformat": 4,
  "nbformat_minor": 0,
  "metadata": {
    "colab": {
      "provenance": [],
      "authorship_tag": "ABX9TyPXkyoXlghrEIGvdmzE0BEW",
      "include_colab_link": true
    },
    "kernelspec": {
      "name": "python3",
      "display_name": "Python 3"
    },
    "language_info": {
      "name": "python"
    }
  },
  "cells": [
    {
      "cell_type": "markdown",
      "metadata": {
        "id": "view-in-github",
        "colab_type": "text"
      },
      "source": [
        "<a href=\"https://colab.research.google.com/github/BANZOM/MachingLearningStuffs/blob/main/Linear_Regression_Trial.ipynb\" target=\"_parent\"><img src=\"https://colab.research.google.com/assets/colab-badge.svg\" alt=\"Open In Colab\"/></a>"
      ]
    },
    {
      "cell_type": "markdown",
      "source": [
        "## Goals\n",
        "In this lab you will:\n",
        "- Learn to implement the model $f_{w,b}$ for linear regression with one variable"
      ],
      "metadata": {
        "id": "rvZCMVYBkcEM"
      }
    },
    {
      "cell_type": "markdown",
      "source": [
        "## Notation\n",
        "Here is a summary of some of the notation you will encounter.  \n",
        "\n",
        "|General <img width=70/> <br />  Notation  <img width=70/> | Description<img width=350/>| Python (if applicable) |\n",
        "|: ------------|: ------------------------------------------------------------||\n",
        "| $a$ | scalar, non bold                                                      ||\n",
        "| $\\mathbf{a}$ | vector, bold                                                      ||\n",
        "| **Regression** |         |    |     |\n",
        "|  $\\mathbf{x}$ | Training Example feature values (in this lab - Size (1000 sqft))  | `x_train` |   \n",
        "|  $\\mathbf{y}$  | Training Example  targets (in this lab Price (1000s of dollars))  | `y_train` \n",
        "|  $x^{(i)}$, $y^{(i)}$ | $i_{th}$Training Example | `x_i`, `y_i`|\n",
        "| m | Number of training examples | `m`|\n",
        "|  $w$  |  parameter: weight                                 | `w`    |\n",
        "|  $b$           |  parameter: bias                                           | `b`    |     \n",
        "| $f_{w,b}(x^{(i)})$ | The result of the model evaluation at $x^{(i)}$ parameterized by $w,b$: $f_{w,b}(x^{(i)}) = wx^{(i)}+b$  | `f_wb` | \n"
      ],
      "metadata": {
        "id": "YCO3WvDkkg8m"
      }
    },
    {
      "cell_type": "code",
      "execution_count": 37,
      "metadata": {
        "id": "HC-ngcLHkNas"
      },
      "outputs": [],
      "source": [
        "import numpy as np\n",
        "import matplotlib.pyplot as plt\n"
      ]
    },
    {
      "cell_type": "code",
      "source": [
        "# Selecting the style for plotting\n",
        "# plt.style.available\n",
        "plt.style.use('seaborn-darkgrid')"
      ],
      "metadata": {
        "id": "VmwW7jdglOOO"
      },
      "execution_count": 38,
      "outputs": []
    },
    {
      "cell_type": "markdown",
      "source": [
        "Please run the following code cell to create your `x_train` and `y_train` variables. The data is stored in one-dimensional NumPy arrays."
      ],
      "metadata": {
        "id": "_NQmt0VPmVTv"
      }
    },
    {
      "cell_type": "code",
      "source": [
        "# x_train is the input variable\n",
        "# y_train is the output/target variable\n",
        "x_train= np.array([10,20,30,40,50])\n",
        "y_train= np.array([12000,18000,22000,25000,31000])"
      ],
      "metadata": {
        "id": "IMfok4mkmFGq"
      },
      "execution_count": 39,
      "outputs": []
    },
    {
      "cell_type": "code",
      "source": [
        "print(f\"x_train = {x_train}\")\n",
        "print(f\"y_train = {y_train}\")"
      ],
      "metadata": {
        "colab": {
          "base_uri": "https://localhost:8080/"
        },
        "id": "WUEG7vuEm7kq",
        "outputId": "b4db9bc6-8c32-46a7-fddf-484ca332c4f4"
      },
      "execution_count": 40,
      "outputs": [
        {
          "output_type": "stream",
          "name": "stdout",
          "text": [
            "x_train = [10 20 30 40 50]\n",
            "y_train = [12000 18000 22000 25000 31000]\n"
          ]
        }
      ]
    },
    {
      "cell_type": "markdown",
      "source": [
        "### Number of training examples `m`\n",
        "You will use `m` to denote the number of training examples. Numpy arrays have a `.shape` parameter. `x_train.shape` returns a python tuple with an entry for each dimension. `x_train.shape[0]` is the length of the array and number of examples as shown below."
      ],
      "metadata": {
        "id": "_r_qLDrdpHKW"
      }
    },
    {
      "cell_type": "code",
      "source": [
        "m = x_train.shape[0]\n",
        "print(f\"x_train Shape/NO of training examples is {m}\")"
      ],
      "metadata": {
        "colab": {
          "base_uri": "https://localhost:8080/"
        },
        "id": "DAcVUjstpIHX",
        "outputId": "5601870a-0b95-40bc-fdae-6594b7785f58"
      },
      "execution_count": 41,
      "outputs": [
        {
          "output_type": "stream",
          "name": "stdout",
          "text": [
            "x_train Shape/NO of training examples is 5\n"
          ]
        }
      ]
    },
    {
      "cell_type": "markdown",
      "source": [
        "One can also use the Python `len()` function as shown below."
      ],
      "metadata": {
        "id": "7S0qqr87pqR7"
      }
    },
    {
      "cell_type": "code",
      "source": [
        "m = len(x_train)\n",
        "print(f\"x_train Shape/NO of training examples is {m}\")"
      ],
      "metadata": {
        "colab": {
          "base_uri": "https://localhost:8080/"
        },
        "id": "1ComTnXUpubo",
        "outputId": "ae449647-8299-4736-b682-e9898c2668e9"
      },
      "execution_count": 42,
      "outputs": [
        {
          "output_type": "stream",
          "name": "stdout",
          "text": [
            "x_train Shape/NO of training examples is 5\n"
          ]
        }
      ]
    },
    {
      "cell_type": "markdown",
      "source": [
        "### Training example `x_i, y_i`\n",
        "\n",
        "You will use (x$^{(i)}$, y$^{(i)}$) to denote the $i^{th}$ training example. Since Python is zero indexed, (x$^{(0)}$, y$^{(0)}$) is (10,12) and (x$^{(1)}$, y$^{(1)}$) is (20,18). \n",
        "\n",
        "To access a value in a Numpy array, one indexes the array with the desired offset. For example the syntax to access location zero of `x_train` is `x_train[0]`.\n",
        "Run the next code block below to get the $i^{th}$ training example."
      ],
      "metadata": {
        "id": "yYtlB27RqFc-"
      }
    },
    {
      "cell_type": "code",
      "source": [
        "i=2 # change the value of i to see ((x^i, y^i))\n",
        "\n",
        "x_i = x_train[i]\n",
        "y_i = y_train[i]\n",
        "\n",
        "print(f\"(x^({i}), y^({i})) = ({x_i}, {y_i})\")"
      ],
      "metadata": {
        "colab": {
          "base_uri": "https://localhost:8080/"
        },
        "id": "jD6kvFZFqCUS",
        "outputId": "b8cddc87-6479-48da-d20f-5b8b7c9c82bb"
      },
      "execution_count": 43,
      "outputs": [
        {
          "output_type": "stream",
          "name": "stdout",
          "text": [
            "(x^(2), y^(2)) = (30, 22000)\n"
          ]
        }
      ]
    },
    {
      "cell_type": "markdown",
      "source": [
        "we can plot these two points using the `scatter()` function in the `matplotlib` library, as shown in the cell below. \n",
        "- The function arguments `marker` and `c` show the points as red crosses (the default is blue dots).\n",
        "\n",
        "You can use other functions in the `matplotlib` library to set the title and labels to display"
      ],
      "metadata": {
        "id": "4kvNSKucratg"
      }
    },
    {
      "cell_type": "code",
      "source": [
        "# Plot the data points\n",
        "\n",
        "plt.scatter(x_train,y_train,marker='o',c='b')\n",
        "plt.title('Housing Prices');\n",
        "plt.xlabel(\"Size in Yards\")\n",
        "plt.ylabel(\"Prices in Lakhs\")\n",
        "plt.show()"
      ],
      "metadata": {
        "colab": {
          "base_uri": "https://localhost:8080/",
          "height": 291
        },
        "id": "4xC8MeVXrWJm",
        "outputId": "4410687b-1f46-4ef3-c1ff-cf464b36e11a"
      },
      "execution_count": 44,
      "outputs": [
        {
          "output_type": "display_data",
          "data": {
            "text/plain": [
              "<Figure size 432x288 with 1 Axes>"
            ],
            "image/png": "[encoded data removed]"
          },
          "metadata": {}
        }
      ]
    },
    {
      "cell_type": "markdown",
      "source": [
        "the model function for linear regression (which is a function that maps from `x` to `y`) is represented as \n",
        "\n",
        "$$ f_{w,b}(x^{(i)}) = wx^{(i)} + b \\tag{1}$$\n",
        "\n",
        "The formula above is how we can represent straight lines - different values of $w$ and $b$ give you different straight lines on the plot. <br/> <br/> \n",
        "Let's try to get a better intuition for this through the code blocks below. Let's start with $w = 100$ and $b = 100$. "
      ],
      "metadata": {
        "id": "vIUwfj-ixHR6"
      }
    },
    {
      "cell_type": "code",
      "source": [
        "w = 100\n",
        "b = 100\n",
        "\n",
        "print(f\"w = {w} \\nb = {b} \")"
      ],
      "metadata": {
        "colab": {
          "base_uri": "https://localhost:8080/"
        },
        "id": "OqD-74ilxOu_",
        "outputId": "e562c5f3-b36d-4ea2-ef61-ecab7390f710"
      },
      "execution_count": 56,
      "outputs": [
        {
          "output_type": "stream",
          "name": "stdout",
          "text": [
            "w = 100 \n",
            "b = 100 \n"
          ]
        }
      ]
    },
    {
      "cell_type": "markdown",
      "source": [
        "Now, let's compute the value of $f_{w,b}(x^{(i)})$ for your two data points. You can explicitly write this out for each data point as - \n",
        "\n",
        "for $x^{(0)}$, `f_wb = w * x[0] + b`\n",
        "\n",
        "for $x^{(1)}$, `f_wb = w * x[1] + b`\n",
        "\n",
        "For a large number of data points, this can get unwieldy and repetitive. So instead, you can calculate the function output in a `for` loop as shown in the `compute_model_output` function below."
      ],
      "metadata": {
        "id": "zX1h-vrQqlKR"
      }
    },
    {
      "cell_type": "code",
      "source": [
        "def compute_model_output(x,w,b):\n",
        "    _len = len(x)\n",
        "    f_wb = np.zeros(_len)\n",
        "    for i in range (_len):\n",
        "        f_wb[i] = w*x[i] + b\n",
        "    return f_wb"
      ],
      "metadata": {
        "id": "Zlry5HkrqZCI"
      },
      "execution_count": 57,
      "outputs": []
    },
    {
      "cell_type": "code",
      "source": [
        "# calling the fuction for output\n",
        "temp_f_wb= compute_model_output(x_train, w,b)"
      ],
      "metadata": {
        "id": "8NjEupzcsaLU"
      },
      "execution_count": 58,
      "outputs": []
    },
    {
      "cell_type": "code",
      "source": [
        "# plotting\n",
        "plt.plot(x_train, temp_f_wb , c='b', label=\"Our Prediction\" )\n",
        "plt.scatter(x_train, y_train, marker = 'x', c = 'r', label = \"Actual Values\")\n",
        "plt.title(\"Housing Prices\")\n",
        "plt.xlabel(\"Size in Yards\")\n",
        "plt.ylabel(\"Prices in Lakhs\")\n",
        "plt.legend()\n",
        "plt.show()\n",
        "\n"
      ],
      "metadata": {
        "colab": {
          "base_uri": "https://localhost:8080/",
          "height": 291
        },
        "id": "9NLvCcAbtAvW",
        "outputId": "659274ca-e9c6-46a3-e316-3298ac3ba1ff"
      },
      "execution_count": 59,
      "outputs": [
        {
          "output_type": "display_data",
          "data": {
            "text/plain": [
              "<Figure size 432x288 with 1 Axes>"
            ],
            "image/png": "[encoded data removed]"
          },
          "metadata": {}
        }
      ]
    },
    {
      "cell_type": "markdown",
      "source": [
        "As you can see, setting  $w = 100$ and $b = 100$ does *not* result in a line that fits our data.\n",
        "\n",
        "We'll experimenting with different values of $w$ and $b$. What should the values be for a line that fits our data?\n"
      ],
      "metadata": {
        "id": "7JN57loTw9Jx"
      }
    },
    {
      "cell_type": "markdown",
      "source": [
        "'Testing to get the possible best fit line'"
      ],
      "metadata": {
        "id": "kLTpBhxqx8dI"
      }
    },
    {
      "cell_type": "code",
      "source": [
        "w = 200\n",
        "b = 16000\n",
        "\n",
        "print(f\"w = {w} \\nb = {b} \")"
      ],
      "metadata": {
        "colab": {
          "base_uri": "https://localhost:8080/"
        },
        "outputId": "66f37b95-7b8b-4555-cb07-3aa9e0d74adf",
        "id": "tsLm40AYySME"
      },
      "execution_count": 86,
      "outputs": [
        {
          "output_type": "stream",
          "name": "stdout",
          "text": [
            "w = 200 \n",
            "b = 16000 \n"
          ]
        }
      ]
    },
    {
      "cell_type": "code",
      "source": [
        "# calling the fuction for output\n",
        "temp_f_wb= compute_model_output(x_train, w,b)"
      ],
      "metadata": {
        "id": "hhjLlw6Tyis7"
      },
      "execution_count": 87,
      "outputs": []
    },
    {
      "cell_type": "code",
      "source": [
        "# plotting\n",
        "plt.plot(x_train, temp_f_wb , c='b', label=\"Our Prediction\" )\n",
        "plt.scatter(x_train, y_train, marker = 'x', c = 'r', label = \"Actual Values\")\n",
        "plt.title(\"Housing Prices\")\n",
        "plt.xlabel(\"Size in Yards\")\n",
        "plt.ylabel(\"Prices in Lakhs\")\n",
        "plt.legend()\n",
        "plt.show()\n",
        "\n"
      ],
      "metadata": {
        "colab": {
          "base_uri": "https://localhost:8080/",
          "height": 291
        },
        "outputId": "2e81e6ca-77c9-42d6-9c66-b59531f22b89",
        "id": "w08TOTqSydgv"
      },
      "execution_count": 88,
      "outputs": [
        {
          "output_type": "display_data",
          "data": {
            "text/plain": [
              "<Figure size 432x288 with 1 Axes>"
            ],
            "image/png": "[encoded data removed]"
          },
          "metadata": {}
        }
      ]
    }
  ]
}