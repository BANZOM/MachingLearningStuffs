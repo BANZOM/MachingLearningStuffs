{
  "nbformat": 4,
  "nbformat_minor": 0,
  "metadata": {
    "colab": {
      "provenance": [],
      "authorship_tag": "ABX9TyNF3eaeQsOChfvTWyhq3D9x",
      "include_colab_link": true
    },
    "kernelspec": {
      "name": "python3",
      "display_name": "Python 3"
    },
    "language_info": {
      "name": "python"
    }
  },
  "cells": [
    {
      "cell_type": "markdown",
      "metadata": {
        "id": "view-in-github",
        "colab_type": "text"
      },
      "source": [
        "<a href=\"https://colab.research.google.com/github/BANZOM/MachingLearningStuffs/blob/main/NumPy_by_Aditya.ipynb\" target=\"_parent\"><img src=\"https://colab.research.google.com/assets/colab-badge.svg\" alt=\"Open In Colab\"/></a>"
      ]
    },
    {
      "cell_type": "markdown",
      "source": [
        "# **As on 22/08/2022**\n"
      ],
      "metadata": {
        "id": "DDSYIySQA3mp"
      }
    },
    {
      "cell_type": "code",
      "execution_count": 2,
      "metadata": {
        "id": "rlgU2AWn8bVf"
      },
      "outputs": [],
      "source": [
        "import numpy as np"
      ]
    },
    {
      "cell_type": "code",
      "source": [
        "arr1d= npy.array([1,2,3,4])\n",
        "\n",
        "#prinring array\n",
        "print(arr1d)\n",
        "\n",
        "print(type(arr1d))"
      ],
      "metadata": {
        "colab": {
          "base_uri": "https://localhost:8080/"
        },
        "id": "losH0WSN82a2",
        "outputId": "ee203d3d-171c-46e0-ed63-351d71b8ad9c"
      },
      "execution_count": null,
      "outputs": [
        {
          "output_type": "stream",
          "name": "stdout",
          "text": [
            "[1 2 3 4]\n",
            "<class 'numpy.ndarray'>\n"
          ]
        }
      ]
    },
    {
      "cell_type": "code",
      "source": [
        "#2d array\n",
        "arr2d= npy.array([ [1,2,3,4],[11,22,33,44] ])\n",
        "\n",
        "print(arr2d)\n",
        "type(arr2d)"
      ],
      "metadata": {
        "colab": {
          "base_uri": "https://localhost:8080/"
        },
        "id": "_WxbpUac9uRR",
        "outputId": "4f45d6c7-030d-43cb-8ef4-922f90a14aca"
      },
      "execution_count": null,
      "outputs": [
        {
          "output_type": "stream",
          "name": "stdout",
          "text": [
            "[[ 1  2  3  4]\n",
            " [11 22 33 44]]\n"
          ]
        },
        {
          "output_type": "execute_result",
          "data": {
            "text/plain": [
              "numpy.ndarray"
            ]
          },
          "metadata": {},
          "execution_count": 5
        }
      ]
    },
    {
      "cell_type": "code",
      "source": [
        "#check dimension of NumPy ndarray\n",
        "print(arr1d.ndim)\n",
        "print(arr2d.ndim)\n"
      ],
      "metadata": {
        "colab": {
          "base_uri": "https://localhost:8080/"
        },
        "id": "XQgceEZz-Uyl",
        "outputId": "288b651d-89e9-4c8c-ef87-4ffccb3b6ba9"
      },
      "execution_count": null,
      "outputs": [
        {
          "output_type": "stream",
          "name": "stdout",
          "text": [
            "1\n",
            "2\n"
          ]
        }
      ]
    },
    {
      "cell_type": "code",
      "source": [
        "#check the size of the NumPy array\n",
        "print(arr1d.size)\n",
        "print(arr2d.size)"
      ],
      "metadata": {
        "colab": {
          "base_uri": "https://localhost:8080/"
        },
        "id": "8ktzHHi4-pWR",
        "outputId": "f93ad835-927b-4e39-c97f-05e9a440ecd8"
      },
      "execution_count": null,
      "outputs": [
        {
          "output_type": "stream",
          "name": "stdout",
          "text": [
            "4\n",
            "8\n"
          ]
        }
      ]
    },
    {
      "cell_type": "code",
      "source": [
        "#demintions of the NumPy array\n",
        "print(arr1d.dtype)\n",
        "print(arr2d.dtype)"
      ],
      "metadata": {
        "colab": {
          "base_uri": "https://localhost:8080/"
        },
        "id": "J6CODpSo-u_o",
        "outputId": "63d70f98-02db-438d-cca3-814086abd29f"
      },
      "execution_count": null,
      "outputs": [
        {
          "output_type": "stream",
          "name": "stdout",
          "text": [
            "int64\n",
            "int64\n"
          ]
        }
      ]
    },
    {
      "cell_type": "code",
      "source": [
        "#check the shape of ndarray\n",
        "print(arr1d.shape)\n",
        "print(arr2d.shape)"
      ],
      "metadata": {
        "colab": {
          "base_uri": "https://localhost:8080/"
        },
        "id": "5EyqbtD8D8s_",
        "outputId": "3335397e-31ee-4064-a61a-f1575d936e94"
      },
      "execution_count": null,
      "outputs": [
        {
          "output_type": "stream",
          "name": "stdout",
          "text": [
            "(4,)\n",
            "(2, 4)\n"
          ]
        }
      ]
    },
    {
      "cell_type": "code",
      "source": [
        "arr= npy.arange(1,21)\n",
        "print(arr)"
      ],
      "metadata": {
        "colab": {
          "base_uri": "https://localhost:8080/"
        },
        "id": "0cAiS8tj_DTp",
        "outputId": "e97cbe04-15c7-4feb-c74b-fa0a422544e1"
      },
      "execution_count": null,
      "outputs": [
        {
          "output_type": "stream",
          "name": "stdout",
          "text": [
            "[ 1  2  3  4  5  6  7  8  9 10 11 12 13 14 15 16 17 18 19 20]\n"
          ]
        }
      ]
    },
    {
      "cell_type": "code",
      "source": [
        "reArr= npy.reshape(arr,(5,4))\n",
        "print(reArr)\n",
        "reArr= npy.reshape(arr,(2,10))\n",
        "print(reArr)"
      ],
      "metadata": {
        "colab": {
          "base_uri": "https://localhost:8080/"
        },
        "id": "F3bRqAKD_feM",
        "outputId": "4895ba79-c3b6-460f-cf1b-aa9f404b57e1"
      },
      "execution_count": null,
      "outputs": [
        {
          "output_type": "stream",
          "name": "stdout",
          "text": [
            "[[ 1  2  3  4]\n",
            " [ 5  6  7  8]\n",
            " [ 9 10 11 12]\n",
            " [13 14 15 16]\n",
            " [17 18 19 20]]\n",
            "[[ 1  2  3  4  5  6  7  8  9 10]\n",
            " [11 12 13 14 15 16 17 18 19 20]]\n"
          ]
        }
      ]
    },
    {
      "cell_type": "code",
      "source": [
        "#Create metrics using python NumPy functions\n",
        "#Syntax: np.ones(shape, dtype=None, order=‘C’)\n",
        "\n",
        "oArr= npy.ones((4,4),dtype=int)\n",
        "print(oArr)\n",
        "\n",
        "#np.zeros(shape, dtype=None, order=‘C’)\n",
        "oneArr= npy.zeros( (4,4) , dtype= int)\n",
        "print(oneArr)\n",
        "\n",
        "#np.empty(shape, dtype=None, order=‘C’)\n",
        "emptyArr= npy.empty((3,3), dtype=bool)\n",
        "print(emptyArr)"
      ],
      "metadata": {
        "id": "OY7nr4wtBACU",
        "colab": {
          "base_uri": "https://localhost:8080/"
        },
        "outputId": "8710857b-5705-481c-eb00-6806d941d9a3"
      },
      "execution_count": null,
      "outputs": [
        {
          "output_type": "stream",
          "name": "stdout",
          "text": [
            "[[1 1 1 1]\n",
            " [1 1 1 1]\n",
            " [1 1 1 1]\n",
            " [1 1 1 1]]\n",
            "[[0 0 0 0]\n",
            " [0 0 0 0]\n",
            " [0 0 0 0]\n",
            " [0 0 0 0]]\n",
            "[[ True  True  True]\n",
            " [ True False False]\n",
            " [False False False]]\n"
          ]
        }
      ]
    },
    {
      "cell_type": "code",
      "source": [
        "#storing different datatypes in an array\n",
        "\n",
        "multiDataTypeArray = npy.array([['id', 'name', 'percentage', 'pass or fail'], \n",
        "                         [101, 'Narendra', 80, 'pass'], \n",
        "                         [102, 'John', 75, 'pass'],\n",
        "                         [103, 'Abraham',33, 'fail'],\n",
        "                         [104, 'Oprah',52, 'pass']\n",
        "                        ])\n",
        "print(multiDataTypeArray)"
      ],
      "metadata": {
        "colab": {
          "base_uri": "https://localhost:8080/"
        },
        "id": "Z5ksHonjbJ_w",
        "outputId": "2b4089ab-c131-438f-f9d0-1675a2293b87"
      },
      "execution_count": null,
      "outputs": [
        {
          "output_type": "stream",
          "name": "stdout",
          "text": [
            "[['id' 'name' 'percentage' 'pass or fail']\n",
            " ['101' 'Narendra' '80' 'pass']\n",
            " ['102' 'John' '75' 'pass']\n",
            " ['103' 'Abraham' '33' 'fail']\n",
            " ['104' 'Oprah' '52' 'pass']]\n"
          ]
        }
      ]
    },
    {
      "cell_type": "markdown",
      "source": [
        "# NumPy Arithmetic Operations"
      ],
      "metadata": {
        "id": "FFEO4ymCc_oe"
      }
    },
    {
      "cell_type": "code",
      "source": [
        "#creating a sample array for opetations\n",
        "arr1 = npy.arange(1,10)\n",
        "arr1 = arr1.reshape(3,3)\n",
        "\n",
        "arr2 = npy.arange(11,20)\n",
        "arr2 = arr2.reshape(3,3)\n",
        "print(arr1)\n",
        "print(arr2)"
      ],
      "metadata": {
        "colab": {
          "base_uri": "https://localhost:8080/"
        },
        "id": "Nr66attJdBqr",
        "outputId": "4443b6dc-5adc-4cd2-d8a9-045a770d3ac3"
      },
      "execution_count": null,
      "outputs": [
        {
          "output_type": "stream",
          "name": "stdout",
          "text": [
            "[[1 2 3]\n",
            " [4 5 6]\n",
            " [7 8 9]]\n",
            "[[11 12 13]\n",
            " [14 15 16]\n",
            " [17 18 19]]\n"
          ]
        }
      ]
    },
    {
      "cell_type": "code",
      "source": [
        "#addition of array\n",
        "print(arr1+arr2)\n",
        "\n",
        "#subtraction of array\n",
        "print(arr1-arr2)\n",
        "print(arr2-arr1)\n",
        "\n",
        "#multiplication of matrix\n",
        "print(arr1*arr2)\n"
      ],
      "metadata": {
        "colab": {
          "base_uri": "https://localhost:8080/"
        },
        "id": "ITrKrYkWeYHH",
        "outputId": "bf6ccd61-552d-49f2-b676-47e262b1eff8"
      },
      "execution_count": null,
      "outputs": [
        {
          "output_type": "stream",
          "name": "stdout",
          "text": [
            "[[12 14 16]\n",
            " [18 20 22]\n",
            " [24 26 28]]\n",
            "[[-10 -10 -10]\n",
            " [-10 -10 -10]\n",
            " [-10 -10 -10]]\n",
            "[[10 10 10]\n",
            " [10 10 10]\n",
            " [10 10 10]]\n",
            "[[ 11  24  39]\n",
            " [ 56  75  96]\n",
            " [119 144 171]]\n"
          ]
        }
      ]
    },
    {
      "cell_type": "code",
      "source": [
        "#Matrix Product of Two NumPy Array (matrix)\n",
        "print(arr1@arr2)\n",
        "# cab be done using @ operator\n",
        "# or\n",
        "#  by\n",
        "# dot operator\n",
        "print(arr1.dot(arr2) )"
      ],
      "metadata": {
        "colab": {
          "base_uri": "https://localhost:8080/"
        },
        "id": "hp2HAiWxfDjt",
        "outputId": "eddbf06c-15bd-4761-b0c8-89b9ff59b5dd"
      },
      "execution_count": null,
      "outputs": [
        {
          "output_type": "stream",
          "name": "stdout",
          "text": [
            "[[ 90  96 102]\n",
            " [216 231 246]\n",
            " [342 366 390]]\n",
            "[[ 90  96 102]\n",
            " [216 231 246]\n",
            " [342 366 390]]\n"
          ]
        }
      ]
    },
    {
      "cell_type": "markdown",
      "source": [
        "#NumPy Trigonometric Functions"
      ],
      "metadata": {
        "id": "PVA8hK81iIZk"
      }
    },
    {
      "cell_type": "code",
      "source": [
        "# pirnting sin value in degree and in radian\n",
        "print(\"Sin\")\n",
        "print(\"In Degree: \", npy.sin(90))\n",
        "print(\"In Radian: \", npy.sin( 90 * npy.pi/180 ))\n",
        "\n",
        "print(\"Cos\")\n",
        "print(\"In Degree: \", npy.cos(90))\n",
        "print(\"In Radian: \", npy.cos( 90 * npy.pi/180 ))\n"
      ],
      "metadata": {
        "colab": {
          "base_uri": "https://localhost:8080/"
        },
        "id": "IDmViWxSiKgE",
        "outputId": "887fd6b7-b06e-46ec-9fbd-e52536eb7a3a"
      },
      "execution_count": null,
      "outputs": [
        {
          "output_type": "stream",
          "name": "stdout",
          "text": [
            "Sin\n",
            "In Degree:  0.8939966636005579\n",
            "In Radian:  1.0\n",
            "Cos\n",
            "In Degree:  -0.4480736161291701\n",
            "In Radian:  6.123233995736766e-17\n"
          ]
        }
      ]
    },
    {
      "cell_type": "markdown",
      "source": [
        "# 10 Dec 2k22\n",
        "\n",
        "\n"
      ],
      "metadata": {
        "id": "mo0zFROiBIS_"
      }
    },
    {
      "cell_type": "code",
      "source": [
        "np.__version__"
      ],
      "metadata": {
        "colab": {
          "base_uri": "https://localhost:8080/",
          "height": 35
        },
        "id": "HFUbOJg2BYgh",
        "outputId": "caf968d3-a7a2-4bc9-e329-b26c8b408047"
      },
      "execution_count": 3,
      "outputs": [
        {
          "output_type": "execute_result",
          "data": {
            "text/plain": [
              "'1.21.6'"
            ],
            "application/vnd.google.colaboratory.intrinsic+json": {
              "type": "string"
            }
          },
          "metadata": {},
          "execution_count": 3
        }
      ]
    },
    {
      "cell_type": "code",
      "source": [
        "x = 4\n",
        "print(type(x))\n",
        "x = \"four\"\n",
        "print(type(x))"
      ],
      "metadata": {
        "colab": {
          "base_uri": "https://localhost:8080/"
        },
        "id": "bX5Nn62zCqGH",
        "outputId": "f0989259-2802-406b-81a2-b8ad7ec46bf8"
      },
      "execution_count": 7,
      "outputs": [
        {
          "output_type": "stream",
          "name": "stdout",
          "text": [
            "<class 'int'>\n",
            "<class 'str'>\n"
          ]
        }
      ]
    },
    {
      "cell_type": "markdown",
      "source": [
        "list"
      ],
      "metadata": {
        "id": "I1_h8mluEieX"
      }
    },
    {
      "cell_type": "code",
      "source": [
        "x = list(range(1,3))\n",
        "x"
      ],
      "metadata": {
        "colab": {
          "base_uri": "https://localhost:8080/"
        },
        "id": "j8aAYMmTEhFP",
        "outputId": "f2e8afe9-a32e-499a-984f-321e06ab323d"
      },
      "execution_count": 12,
      "outputs": [
        {
          "output_type": "execute_result",
          "data": {
            "text/plain": [
              "[1, 2]"
            ]
          },
          "metadata": {},
          "execution_count": 12
        }
      ]
    },
    {
      "cell_type": "code",
      "source": [
        "# list of string\n",
        "x = list( str(c) for c in range(1,11))\n",
        "print( type(x[0]) )\n",
        "x"
      ],
      "metadata": {
        "colab": {
          "base_uri": "https://localhost:8080/"
        },
        "id": "zflA8MizE4gv",
        "outputId": "f10e7bb3-2182-4ebf-8c12-784b7cabf58c"
      },
      "execution_count": 18,
      "outputs": [
        {
          "output_type": "stream",
          "name": "stdout",
          "text": [
            "<class 'str'>\n"
          ]
        },
        {
          "output_type": "execute_result",
          "data": {
            "text/plain": [
              "['1', '2', '3', '4', '5', '6', '7', '8', '9', '10']"
            ]
          },
          "metadata": {},
          "execution_count": 18
        }
      ]
    },
    {
      "cell_type": "code",
      "source": [
        "x = [1,\"hi\",True,0.8]\n",
        "for i in x:\n",
        "    print(type(i),\"\\n\")"
      ],
      "metadata": {
        "colab": {
          "base_uri": "https://localhost:8080/"
        },
        "id": "6G8qWigLGNVW",
        "outputId": "a8490e6d-5a89-478f-befa-d2e3c95bc93c"
      },
      "execution_count": 22,
      "outputs": [
        {
          "output_type": "stream",
          "name": "stdout",
          "text": [
            "<class 'int'> \n",
            "\n",
            "<class 'str'> \n",
            "\n",
            "<class 'bool'> \n",
            "\n",
            "<class 'float'> \n",
            "\n"
          ]
        }
      ]
    },
    {
      "cell_type": "markdown",
      "source": [
        "creating a multi dimentional array from numpy array"
      ],
      "metadata": {
        "id": "VZGHNa9oIaa8"
      }
    },
    {
      "cell_type": "code",
      "source": [
        "x = np.array([ range(i, i+2) for i in [1,2,3]] ) \n",
        "print(x)"
      ],
      "metadata": {
        "colab": {
          "base_uri": "https://localhost:8080/"
        },
        "id": "yDJmV6tiIfk6",
        "outputId": "eb285b1a-a98f-415e-cd8c-1cd8ff796620"
      },
      "execution_count": 28,
      "outputs": [
        {
          "output_type": "stream",
          "name": "stdout",
          "text": [
            "[[1 2]\n",
            " [2 3]\n",
            " [3 4]]\n"
          ]
        }
      ]
    },
    {
      "cell_type": "markdown",
      "source": [
        "Integer array of length 10 consist of zeros"
      ],
      "metadata": {
        "id": "U_KHb7SqJvga"
      }
    },
    {
      "cell_type": "code",
      "source": [
        "x = np.zeros(10, dtype=\"int\")\n",
        "x"
      ],
      "metadata": {
        "colab": {
          "base_uri": "https://localhost:8080/"
        },
        "id": "RLryjHacJuMC",
        "outputId": "56df5623-e074-4b13-d320-eb84b559160d"
      },
      "execution_count": 32,
      "outputs": [
        {
          "output_type": "execute_result",
          "data": {
            "text/plain": [
              "array([0, 0, 0, 0, 0, 0, 0, 0, 0, 0])"
            ]
          },
          "metadata": {},
          "execution_count": 32
        }
      ]
    },
    {
      "cell_type": "markdown",
      "source": [
        "Creating a 3 x 5 array filled consist of 1"
      ],
      "metadata": {
        "id": "gbkcQuxIKT_h"
      }
    },
    {
      "cell_type": "code",
      "source": [
        "x = np.array( [(i,i,i,i,i) for i in [1,1,1]], dtype=float)\n",
        "print(x)\n",
        "\n",
        "# or\n",
        "\n",
        "x = np.ones((3,5), dtype=float)\n",
        "print(x)"
      ],
      "metadata": {
        "colab": {
          "base_uri": "https://localhost:8080/"
        },
        "id": "w6HDSzHLJm-I",
        "outputId": "d0029ff8-3f6f-4870-a2d9-03e45b569f2e"
      },
      "execution_count": 40,
      "outputs": [
        {
          "output_type": "stream",
          "name": "stdout",
          "text": [
            "[[1. 1. 1. 1. 1.]\n",
            " [1. 1. 1. 1. 1.]\n",
            " [1. 1. 1. 1. 1.]]\n",
            "[[1. 1. 1. 1. 1.]\n",
            " [1. 1. 1. 1. 1.]\n",
            " [1. 1. 1. 1. 1.]]\n"
          ]
        }
      ]
    },
    {
      "cell_type": "markdown",
      "source": [
        "creating array of 3.14 of dimention 3x4"
      ],
      "metadata": {
        "id": "PomCArGhMVXc"
      }
    },
    {
      "cell_type": "code",
      "source": [
        "np.full((3,4), 3.14)"
      ],
      "metadata": {
        "colab": {
          "base_uri": "https://localhost:8080/"
        },
        "id": "UnRk6FskLKAa",
        "outputId": "50cf3c82-7134-4d26-885d-32f0a18e1c12"
      },
      "execution_count": 41,
      "outputs": [
        {
          "output_type": "execute_result",
          "data": {
            "text/plain": [
              "array([[3.14, 3.14, 3.14, 3.14],\n",
              "       [3.14, 3.14, 3.14, 3.14],\n",
              "       [3.14, 3.14, 3.14, 3.14]])"
            ]
          },
          "metadata": {},
          "execution_count": 41
        }
      ]
    },
    {
      "cell_type": "markdown",
      "source": [
        "Create an array filled with a Linear sequence\n",
        "Starting at 0, ending at 20, stepping by 2"
      ],
      "metadata": {
        "id": "B9fzM-ucMzJf"
      }
    },
    {
      "cell_type": "code",
      "source": [
        "print(np.arange(0,20,2))\n",
        "for i in range(0,20,2):\n",
        "    print(i)"
      ],
      "metadata": {
        "colab": {
          "base_uri": "https://localhost:8080/"
        },
        "id": "ne882XYyM3jY",
        "outputId": "923b046d-1116-4a68-f00d-8f947beeffa3"
      },
      "execution_count": 50,
      "outputs": [
        {
          "output_type": "stream",
          "name": "stdout",
          "text": [
            "[ 0  2  4  6  8 10 12 14 16 18]\n",
            "0\n",
            "2\n",
            "4\n",
            "6\n",
            "8\n",
            "10\n",
            "12\n",
            "14\n",
            "16\n",
            "18\n"
          ]
        }
      ]
    },
    {
      "cell_type": "markdown",
      "source": [
        "creating an array of five values evenly spaces between 0 to 1"
      ],
      "metadata": {
        "id": "dQXfRMG1PCb6"
      }
    },
    {
      "cell_type": "code",
      "source": [
        "np.linspace(0,1,5)"
      ],
      "metadata": {
        "colab": {
          "base_uri": "https://localhost:8080/"
        },
        "id": "vZvAWhrxPBMl",
        "outputId": "bc70b4e6-b689-4aa3-f338-312cf15e6b57"
      },
      "execution_count": 55,
      "outputs": [
        {
          "output_type": "execute_result",
          "data": {
            "text/plain": [
              "array([0.  , 0.25, 0.5 , 0.75, 1.  ])"
            ]
          },
          "metadata": {},
          "execution_count": 55
        }
      ]
    }
  ]
}